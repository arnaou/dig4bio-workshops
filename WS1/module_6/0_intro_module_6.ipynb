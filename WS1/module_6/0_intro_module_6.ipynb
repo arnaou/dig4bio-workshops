{
 "cells": [
  {
   "cell_type": "markdown",
   "metadata": {},
   "source": [
    "# Module 4\n",
    "\n",
    "in this modules, we will explore the following concepts\n",
    "\n",
    "1. Mass transfer\n",
    "2. Diafiiltration\n",
    "3. Cell lysis"
   ]
  }
 ],
 "metadata": {
  "language_info": {
   "name": "python"
  }
 },
 "nbformat": 4,
 "nbformat_minor": 2
}
