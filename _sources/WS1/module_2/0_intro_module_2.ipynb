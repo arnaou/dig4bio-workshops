{
 "cells": [
  {
   "cell_type": "markdown",
   "metadata": {},
   "source": [
    "# Module 2\n",
    "\n",
    "in this modules, we will explore the following concepts\n",
    "\n",
    "1. Dictionaries & Sets\n",
    "2. Dataframes\n",
    "3. Numpy\n",
    "4. Visualizations"
   ]
  }
 ],
 "metadata": {
  "language_info": {
   "name": "python"
  }
 },
 "nbformat": 4,
 "nbformat_minor": 2
}
