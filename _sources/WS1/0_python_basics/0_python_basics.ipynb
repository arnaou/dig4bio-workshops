{
 "cells": [
  {
   "cell_type": "markdown",
   "metadata": {},
   "source": [
    "# Introduction to Python"
   ]
  },
  {
   "cell_type": "markdown",
   "metadata": {},
   "source": [
    "## Objective\n",
    "This is a practical course designed for chemical engineers that want to learn how to program in Python. \n",
    "The course is very practical and will cover various topics, such as basic Python syntax, solving ODEs, stoichiometry, data visualization and basic data analysis."
   ]
  },
  {
   "cell_type": "markdown",
   "metadata": {},
   "source": [
    "## Introduction\n",
    "Recently, more and more chemical and biochemical engineering students have expressed the desire to acquire basic programming skills early on in their career, with Python being the most requested language by far.\n",
    "Therefore, we aim to provide material and practical tutorials to learn Python, so that you have the opportunity to use Python to solve the exercises and assignments.\n",
    "\n",
    "This course is designed to be very practical since the best way to learn how to program is by programming. You will start writing and executing code from day 1, through carefully designed exercises.\n",
    "The target of this course is students and professionals in Chemical and bhichemical Engineering that want to learn how to program in Python.\n",
    "\n",
    "The course may be challenging and overwhelming at the beginning, but don't worry if you don't manage to complete everything.\n",
    "Each theme has a series of exercices that you can complete at your own pace.\n",
    "\n",
    "There is a [discussion tab](https://github.com/arnaou/dig4bio-workshops/discussions/1) on the github repository where you can post any questions your might have."
   ]
  },
  {
   "cell_type": "markdown",
   "metadata": {},
   "source": [
    "## Why Python?\n",
    "Python is one of the most popular languages in use today, thanks to its easy syntax, readability, libraries available and broad documentation. \n",
    "It is open-source, unlike other very popular programs such as MATLAB, which require a license.\n",
    "It has a big community, meaning that other people have probably already asked any possible question you might be having right now.\n",
    "Some forums where to ask and look for questions: [StackOverflow](https://stackoverflow.com/) (for practical questions about code), [StackExchange](https://stackexchange.com/) (for more theoretical questions).\n",
    "It is the to-go language for data analysis and data science, both in academia and industry.\n",
    "\n",
    "In this course, we will use Python 3.8."
   ]
  },
  {
   "cell_type": "markdown",
   "metadata": {},
   "source": [
    "## Schedule"
   ]
  },
  {
   "cell_type": "markdown",
   "metadata": {},
   "source": [
    "## Learning Objectives"
   ]
  },
  {
   "cell_type": "markdown",
   "metadata": {},
   "source": [
    "## Helpful tips and tricks before starting\n",
    "\n",
    "\"The most effective debugging tool is still careful thought, coupled with judiciously placed print statements.\"\n",
    "\n",
    "— Brian Kernighan, \"Unix for Beginners\" (1979)\n",
    "\n",
    "1. **The best way to learn how to program is by programming**. It's normal that you cannot solve everything and you are overwhelmed at the beginning. Don't give up and just practice.\n",
    "2. **Write, test and improve code.** Do not expect to write a full program in one sitting: most programmers write, test and rewrite code many times before their program works, so do not get discouraged!\n",
    "3. **Brainstorm first.** Instead of reading a problem and looking for a solution on the Internet, try to think about it yourself. Re-read the problem, brainstorm possible solutions and try to write some code. Make sure that you actually understand what is asked. Only after you have spent sufficient time on this, look for hints elsewhere.\n",
    "4. **Learn to comment your code early on.** Before coding, visualize what you plan to do and describe it in plain, non-technical text on paper. Try to be as detailed as possible and include all the steps, even the smallest ones. This will be helpful at the beginning of your coding experience to guide you through the process and ensure you do not forget important steps. Later on, when you are more comfortable coding, it will be helpful for reference for you or other teammates. Remember that just because something seems easy for you, it does not mean your colleague can read your code and understand it right away. This is a very important principle for code deployment.\n",
    "5. **Understand what the program is doing.** It is important that you understand what your program is doing. Often, it is useful to simply *print* what you are doing, this is an easy way to visualize, and therefore better understand, the output. This approach is called tracing or printf() debugging, after the print function name in the C language)."
   ]
  },
  {
   "cell_type": "markdown",
   "metadata": {},
   "source": [
    ":::{note}\n",
    "this course has been taken and adapted from The course [*Chemical Reaction engineering in Python*](https://github.com/FiammettaC/Chemical-Reaction-Engineering-in-Python) by Fiammetta Caccavale.\n",
    ":::"
   ]
  }
 ],
 "metadata": {
  "language_info": {
   "name": "python"
  }
 },
 "nbformat": 4,
 "nbformat_minor": 2
}
