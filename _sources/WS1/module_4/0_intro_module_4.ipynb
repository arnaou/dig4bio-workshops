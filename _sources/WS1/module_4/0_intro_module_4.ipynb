{
 "cells": [
  {
   "cell_type": "markdown",
   "metadata": {},
   "source": [
    "# Module 4\n",
    "\n",
    "in this modules, we will explore the following concepts\n",
    "\n",
    "1. Reactor design\n",
    "2. Mass and energy balances"
   ]
  }
 ],
 "metadata": {
  "language_info": {
   "name": "python"
  }
 },
 "nbformat": 4,
 "nbformat_minor": 2
}
