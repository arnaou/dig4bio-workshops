{
 "cells": [
  {
   "cell_type": "markdown",
   "metadata": {},
   "source": [
    "# Data-driven Modelling"
   ]
  },
  {
   "cell_type": "markdown",
   "metadata": {},
   "source": [
    "This document provides an overview of data-driven modeling techniques frequently used in chemical and biochemical engineering for predictive modeling, optimization, and process control. Each model has unique strengths and is suitable for different types of data and tasks. Here, we introduce the following models:\n",
    "\n",
    "* Gaussian Process Regression (GPR)\n",
    "* Support Vector Regression (SVR)\n",
    "* Random Forests (RF)\n",
    "* XGBoost\n",
    "* Deep Neural Networks (DNN)"
   ]
  },
  {
   "cell_type": "markdown",
   "metadata": {},
   "source": [
    "## 1. Gaussian Process Regression (GPR)\n",
    "Gaussian Process Regression (GPR) is a non-parametric, probabilistic model that assumes a Gaussian distribution for data points. This model is well-suited for applications with small datasets and when uncertainty estimation is valuable.\n",
    "\n",
    "**Characteristics:**\n",
    "* Provides a probability distribution over possible functions that fit the data.\n",
    "* Useful for small datasets due to high computational cost for large datasets.\n",
    "* Naturally incorporates uncertainty estimation, which is helpful in safety-critical applications.\n",
    "\n",
    "**Common Applications:**\n",
    "* Prediction of reaction rates and yield with small data.\n",
    "* Process control where uncertainty quantification is important.\n",
    "\n",
    "**Advantages:**\n",
    "* Provides confidence intervals for predictions.\n",
    "* Captures nonlinear relationships in data.\n",
    "\n",
    "**Limitations:**\n",
    "* Computationally intensive for large datasets.\n",
    "* Sensitive to the choice of kernel function (e.g., RBF kernel)."
   ]
  },
  {
   "cell_type": "markdown",
   "metadata": {},
   "source": [
    "## 2. Support Vector Regression (SVR)\n",
    "Support Vector Regression (SVR) is a type of Support Vector Machine (SVM) adapted for regression tasks. It is particularly effective in high-dimensional spaces and can handle nonlinear relationships using kernel functions.\n",
    "\n",
    "**Characteristics:**\n",
    "* Constructs a hyperplane in a high-dimensional space that best fits the data.\n",
    "* The margin around the hyperplane is controlled by an error tolerance (epsilon) and penalty parameter (C).\n",
    "\n",
    "**Common Applications:**\n",
    "* Predicting physicochemical properties (e.g., viscosity, solubility).\n",
    "* Modeling complex relationships in reaction conditions and yields.\n",
    "\n",
    "**Advantages:**\n",
    "* Works well with high-dimensional data.\n",
    "* Flexible with choice of kernel functions for nonlinearity (e.g., RBF, polynomial).\n",
    "\n",
    "**Limitations:**\n",
    "* Requires tuning of hyperparameters (C, epsilon).\n",
    "* Less interpretable compared to simpler models like linear regression."
   ]
  },
  {
   "cell_type": "markdown",
   "metadata": {},
   "source": [
    "## 3. Random Forests (RF)\n",
    "Random Forests (RF) are ensemble models that use a collection of decision trees to make predictions. Each tree is trained on a random subset of the data, and the final prediction is an average (for regression) or majority vote (for classification).\n",
    "\n",
    "**Characteristics:**\n",
    "* Ensemble method that reduces overfitting by averaging multiple decision trees.\n",
    "* Effective in handling high-dimensional and noisy data.\n",
    "\n",
    "**Common Applications:**\n",
    "* Predicting reaction yields and conversion rates.\n",
    "* Feature selection and importance analysis.\n",
    "\n",
    "**Advantages:**\n",
    "* Robust to overfitting and can handle large datasets well.\n",
    "* Provides feature importance metrics for interpretability.\n",
    "\n",
    "**Limitations:**\n",
    "* Can be less accurate for datasets with strong temporal dependencies.\n",
    "* Requires sufficient data to perform well, particularly with many variables."
   ]
  },
  {
   "cell_type": "markdown",
   "metadata": {},
   "source": [
    "## 4. XGBoost\n",
    "XGBoost (eXtreme Gradient Boosting) is an optimized version of gradient-boosted decision trees, designed for speed and accuracy. It is highly popular in data-driven modeling due to its efficiency and competitive performance.\n",
    "\n",
    "**Characteristics:**\n",
    "* Sequentially builds decision trees, where each tree corrects errors made by the previous one.\n",
    "* Optimized for computational speed and resource efficiency.\n",
    "\n",
    "**Common Applications:**\n",
    "* Yield prediction, particularly with complex and high-dimensional data.\n",
    "* Process parameter optimization and sensitivity analysis.\n",
    "\n",
    "**Advantages:**\n",
    "* Highly efficient and can handle large datasets.\n",
    "* Incorporates regularization to control overfitting.\n",
    "\n",
    "**Limitations:**\n",
    "* Requires careful tuning of hyperparameters (e.g., learning rate, number of trees).\n",
    "* Complex to interpret due to sequential nature of boosting"
   ]
  },
  {
   "cell_type": "markdown",
   "metadata": {},
   "source": [
    "## 5. Deep Neural Networks (DNN)\n",
    "Deep Neural Networks (DNN) are multilayered networks of artificial neurons designed to model complex, nonlinear relationships in data. They are highly flexible and can approximate intricate functions, making them suitable for many chemical and biochemical engineering applications.\n",
    "\n",
    "**Characteristics:**\n",
    "* Composed of multiple layers of neurons, including input, hidden, and output layers.\n",
    "* Each neuron applies a non-linear transformation to its inputs, allowing the model to capture complex patterns.\n",
    "\n",
    "**Common Applications:**\n",
    "* Modeling nonlinear relationships in large, high-dimensional datasets.\n",
    "* Predictive maintenance, fault detection, and optimization tasks.\n",
    "\n",
    "**Advantages:**\n",
    "* Highly flexible and powerful for capturing complex, nonlinear relationships.\n",
    "* Scalable to very large datasets with appropriate hardware (e.g., GPUs).\n",
    "\n",
    "**Limitations:**\n",
    "* Requires large datasets to avoid overfitting and realize full potential.\n",
    "* Often viewed as a \"black box,\" making interpretability challenging."
   ]
  },
  {
   "cell_type": "markdown",
   "metadata": {},
   "source": [
    "## Model Comparison and Selection\n",
    "\n",
    "<img src=\"../../media/WS2/model_comparaison.png\" \n",
    "        alt=\"Picture\" \n",
    "        width=\"600\" \n",
    "        height=\"300\" \n",
    "        style=\"display: block; margin: 0 auto\" />"
   ]
  }
 ],
 "metadata": {
  "language_info": {
   "name": "python"
  }
 },
 "nbformat": 4,
 "nbformat_minor": 2
}