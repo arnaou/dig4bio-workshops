{
 "cells": [
  {
   "cell_type": "markdown",
   "metadata": {
    "id": "lNpEVe-IFq-E"
   },
   "source": [
    "Created on Thu Sep  6 13:34:32 2018\n",
    "By Simoneta Cano de las Heras\n",
    "\n",
    "Adapted by Mariana Albino, October 2024"
   ]
  },
  {
   "cell_type": "markdown",
   "metadata": {
    "id": "p2EXHEfGp956"
   },
   "source": [
    "# Aerobic fermentation model (S. cerevisiae)\n",
    "\n",
    "This model describes an aerobic batch *S. cerevisiae* fermentation. It uses Monod-Herbert expressions to describe the kinetics of the process. It can take into account the metabolic heat produced by the cells, in which case a PID controller is used to maintain a stable temperature"
   ]
  },
  {
   "cell_type": "markdown",
   "metadata": {
    "id": "Pfafh7qhq1Nf"
   },
   "source": [
    "# Package import\n",
    "\n",
    "This portion of the code handles the import of all the relevant python packages."
   ]
  },
  {
   "cell_type": "code",
   "execution_count": 1,
   "metadata": {
    "id": "zx05SHbTF8Mh"
   },
   "outputs": [
    {
     "ename": "ModuleNotFoundError",
     "evalue": "No module named 'scipy'",
     "output_type": "error",
     "traceback": [
      "\u001b[1;31m---------------------------------------------------------------------------\u001b[0m",
      "\u001b[1;31mModuleNotFoundError\u001b[0m                       Traceback (most recent call last)",
      "Cell \u001b[1;32mIn[1], line 3\u001b[0m\n\u001b[0;32m      1\u001b[0m \u001b[38;5;66;03m#import the necesary packages\u001b[39;00m\n\u001b[1;32m----> 3\u001b[0m \u001b[38;5;28;01mfrom\u001b[39;00m \u001b[38;5;21;01mscipy\u001b[39;00m\u001b[38;5;21;01m.\u001b[39;00m\u001b[38;5;21;01mintegrate\u001b[39;00m \u001b[38;5;28;01mimport\u001b[39;00m odeint\n\u001b[0;32m      4\u001b[0m \u001b[38;5;66;03m#Package for plotting\u001b[39;00m\n\u001b[0;32m      5\u001b[0m \u001b[38;5;28;01mimport\u001b[39;00m \u001b[38;5;21;01mmath\u001b[39;00m\n",
      "\u001b[1;31mModuleNotFoundError\u001b[0m: No module named 'scipy'"
     ]
    }
   ],
   "source": [
    "#import the necesary packages\n",
    "\n",
    "from scipy.integrate import odeint\n",
    "#Package for plotting\n",
    "import math\n",
    "#Package for the use of vectors and matrix\n",
    "import numpy as np\n",
    "import array as arr\n",
    "from matplotlib.figure import Figure\n",
    "import sys\n",
    "import os\n",
    "import matplotlib.pyplot as plt\n",
    "from matplotlib.ticker import FormatStrFormatter\n",
    "import glob\n",
    "from random import sample\n",
    "import random\n",
    "import time\n",
    "import plotly.graph_objects as go\n",
    "import plotly\n",
    "import json\n",
    "import pandas as pd"
   ]
  },
  {
   "cell_type": "markdown",
   "metadata": {
    "id": "-YufqxWUq-yv"
   },
   "source": [
    "# Model definition\n",
    "\n",
    "The model is defined by using a class. This has several adavantages, one being that different classes can be defined independtly, e.g., one class represents the model definition while another will handle parameter optimization with experimental data. The same \"optimization\" class can be used with different model classes, so the code becomes more easily reusable.\n",
    "\n",
    "The class Monod_Herbert includes several functions, each with a specific function.\n",
    "\n",
    "\n",
    "\n",
    "1.   **_init_** This function initialises the model class by defining all the relavant parameters and initial conditions.\n",
    "2.   **rxn** This function includes all the model equations. The model uses matrix notation to define the ODEs\n",
    "3. **solve** This function generates the timesteps for solving the ODEs. It includes an approach for when the \"CONTROL\" option is turned OFF and an approach that solves a PDI controller for temperature control, for when the \"CONTROL\" feature is ON.\n",
    "4. **create_plot** This function stores the results of the simulation on a dataframe which is used for plotting all relevant variables.\n",
    "\n"
   ]
  },
  {
   "cell_type": "code",
   "execution_count": 2,
   "metadata": {
    "id": "voX_Oe83IDvE"
   },
   "outputs": [],
   "source": [
    "class Monod_Herbert:\n",
    "  #initialise the model\n",
    "    def __init__(self, Control=False):  #change to Control=True if you want to see the effect of Temperature control\n",
    "         # define value of model parameters\n",
    "        self.Y_XS = 0.8\n",
    "        self.Y_OX = 1.05\n",
    "        self.y_x = 0.5\n",
    "        self.mu_max = 1.1\n",
    "        self.Ks = 0.17\n",
    "        self.kd = 0.08\n",
    "        self.kla = 1004\n",
    "        self.O_sat = 0.0755\n",
    "\n",
    "        #define initial conditions\n",
    "        self.G0 = 18\n",
    "        self.O0 = 0.0755\n",
    "        self.X0 = 0.01\n",
    "        self.V0 = 40\n",
    "\n",
    "        #define parameters for control, default every 1/24 hours:\n",
    "        self.t_end = 30\n",
    "        self.t_start = 0\n",
    "        self.Control = False\n",
    "        self.coolingOn = True\n",
    "        self.steps = (self.t_end - self.t_start)*24\n",
    "        self.T0 = 30\n",
    "        self.K_p = 2.31e+01\n",
    "        self.K_i = 3.03e-01\n",
    "        self.K_d = -3.58e-03\n",
    "        self.Tset = 30\n",
    "        self.u_max = 150\n",
    "        self.u_min = 1\n",
    "\n",
    "\n",
    "\n",
    "\n",
    "    #define the stoichiometric matrix\n",
    "    def rxn(self, C,t, u):\n",
    "        #when there is no control, k has no effect\n",
    "        k=1\n",
    "        #when cooling is off than u = 0\n",
    "        if self.coolingOn == False:\n",
    "            u = 0  #flow of cooling water\n",
    "      #define temperature controller\n",
    "        if self.Control == True :\n",
    "            #Cardinal temperature model with inflection: Salvado et al 2011 \"Temperature Adaptation Markedly Determines Evolution within the Genus Saccharomyces\"\n",
    "            #Strain S. cerevisiae PE35 M\n",
    "\n",
    "            #How is the growth rate of the organism affected by the changes in temperature\n",
    "            Topt = 30\n",
    "            Tmax = 45.48\n",
    "            Tmin = 5.04\n",
    "            T = C[4]\n",
    "            if T < Tmin or T > Tmax:\n",
    "                 k = 0  #growth rate\n",
    "            else:\n",
    "                 D = (T-Tmax)*(T-Tmin)**2\n",
    "                 E = (Topt-Tmin)*((Topt-Tmin)*(T-Topt)-(Topt-Tmax)*(Topt+Tmin-2*T))\n",
    "                 k = D/E\n",
    "\n",
    "        #number of components\n",
    "        n = 3\n",
    "        m = 3\n",
    "        #initialize the stoichiometric matrix, s\n",
    "        s = np.zeros((m,n))\n",
    "        s[0,0] = -1/self.Y_XS\n",
    "        s[0,1] = -1/self.Y_OX\n",
    "        s[0,2] = 1\n",
    "\n",
    "\n",
    "        s[1,0] = 0\n",
    "        s[1,1] = 1/self.y_x\n",
    "        s[1,2] = -1\n",
    "\n",
    "        s[2,0] = 0\n",
    "        s[2,1] = self.kla\n",
    "        s[2,2] = 0\n",
    "        #initialize the rate vector\n",
    "        rho = np.zeros((m,1))\n",
    "        ##initialize the overall conversion vector\n",
    "        r=np.zeros((n,1))\n",
    "        rho[0,0] = self.mu_max*(C[0]/(C[0]+self.Ks))*C[2]\n",
    "        rho[1,0] = self.kd*C[2]\n",
    "        rho[2,0] = self.kla*(self.O_sat - C[1])\n",
    "\n",
    "        #Developing the matrix, the overall conversion rate is stoichiometric *rates\n",
    "        r[0,0] = (s[0,0]*rho[0,0])+(s[1,0]*rho[1,0])+(s[2,0]*rho[2,0])\n",
    "        r[1,0] = (s[0,1]*rho[0,0])+(s[1,1]*rho[1,0])+(s[2,1]*rho[2,0])\n",
    "        r[2,0] = (s[0,2]*rho[0,0])+(s[1,2]*rho[1,0])+(s[2,2]*rho[2,0])\n",
    "\n",
    "\n",
    "        #Solving the mass balances\n",
    "        dSdt = r[0,0]\n",
    "        dOdt = r[1,0]\n",
    "        dXdt = r[2,0]\n",
    "        dVdt = 0\n",
    "        if self.Control == True :\n",
    "            '''\n",
    "\n",
    "             dHrxn heat produced by cells estimated by yeast heat combustion coeficcient dhc0 = -21.2 kJ/g\n",
    "\n",
    "             dHrxn = dGdt*V*dhc0(G)-dEdt*V*dhc0(E)-dXdt*V*dhc0(X)\n",
    "\n",
    "             (when cooling is working)  Q = - dHrxn -W ,\n",
    "\n",
    "             dT = V[L] * 1000 g/L / 4.1868 [J/gK]*dE [kJ]*1000 J/KJ\n",
    "\n",
    "             dhc0(EtOH) = -1366.8 kJ/gmol/46 g/gmol [KJ/g]\n",
    "\n",
    "             dhc0(Glc) = -2805 kJ/gmol/180g/gmol [KJ/g]\n",
    "\n",
    "\n",
    "\n",
    "            '''\n",
    "            #Metabolic heat: [W]=[J/s], dhc0 from book \"Bioprocess Engineering Principles\" (Pauline M. Doran) : Appendix Table C.8\n",
    "            dHrxndt =   dXdt*C[4]*(-21200) #[J/s]\n",
    "            #Shaft work 1 W/L1\n",
    "            W = -1*C[4] #[J/S] negative because exothermic\n",
    "\n",
    "\n",
    "            #Mass flow cooling water\n",
    "            M=u/3600*1000 #[kg/s]\n",
    "            #Define Tin = 5 C, Tout=TReactor\n",
    "            #heat capacity water = 4190 J/kgK\n",
    "            Tin = 5\n",
    "            #Estimate water at outlet same as Temp in reactor\n",
    "            Tout = C[4]\n",
    "            cpc = 4190\n",
    "            #Calculate Q from Eq 9.47\n",
    "            Q=-M*cpc*(Tout-Tin) # J/s\n",
    "            #Calculate Temperature change\n",
    "            dTdt = -1*(dHrxndt - Q + W)/(C[4]*1000*4.1868) #[K/s]\n",
    "        else:\n",
    "            dTdt = 0\n",
    "        return [dSdt, dOdt, dXdt, dVdt, dTdt]\n",
    "\n",
    "\n",
    "    def solve(self):\n",
    "\n",
    "        t = np.linspace(self.t_start, self.t_end, self.steps) #generation of the time-points\n",
    "\n",
    "        #solve if Control is OFF:\n",
    "        if self.Control == False :\n",
    "            u = 0\n",
    "            C0 = [self.G0,  self.O0, self.X0,self.V0, self.T0]   #initial conditions vector\n",
    "            C = odeint(self.rxn, C0, t, rtol = 1e-7, mxstep= 500000, args=(u,)) #solve ODEs\n",
    "\n",
    "        #solve for Control ON\n",
    "        else:\n",
    "            \"\"\"\n",
    "\n",
    "            PID Temperature Control:\n",
    "\n",
    "            \"\"\"\n",
    "            # storage for recording values\n",
    "            C = np.ones([len(t), 5])\n",
    "            C0 = [self.G0, self.O0, self.X0,self.V0,self.T0]\n",
    "            self.ctrl_output = np.zeros(len(t)) # controller output\n",
    "            e = np.zeros(len(t)) # error\n",
    "            ie = np.zeros(len(t)) # integral of the error\n",
    "            dpv = np.zeros(len(t)) # derivative of the pv\n",
    "            P = np.zeros(len(t)) # proportional\n",
    "            I = np.zeros(len(t)) # integral\n",
    "            D = np.zeros(len(t)) # derivative\n",
    "\n",
    "            for i in range(len(t)-1):\n",
    "\n",
    "                #PID control of cooling water\n",
    "                dt = t[i+1]-t[i]\n",
    "                #Error\n",
    "                e[i] = C[i,4] - self.Tset\n",
    "                #print(e[i])\n",
    "                if i >= 1:\n",
    "                    dpv[i] = (C[i,4]-C[i-1,4])/dt\n",
    "                    ie[i] = ie[i-1] + e[i] * dt\n",
    "\n",
    "                #print(ie)\n",
    "                P[i]=self.K_p*e[i]\n",
    "                I[i]=self.K_i*ie[i]\n",
    "                D[i]=self.K_d*dpv[i]\n",
    "\n",
    "                self.ctrl_output[i]=P[i]+I[i]+D[i]\n",
    "                u=self.ctrl_output[i]\n",
    "\n",
    "                #print(u)\n",
    "                if u>self.u_max:\n",
    "                    u=self.u_max\n",
    "                    ie[i] = ie[i] - e[i]*dt # anti-reset windup\n",
    "\n",
    "                if u < self.u_min:\n",
    "                    u =self.u_min\n",
    "                    ie[i] = ie[i] - e[i]*dt # anti-reset windup\n",
    "\n",
    "                #print(u)\n",
    "\n",
    "                if i > 0 and e[i] * e[i-1] < 0:\n",
    "                  ie[i] = 0\n",
    "                #time for solving ODE\n",
    "                ts = [t[i],t[i+1]]\n",
    "\n",
    "                #solve ODE from last timepoint to new timepoint with old values\n",
    "\n",
    "                y =  odeint(self.rxn, C0, ts, rtol = 1e-7, mxstep= 500000, args=(u,))\n",
    "                #update C0\n",
    "                C0 = y[-1]\n",
    "                #merge y to C\n",
    "                C[i+1]=y[-1]\n",
    "\n",
    "        return t, C\n",
    "\n",
    "    #generate the plot of model variables\n",
    "\n",
    "    def create_plot(self, t, C):\n",
    "        G = C[:, 0]\n",
    "        O = C[:, 1]\n",
    "        B = C[:, 2]\n",
    "        T = C[:, 4]\n",
    "        df = pd.DataFrame({'t': t, 'Substrate': G, 'Biomass': B, 'Oxygen': O, 'Temperature' :T})\n",
    "        fig = go.Figure()\n",
    "        fig.add_trace(go.Scatter(x=df['t'], y=df['Substrate'], name='Substrate'))\n",
    "        fig.add_trace(go.Scatter(x=df['t'], y=df['Biomass'], name='Biomass'))\n",
    "        fig.add_trace(go.Scatter(x=df['t'], y=df['Oxygen'], name='Oxygen'))\n",
    "        fig.update_layout(                          xaxis_title='time (h)',\n",
    "                          yaxis_title='Concentration (g/L)')\n",
    "        figT =go.Figure()\n",
    "        figT.add_trace(go.Scatter(x=df['t'], y=df['Temperature'], name='Temperature'))\n",
    "        figT.update_layout(xaxis_title='time (h)',\n",
    "                          yaxis_title='Temperature (C)')\n",
    "\n",
    "\n",
    "\n",
    "        return fig, figT"
   ]
  },
  {
   "cell_type": "markdown",
   "metadata": {
    "id": "_pJeig_drCtY"
   },
   "source": [
    "# Extract results and make plots\n",
    "\n",
    "This portion of the code extracts the results from the Monod_Herbert class and creates the figures to display the simulation results."
   ]
  },
  {
   "cell_type": "code",
   "execution_count": 3,
   "metadata": {
    "colab": {
     "base_uri": "https://localhost:8080/",
     "height": 1000
    },
    "executionInfo": {
     "elapsed": 18,
     "status": "ok",
     "timestamp": 1730295329675,
     "user": {
      "displayName": "Mariana Albino",
      "userId": "14583712435379609229"
     },
     "user_tz": -60
    },
    "id": "k2s7hJIkNKpS",
    "outputId": "c52ff5eb-e703-4cdc-b4b1-4c7cb410fa2c"
   },
   "outputs": [
    {
     "ename": "NameError",
     "evalue": "name 'np' is not defined",
     "output_type": "error",
     "traceback": [
      "\u001b[1;31m---------------------------------------------------------------------------\u001b[0m",
      "\u001b[1;31mNameError\u001b[0m                                 Traceback (most recent call last)",
      "Cell \u001b[1;32mIn[3], line 2\u001b[0m\n\u001b[0;32m      1\u001b[0m model \u001b[38;5;241m=\u001b[39m Monod_Herbert() \u001b[38;5;66;03m# Instantiate the Monod_Herbert class\u001b[39;00m\n\u001b[1;32m----> 2\u001b[0m t, C \u001b[38;5;241m=\u001b[39m \u001b[43mmodel\u001b[49m\u001b[38;5;241;43m.\u001b[39;49m\u001b[43msolve\u001b[49m\u001b[43m(\u001b[49m\u001b[43m)\u001b[49m \u001b[38;5;66;03m# Call the solve method to get the simulation results\u001b[39;00m\n\u001b[0;32m      3\u001b[0m fig \u001b[38;5;241m=\u001b[39m model\u001b[38;5;241m.\u001b[39mcreate_plot(t, C)[\u001b[38;5;241m0\u001b[39m] \u001b[38;5;66;03m# Call create_plot with the simulation results\u001b[39;00m\n\u001b[0;32m      4\u001b[0m figT \u001b[38;5;241m=\u001b[39m model\u001b[38;5;241m.\u001b[39mcreate_plot(t, C)[\u001b[38;5;241m1\u001b[39m] \u001b[38;5;66;03m# Call create_plot with the simulation results\u001b[39;00m\n",
      "Cell \u001b[1;32mIn[2], line 140\u001b[0m, in \u001b[0;36mMonod_Herbert.solve\u001b[1;34m(self)\u001b[0m\n\u001b[0;32m    138\u001b[0m \u001b[38;5;28;01mdef\u001b[39;00m \u001b[38;5;21msolve\u001b[39m(\u001b[38;5;28mself\u001b[39m):\n\u001b[1;32m--> 140\u001b[0m     t \u001b[38;5;241m=\u001b[39m \u001b[43mnp\u001b[49m\u001b[38;5;241m.\u001b[39mlinspace(\u001b[38;5;28mself\u001b[39m\u001b[38;5;241m.\u001b[39mt_start, \u001b[38;5;28mself\u001b[39m\u001b[38;5;241m.\u001b[39mt_end, \u001b[38;5;28mself\u001b[39m\u001b[38;5;241m.\u001b[39msteps) \u001b[38;5;66;03m#generation of the time-points\u001b[39;00m\n\u001b[0;32m    142\u001b[0m     \u001b[38;5;66;03m#solve if Control is OFF:\u001b[39;00m\n\u001b[0;32m    143\u001b[0m     \u001b[38;5;28;01mif\u001b[39;00m \u001b[38;5;28mself\u001b[39m\u001b[38;5;241m.\u001b[39mControl \u001b[38;5;241m==\u001b[39m \u001b[38;5;28;01mFalse\u001b[39;00m :\n",
      "\u001b[1;31mNameError\u001b[0m: name 'np' is not defined"
     ]
    }
   ],
   "source": [
    "model = Monod_Herbert() # Instantiate the Monod_Herbert class\n",
    "t, C = model.solve() # Call the solve method to get the simulation results\n",
    "fig = model.create_plot(t, C)[0] # Call create_plot with the simulation results\n",
    "figT = model.create_plot(t, C)[1] # Call create_plot with the simulation results\n",
    "\n",
    "fig.show()\n",
    "figT.show()"
   ]
  },
  {
   "cell_type": "markdown",
   "metadata": {
    "id": "V12O4bYt0yB7"
   },
   "source": [
    "# Using the model\n",
    "\n",
    "With this code you are able to test the behaviour of the process in a more simple case when we assume temperature is constant since the generation of metabolic heat is ignored. You can also turn ON the control option and evaluate the dymamics in Temperature. Furthermore, you can try to test different initila conditions, e.g., initial substrate concentrations (remember, these should be realistic values), and study the impact on the dynamics of Biomass."
   ]
  },
  {
   "cell_type": "code",
   "execution_count": null,
   "metadata": {
    "id": "hZg8TEJy1jWz"
   },
   "outputs": [],
   "source": []
  }
 ],
 "metadata": {
  "colab": {
   "provenance": []
  },
  "kernelspec": {
   "display_name": "Python 3",
   "name": "python3"
  },
  "language_info": {
   "codemirror_mode": {
    "name": "ipython",
    "version": 3
   },
   "file_extension": ".py",
   "mimetype": "text/x-python",
   "name": "python",
   "nbconvert_exporter": "python",
   "pygments_lexer": "ipython3",
   "version": "3.11.9"
  }
 },
 "nbformat": 4,
 "nbformat_minor": 0
}