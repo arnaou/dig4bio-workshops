{
 "cells": [
  {
   "cell_type": "markdown",
   "metadata": {
    "id": "WFIb-BHq5hrP"
   },
   "source": [
    "# Mechanistic model of *S. cerevisiae* in continous stirred tank reactor under aerobic conditions\n",
    "This model describes an aerobic *S. cerevisiae* fermentation with glucose as carbon source in a continous stirred tank reactor. It builds a stochiometric matrix to follow all conversions. The model accounts for the changes of glucose, ethanol, dissolved oxygen, biomass and volume.\n"
   ]
  },
  {
   "cell_type": "markdown",
   "metadata": {
    "id": "hPq90XJ39QaX"
   },
   "source": [
    "# Package import\n",
    "\n",
    "This portion of the code handles the import of all the relevant python packages."
   ]
  },
  {
   "cell_type": "code",
   "execution_count": 1,
   "metadata": {
    "id": "1hDI5LI5celB"
   },
   "outputs": [
    {
     "ename": "ModuleNotFoundError",
     "evalue": "No module named 'scipy'",
     "output_type": "error",
     "traceback": [
      "\u001b[1;31m---------------------------------------------------------------------------\u001b[0m",
      "\u001b[1;31mModuleNotFoundError\u001b[0m                       Traceback (most recent call last)",
      "Cell \u001b[1;32mIn[1], line 1\u001b[0m\n\u001b[1;32m----> 1\u001b[0m \u001b[38;5;28;01mfrom\u001b[39;00m \u001b[38;5;21;01mscipy\u001b[39;00m\u001b[38;5;21;01m.\u001b[39;00m\u001b[38;5;21;01mintegrate\u001b[39;00m \u001b[38;5;28;01mimport\u001b[39;00m odeint\n\u001b[0;32m      2\u001b[0m \u001b[38;5;66;03m#Package for plotting\u001b[39;00m\n\u001b[0;32m      3\u001b[0m \u001b[38;5;28;01mimport\u001b[39;00m \u001b[38;5;21;01mmath\u001b[39;00m\n",
      "\u001b[1;31mModuleNotFoundError\u001b[0m: No module named 'scipy'"
     ]
    }
   ],
   "source": [
    "from scipy.integrate import odeint\n",
    "#Package for plotting\n",
    "import math\n",
    "#Package for the use of vectors and matrix\n",
    "import numpy as np\n",
    "import pandas as pd\n",
    "import array as arr\n",
    "from matplotlib.figure import Figure\n",
    "import sys\n",
    "import os\n",
    "import matplotlib.pyplot as plt\n",
    "from matplotlib.ticker import FormatStrFormatter\n",
    "import glob\n",
    "from random import sample\n",
    "import random\n",
    "import time\n",
    "import plotly\n",
    "import plotly.graph_objs as go\n",
    "import json\n",
    "from plotly.subplots import make_subplots"
   ]
  },
  {
   "cell_type": "markdown",
   "metadata": {
    "id": "QHPtjQBv9lTU"
   },
   "source": [
    "# Model definition\n",
    "\n",
    "The model is defined by using a class. This has several adavantages, one being that different classes can be defined independtly, e.g., one class represents the model definition while another will handle parameter optimization with experimental data. The same \"optimization\" class can be used with different model classes, so the code becomes more easily reusable.\n",
    "\n",
    "The class SCerevisiae includes several functions, each with a specific function.\n",
    "\n",
    "\n",
    "\n",
    "1.   **_init_** This function initialises the model class by defining all the relavant parameters and initial conditions.\n",
    "2.   **rxn** This function includes all the model equations. The model uses matrix notation to define the ODEs. In this part the settings for feed are specified as well, it includes terms for dilution, addtion and washing out effects.\n",
    "3. **solve** This function generates the timesteps for solving the ODEs. Depending on the initial conditions that were set, the development of the observables is simulated.\n",
    "4. **create_plot** This function stores the results of the simulation on a dataframe which is used for plotting all relevant variables.\n",
    "\n"
   ]
  },
  {
   "cell_type": "code",
   "execution_count": 2,
   "metadata": {
    "id": "ZlD3MZJUci1Y"
   },
   "outputs": [],
   "source": [
    "class SCerevisiae_Cstr:\n",
    "   #initialise the model\n",
    "    def __init__(self):\n",
    "\n",
    "      # define value of model parameters\n",
    "\n",
    "        self.Yox_XG = 0.8\n",
    "        self.Yred_XG = 0.05\n",
    "        self.Yox_XE = 0.72\n",
    "        self.Y_OG = 1.067\n",
    "        self.Y_EG = 0.5\n",
    "        self.Y_OE = 1.5\n",
    "        self.q_g = 4.68\n",
    "        self.q_o = 0.37\n",
    "        self.q_e = 0.86\n",
    "        self.t_lag = 4.66\n",
    "        self.Kg = 0.17\n",
    "        self.Ko = 0.0001\n",
    "        self.Ke = 0.56\n",
    "        self.Ki = 0.31\n",
    "        self.O_sat = 0.00755\n",
    "        self.kla = 1004\n",
    "\n",
    "        #define initial conditions\n",
    "        self.G0 = 18\n",
    "        self.E0 = 0.34\n",
    "        self.O0 = 0.00755\n",
    "        self.X0 = 0.1\n",
    "        self.T0 = 30\n",
    "        self.V0 = 2\n",
    "\n",
    "        #define feed parameters\n",
    "        self.t_end = 100\n",
    "        self.Cin = 100\n",
    "        self.Fconst = 0.05\n",
    "        self.t_feed_start = 15\n",
    "        self.t_start=2\n",
    "        self.steps = (self.t_end - self.t_start)*24\n",
    "\n",
    "\n",
    "    #define the stoichiometric matrix\n",
    "    def rxn(self, C,t):\n",
    "\n",
    "        #matrix\n",
    "        #number of components\n",
    "        n = 4\n",
    "        m = 4\n",
    "        #initialize the stoichiometric matrix, s\n",
    "        s = np.zeros((m,n))\n",
    "        s[0,0] = -1\n",
    "        s[0,1] = 0\n",
    "        s[0,2] = -self.Y_OG\n",
    "        s[0,3] = self.Yox_XG\n",
    "\n",
    "        s[1,0] = -1\n",
    "        s[1,1] = self.Y_EG\n",
    "        s[1,2] = 0\n",
    "        s[1,3] = self.Yred_XG\n",
    "\n",
    "        s[2,0] = 0\n",
    "        s[2,1] = -1\n",
    "        s[2,2] = -self.Y_OE\n",
    "        s[2,3] = self.Yox_XE\n",
    "\n",
    "        s[3,0] = 0\n",
    "        s[3,1] = 0\n",
    "        s[3,2] = 1\n",
    "        s[3,3] = 0\n",
    "        #initialize the rate vector\n",
    "        rho = np.zeros((4,1))\n",
    "        ##initialize the overall conversion vector\n",
    "        r=np.zeros((4,1))\n",
    "        #Volume balance\n",
    "        if (t>=self.t_feed_start):\n",
    "            Fin = self.Fconst\n",
    "            Fout = self.Fconst\n",
    "        else:\n",
    "            Fin = 0\n",
    "            Fout = 0\n",
    "\n",
    "        F = Fin - Fout\n",
    "\n",
    "        rho[0,0] = ((1/self.Y_OG)*min(self.q_o*(C[2]/(C[2]+self.Ko)),self.Y_OG*(self.q_g*(C[0]/(C[0]+self.Kg)))))*C[3]\n",
    "        rho[1,0] = ((1-math.exp(-t/self.t_lag))*((self.q_g*(C[0]/(C[0]+self.Kg)))-(1/self.Y_OG)*min(self.q_o*(C[2]/(C[2]+self.Ko)),self.Y_OG*(self.q_g*(C[0]/(C[0]+self.Kg))))))*C[3]\n",
    "        rho[2,0] = ((1/self.Y_OE)*min(self.q_o*(C[2]/(C[2]+self.Ko))-(1/self.Y_OG)*min(self.q_o*(C[2]/(C[2]+self.Ko)),self.Y_OG*(self.q_g*(C[0]/(C[0]+self.Kg)))),self.Y_OE*(self.q_e*(C[1]/(C[1]+self.Ke))*(self.Ki/(C[0]+self.Ki)))))*C[3]\n",
    "        rho[3,0] = self.kla*(self.O_sat - C[2])\n",
    "\n",
    "        #Developing the matrix, the overall conversion rate is stoichiometric *rates\n",
    "        r[0,0] = (s[0,0]*rho[0,0])+(s[1,0]*rho[1,0])+(s[2,0]*rho[2,0])+(s[3,0]*rho[3,0])\n",
    "        r[1,0] = (s[0,1]*rho[0,0])+(s[1,1]*rho[1,0])+(s[2,1]*rho[2,0])+(s[3,1]*rho[3,0])\n",
    "        r[2,0] = (s[0,2]*rho[0,0])+(s[1,2]*rho[1,0])+(s[2,2]*rho[2,0])+(s[3,2]*rho[3,0])\n",
    "        r[3,0] = (s[0,3]*rho[0,0])+(s[1,3]*rho[1,0])+(s[2,3]*rho[2,0])+(s[3,3]*rho[3,0])\n",
    "\n",
    "\n",
    "        #Solving the mass balances terms for dilution, addtion and washing out added\n",
    "        dGdt = r[0,0] -F/C[4]*C[0] + Fin/C[4]*self.Cin - Fout/C[4]*C[0]\n",
    "        dEdt = r[1,0] -F/C[4]*C[1] - Fout/C[4]*C[1]\n",
    "        dOdt = r[2,0]\n",
    "        dXdt = r[3,0] -F/C[4]*C[3] - Fout/C[4]*C[3]\n",
    "        dVdt = F\n",
    "        dTdt = 0\n",
    "\n",
    "        return [dGdt,dEdt,dOdt,dXdt, dVdt, dTdt]\n",
    "\n",
    "    #solve the ODES\n",
    "    def solve(self):\n",
    "        #time\n",
    "      t = np.linspace(self.t_start, self.t_end, self.steps)  #generation of the time-points\n",
    "      u=0\n",
    "      C0 = [self.G0, self.E0, self.O0, self.X0, self.V0, self.T0]  #initial conditions vector\n",
    "      C = odeint(self.rxn, C0, t, rtol = 1e-7, mxstep= 500000)  #solve ODEs\n",
    "\n",
    "      return t, C\n",
    "\n",
    "\n",
    "   #generate the plot of model variables\n",
    "\n",
    "\n",
    "    def create_plot(self, t, C):\n",
    "        fig = make_subplots(rows=1, cols=2) #make figure with 2 subplots\n",
    "        #assign simulation results to variable for plotting\n",
    "        G = C[:, 0]\n",
    "        E = C[:, 1]\n",
    "        O = C[:, 2]\n",
    "        B = C[:, 3]\n",
    "        V = C[:, 4]\n",
    "\n",
    "        #collect all variables to plot in 1st subplot in a dataframe\n",
    "        df = pd.DataFrame({'t': t, 'G': G, 'B': B, 'E': E, 'O':O, 'V':V})\n",
    "\n",
    "        #add the different traces to 1st subplot\n",
    "        fig.add_trace(go.Scatter(x=df['t'], y=df['G'], name='Glucose'), row=1, col=1)\n",
    "        fig.add_trace(go.Scatter(x=df['t'], y=df['B'], name='Biomass'), row=1, col=1)\n",
    "        fig.add_trace(go.Scatter(x=df['t'], y=df['E'], name='Ethanol'), row=1, col=1)\n",
    "        fig.add_trace(go.Scatter(x=df['t'], y=df['O'], name='Oxygen'), row=1, col=1)\n",
    "\n",
    "        #add the title and axes labels\n",
    "        fig.update_layout(title=('Simulation of the model for the Scerevisiae in continuous'),\n",
    "                          xaxis_title='time (h)',\n",
    "                          yaxis_title='Concentration (g/L)')\n",
    "\n",
    "        #dataframe with varible to plot in 2nd subplot\n",
    "        df2 = pd.DataFrame({'t': t, 'V':V})\n",
    "\n",
    "        #add trace to the 2nd subplot\n",
    "        fig.append_trace(go.Scatter(x=df2['t'], y=df2['V'], name='Volume'), row=1, col=2)\n",
    "\n",
    "        return fig"
   ]
  },
  {
   "cell_type": "markdown",
   "metadata": {
    "id": "HXb3O5Cv-VGE"
   },
   "source": [
    "# Extract results and make plots\n",
    "\n",
    "This portion of the code extracts the results from the model class and creates the figures to display the simulation results."
   ]
  },
  {
   "cell_type": "code",
   "execution_count": 3,
   "metadata": {
    "colab": {
     "base_uri": "https://localhost:8080/",
     "height": 542
    },
    "executionInfo": {
     "elapsed": 2876,
     "status": "ok",
     "timestamp": 1730372204575,
     "user": {
      "displayName": "Rosa Hassfurther",
      "userId": "12726887383228090872"
     },
     "user_tz": -60
    },
    "id": "qXpMEGVMc3xS",
    "outputId": "f6c8131c-69d6-4218-d7ab-87916e816c60"
   },
   "outputs": [
    {
     "ename": "NameError",
     "evalue": "name 'np' is not defined",
     "output_type": "error",
     "traceback": [
      "\u001b[1;31m---------------------------------------------------------------------------\u001b[0m",
      "\u001b[1;31mNameError\u001b[0m                                 Traceback (most recent call last)",
      "Cell \u001b[1;32mIn[3], line 2\u001b[0m\n\u001b[0;32m      1\u001b[0m model \u001b[38;5;241m=\u001b[39m SCerevisiae_Cstr() \u001b[38;5;66;03m# Instantiate the SCerevisiae_Cstr class\u001b[39;00m\n\u001b[1;32m----> 2\u001b[0m t, C \u001b[38;5;241m=\u001b[39m \u001b[43mmodel\u001b[49m\u001b[38;5;241;43m.\u001b[39;49m\u001b[43msolve\u001b[49m\u001b[43m(\u001b[49m\u001b[43m)\u001b[49m \u001b[38;5;66;03m# Call the solve method to get the simulation results\u001b[39;00m\n\u001b[0;32m      3\u001b[0m fig \u001b[38;5;241m=\u001b[39m model\u001b[38;5;241m.\u001b[39mcreate_plot(t, C) \u001b[38;5;66;03m# Call create_plot with the simulation results\u001b[39;00m\n\u001b[0;32m      5\u001b[0m fig\u001b[38;5;241m.\u001b[39mshow()\n",
      "Cell \u001b[1;32mIn[2], line 108\u001b[0m, in \u001b[0;36mSCerevisiae_Cstr.solve\u001b[1;34m(self)\u001b[0m\n\u001b[0;32m    106\u001b[0m \u001b[38;5;28;01mdef\u001b[39;00m \u001b[38;5;21msolve\u001b[39m(\u001b[38;5;28mself\u001b[39m):\n\u001b[0;32m    107\u001b[0m     \u001b[38;5;66;03m#time\u001b[39;00m\n\u001b[1;32m--> 108\u001b[0m   t \u001b[38;5;241m=\u001b[39m \u001b[43mnp\u001b[49m\u001b[38;5;241m.\u001b[39mlinspace(\u001b[38;5;28mself\u001b[39m\u001b[38;5;241m.\u001b[39mt_start, \u001b[38;5;28mself\u001b[39m\u001b[38;5;241m.\u001b[39mt_end, \u001b[38;5;28mself\u001b[39m\u001b[38;5;241m.\u001b[39msteps)  \u001b[38;5;66;03m#generation of the time-points\u001b[39;00m\n\u001b[0;32m    109\u001b[0m   u\u001b[38;5;241m=\u001b[39m\u001b[38;5;241m0\u001b[39m\n\u001b[0;32m    110\u001b[0m   C0 \u001b[38;5;241m=\u001b[39m [\u001b[38;5;28mself\u001b[39m\u001b[38;5;241m.\u001b[39mG0, \u001b[38;5;28mself\u001b[39m\u001b[38;5;241m.\u001b[39mE0, \u001b[38;5;28mself\u001b[39m\u001b[38;5;241m.\u001b[39mO0, \u001b[38;5;28mself\u001b[39m\u001b[38;5;241m.\u001b[39mX0, \u001b[38;5;28mself\u001b[39m\u001b[38;5;241m.\u001b[39mV0, \u001b[38;5;28mself\u001b[39m\u001b[38;5;241m.\u001b[39mT0]  \u001b[38;5;66;03m#initial conditions vector\u001b[39;00m\n",
      "\u001b[1;31mNameError\u001b[0m: name 'np' is not defined"
     ]
    }
   ],
   "source": [
    "model = SCerevisiae_Cstr() # Instantiate the SCerevisiae_Cstr class\n",
    "t, C = model.solve() # Call the solve method to get the simulation results\n",
    "fig = model.create_plot(t, C) # Call create_plot with the simulation results\n",
    "\n",
    "fig.show()"
   ]
  },
  {
   "cell_type": "markdown",
   "metadata": {},
   "source": [
    "Created on Thu Sep  6 18:33:18 2018\n",
    "\n",
    "By Simoneta Cano de las Heras and bjogut"
   ]
  },
  {
   "cell_type": "markdown",
   "metadata": {},
   "source": []
  }
 ],
 "metadata": {
  "colab": {
   "provenance": []
  },
  "kernelspec": {
   "display_name": "Python 3",
   "name": "python3"
  },
  "language_info": {
   "codemirror_mode": {
    "name": "ipython",
    "version": 3
   },
   "file_extension": ".py",
   "mimetype": "text/x-python",
   "name": "python",
   "nbconvert_exporter": "python",
   "pygments_lexer": "ipython3",
   "version": "3.11.9"
  }
 },
 "nbformat": 4,
 "nbformat_minor": 0
}