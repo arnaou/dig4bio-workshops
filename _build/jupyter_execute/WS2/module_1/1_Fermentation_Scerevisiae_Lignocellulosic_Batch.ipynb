{
 "cells": [
  {
   "cell_type": "markdown",
   "metadata": {
    "id": "2hYq58FvHPWx"
   },
   "source": [
    "# Mechanistic model of *S. cerevisiae* utilizing ligocellulosis in batch fermentation\n",
    "This model describes an *S. cerevisiae* fermentation in a batch reactor. It builds a stochiometric matrix to follow all conversions. The model accounts for the changes of Carbon sources, the development of biomass and ethonal over time.\n",
    "\n"
   ]
  },
  {
   "cell_type": "markdown",
   "metadata": {
    "id": "tjqwirRbI4VQ"
   },
   "source": [
    "# Package import\n",
    "\n",
    "This portion of the code handles the import of all the relevant python packages."
   ]
  },
  {
   "cell_type": "code",
   "execution_count": 1,
   "metadata": {
    "id": "zljOU_KppWUt"
   },
   "outputs": [
    {
     "ename": "ModuleNotFoundError",
     "evalue": "No module named 'scipy'",
     "output_type": "error",
     "traceback": [
      "\u001b[1;31m---------------------------------------------------------------------------\u001b[0m",
      "\u001b[1;31mModuleNotFoundError\u001b[0m                       Traceback (most recent call last)",
      "Cell \u001b[1;32mIn[1], line 1\u001b[0m\n\u001b[1;32m----> 1\u001b[0m \u001b[38;5;28;01mfrom\u001b[39;00m \u001b[38;5;21;01mscipy\u001b[39;00m\u001b[38;5;21;01m.\u001b[39;00m\u001b[38;5;21;01mintegrate\u001b[39;00m \u001b[38;5;28;01mimport\u001b[39;00m odeint\n\u001b[0;32m      2\u001b[0m \u001b[38;5;66;03m# Package for plotting\u001b[39;00m\n\u001b[0;32m      3\u001b[0m \u001b[38;5;28;01mimport\u001b[39;00m \u001b[38;5;21;01mmath\u001b[39;00m\n",
      "\u001b[1;31mModuleNotFoundError\u001b[0m: No module named 'scipy'"
     ]
    }
   ],
   "source": [
    "from scipy.integrate import odeint\n",
    "# Package for plotting\n",
    "import math\n",
    "# Package for the use of vectors and matrix\n",
    "import numpy as np\n",
    "import pandas as pd\n",
    "import array as arr\n",
    "\n",
    "from matplotlib.figure import Figure\n",
    "import sys\n",
    "import os\n",
    "import matplotlib.pyplot as plt\n",
    "from matplotlib.ticker import FormatStrFormatter\n",
    "import glob\n",
    "from random import sample\n",
    "import random\n",
    "import time\n",
    "import plotly\n",
    "import plotly.graph_objs as go\n",
    "import json\n",
    "from plotly.subplots import make_subplots"
   ]
  },
  {
   "cell_type": "markdown",
   "metadata": {
    "id": "mXbCA5QlKd2v"
   },
   "source": [
    "# Model definition\n",
    "\n",
    "The model is defined by using a class. This has several adavantages, one being that different classes can be defined independtly, e.g., one class represents the model definition while another will handle parameter optimization with experimental data. The same \"optimization\" class can be used with different model classes, so the code becomes more easily reusable.\n",
    "\n",
    "The class Scerevisiae_Ligno includes several functions, each with a specific function.\n",
    "\n",
    "\n",
    "\n",
    "1.   **_init_** This function initialises the model class by defining all the relavant parameters and initial conditions.\n",
    "2.   **rxn** This function includes all the model equations. The model uses matrix notation to define the ODEs. In this part the all rates for different carbon sources are defined individually.\n",
    "3. **solve** This function generates the timesteps for solving the ODEs. Depending on the initial conditions that were set, the development of the observables is simulated.\n",
    "4. **create_plot** This function stores the results of the simulation on a dataframe which is used for plotting all relevant variables.\n",
    "\n"
   ]
  },
  {
   "cell_type": "code",
   "execution_count": 2,
   "metadata": {
    "id": "dNglzU8opk9w"
   },
   "outputs": [],
   "source": [
    "class SCerevisiae_Ligno:\n",
    "  #initialize model\n",
    "    def __init__(self, Control=False):\n",
    "         # define value of model parameters\n",
    "        self.nuMaxGlu = 2.348# h-1\n",
    "        self.nuMaxXyl =  1.622 # h-1\n",
    "        self.Ks_Glu = 0.565 # kg Glu m-3\n",
    "        self.Ks_Xyl = 18.1 # kg Xyl m-3\n",
    "        self.Ki_Glu = 283.7 # kg Glu m-3\n",
    "        self.Ki_Xyl = 18.1 # kg Xyl m-3\n",
    "        self.Ki_GluXyl = 10 # kg Glu m-3\n",
    "        self.Y_XGlu = 0.115 # kg X/kg Glu\n",
    "        self.Y_XXyl = 0.162  # kg X/kg Xyl\n",
    "        self.Ki_EtOHmaxGlu = 103 # kg Glu m-3\n",
    "        self.Ki_EtOHmaxXyl =  60.2 # kg Xyl m-3\n",
    "        self.Y_EtOHGlu = 0.47# kg EtOH/kg Glu\n",
    "        self.Y_EtOHXyl = 0.4 # kg EtOH/kg Xyl\n",
    "        self.gammaG = 1.42 # no unit\n",
    "        self.gammaX = 0.608 # no unit\n",
    "\n",
    "        # Acetate parameters\n",
    "        self.nuHAcMax = 0.04428 # h-1\n",
    "        self.Ks_HAc = 2.5 # kg HAc m-3\n",
    "        self.Ki_HAcGlu = 2.74 # kg HAc m-3\n",
    "        self.Ki_HAcXyl = 0.073 # kg HAc m-3\n",
    "        self.Y_HAcHMF = 0.234 # kg Ac/kg HMF\n",
    "\n",
    "        # Furfural parameters\n",
    "        self.nuFurMax = 0.16812 # h-1\n",
    "        self.Ks_Fur =  0.05 # kg Furfural m-3\n",
    "        self.Ki_FurGlu = 0.75 # kg Furfural m-3\n",
    "        self.Ki_FurXyl = 0.35 # kg Furfural m-3\n",
    "        self.Ki_FurHMF = 0.25 # kg Furfural m-3\n",
    "        self.Y_FurFA = 1.02 # kg FA/kg Fur\n",
    "\n",
    "        # Furfuryl alcohol parameters\n",
    "        self.Ki_FAGlu = 5# kg FA m-3\n",
    "        self.Ki_FAXyl = 6 # kg FA m-3\n",
    "\n",
    "        # HMF parameters\n",
    "        self.nuHMFMax = 0.31536 # h-1\n",
    "        self.Ks_HMF = 0.5 # kg HMF m-3\n",
    "        self.Ki_HMFGlu = 2 # kg HMF m-3\n",
    "        self.Ki_HMFXyl = 10 # kg HMF m-3\n",
    "\n",
    "        # Initial state variable\n",
    "        self.X0 = 0.5  # g/L\n",
    "        self.Glu0 = 40  # g/L\n",
    "        self.Xyl0 = 20  # g/L\n",
    "        self.EtOH0 = 0  # g/L\n",
    "        self.Fur0 = 1  # g/L\n",
    "        self.HAc0 = 1  # g/L\n",
    "        self.HMF0 = 0.5  # g/L\n",
    "        self.FA0 = 0  # g/L\n",
    "\n",
    "        #t and V conditions\n",
    "        self.t_end = 30\n",
    "        self.t_start = 0\n",
    "        self.V0 = 2\n",
    "        self.T0 = 30\n",
    "\n",
    "\n",
    "\n",
    "\n",
    "#define the stoichiometric matrix\n",
    "    def rxn(self, C, t, u, fc):\n",
    "\n",
    "\n",
    "        # number of components\n",
    "        n = 8\n",
    "        m = 5\n",
    "        # initialize the stoichiometric matrix, s\n",
    "        s = np.zeros((m, n))\n",
    "\n",
    "        s[0, 0] = (self.Y_XGlu)\n",
    "        s[1, 0] = (self.Y_XXyl)\n",
    "        s[2, 0] = (0)\n",
    "        s[3, 0] = (0)\n",
    "        s[4, 0] = (0)\n",
    "\n",
    "        s[0, 1] = (-1)\n",
    "        s[1, 1] = (0)\n",
    "        s[2, 1] = (0)\n",
    "        s[3, 1] = (0)\n",
    "        s[4, 1] = (0)\n",
    "\n",
    "        s[0, 2] = (0)\n",
    "        s[1, 2] = (-1)\n",
    "        s[2, 2] = (0)\n",
    "        s[3, 2] = (0)\n",
    "        s[4, 2] = (0)\n",
    "\n",
    "        s[0, 3] = (self.Y_EtOHGlu)\n",
    "        s[1, 3] = (self.Y_EtOHXyl)\n",
    "        s[2, 3] = (0)\n",
    "        s[3, 3] = (0)\n",
    "        s[4, 3] = (0)\n",
    "\n",
    "        s[0, 4] = (0)\n",
    "        s[1, 4] = (0)\n",
    "        s[2, 4] = (-1)\n",
    "        s[3, 4] = (0)\n",
    "        s[4, 4] = (0)\n",
    "\n",
    "        s[0, 5] = (0)\n",
    "        s[1, 5] = (0)\n",
    "        s[2, 5] = (0)\n",
    "        s[3, 5] = (-1)\n",
    "        s[4, 5] = (self.Y_HAcHMF)\n",
    "\n",
    "        s[0, 6] = (0)\n",
    "        s[1, 6] = (0)\n",
    "        s[2, 6] = (0)\n",
    "        s[3, 6] = (0)\n",
    "        s[4, 6] = (-1)\n",
    "\n",
    "        s[0, 7] = (0)\n",
    "        s[1, 7] = (0)\n",
    "        s[2, 7] = (self.Y_FurFA)\n",
    "        s[3, 7] = (0)\n",
    "        s[4, 7] = (0)\n",
    "\n",
    "        # initialize the rate vector\n",
    "        rho = np.zeros((m))\n",
    "\n",
    "              # Glucose uptake process\n",
    "        rho[0] = self.nuMaxGlu * C[0] * (C[1] / (self.Ks_Glu + C[1] + ((C[1] ** 2) / self.Ki_Glu)) *\n",
    "                                           (1 - (C[3] / self.Ki_EtOHmaxGlu) ** self.gammaG) *\n",
    "                                           (1 / (1 + (C[4] / self.Ki_FurGlu))) *\n",
    "                                           (1 / (1 + (C[5] / self.Ki_HAcGlu))) *\n",
    "                                           (1 / (1 + (C[6] / self.Ki_HMFGlu))) *\n",
    "                                           (1 / (1 + (C[7] / self.Ki_FAGlu))))\n",
    "        # Xylose uptake process\n",
    "        rho[1] = self.nuMaxXyl * C[0] * (C[2] / (self.Ks_Xyl + C[2] + ((C[2] ** 2) / self.Ki_Xyl)) *\n",
    "                                           (1 - (C[3] / self.Ki_EtOHmaxXyl) ** self.gammaX) *\n",
    "                                           (1 / (1 + (C[4] / self.Ki_FurXyl))) *\n",
    "                                           (1 / (1 + (C[5] / self.Ki_HAcXyl))) *\n",
    "                                           (1 / (1 + (C[6] / self.Ki_HMFXyl))) *\n",
    "                                           (1 / (1 + (C[7] / self.Ki_FAXyl))) *\n",
    "                                           (1 / (1 + (C[1] / self.Ki_GluXyl))))\n",
    "        # Fur uptake process\n",
    "        rho[2] = self.nuFurMax * C[0] * (C[4] / (self.Ks_Fur + C[4]))\n",
    "        # HAc uptake process\n",
    "        rho[3] = self.nuHAcMax * C[0] * (C[5] / (self.Ks_HAc + C[5]))\n",
    "        # HMF uptake process\n",
    "        rho[4] = self.nuHMFMax * C[0] * (C[6] / (self.Ks_HMF + C[6])) * (1 / (1 + (C[4] / self.Ki_FurGlu)))\n",
    "\n",
    "\n",
    " #Solving the mass balances\n",
    "        dXdt = s[0, 0] * rho[0] + s[1, 0] * rho[1] + s[2, 0] * rho[2] + s[3, 0] * rho[3] + s[4, 0] * rho[4]\n",
    "        dGludt = s[0, 1] * rho[0] + s[1, 1] * rho[1] + s[2, 1] * rho[2] + s[3, 1] * rho[3] + s[4, 1] * rho[4]\n",
    "        dXyldt = s[0, 2] * rho[0] + s[1, 2] * rho[1] + s[2, 2] * rho[2] + s[3, 2] * rho[3] + s[4, 2] * rho[4]\n",
    "        dEtOHdt = s[0, 3] * rho[0] + s[1, 3] * rho[1] + s[2, 3] * rho[2] + s[3, 3] * rho[3] + s[4, 3] * rho[4]\n",
    "        dFurdt = s[0, 4] * rho[0] + s[1, 4] * rho[1] + s[2, 4] * rho[2] + s[3, 4] * rho[3] + s[4, 4] * rho[4]\n",
    "        dHAcdt = s[0, 5] * rho[0] + s[1, 5] * rho[1] + s[2, 5] * rho[2] + s[3, 5] * rho[3] + s[4, 5] * rho[4]\n",
    "        dHMFdt = s[0, 6] * rho[0] + s[1, 6] * rho[1] + s[2, 6] * rho[2] + s[3, 6] * rho[3] + s[4, 6] * rho[4]\n",
    "        dFAdt = s[0, 7] * rho[0] + s[1, 7] * rho[1] + s[2, 7] * rho[2] + s[3, 7] * rho[3] + s[4, 7] * rho[4]\n",
    "\n",
    "        dVdt=0\n",
    "        dTdt = 0\n",
    "\n",
    "        return [dXdt, dGludt, dXyldt, dEtOHdt, dFurdt, dHAcdt, dHMFdt, dFAdt, dVdt, dTdt]\n",
    "#solve the ODES\n",
    "    def solve(self):\n",
    "\n",
    "        t = np.linspace(0, 30) #generation of the time-points\n",
    "\n",
    "        u = 0\n",
    "        fc = 1\n",
    "        C0 = [self.X0, self.Glu0, self.Xyl0, self.EtOH0, self.Fur0, self.HAc0, self.HMF0, self.FA0, self.V0, self.T0] #initial conditions vector\n",
    "        C = odeint(self.rxn, C0, t, rtol=1e-7, mxstep=500000, args=(u, fc,)) #solve ODEs\n",
    "\n",
    "\n",
    "        return t, C\n",
    "\n",
    "   #generate the plot of model variables\n",
    "    def create_plot(self, t, C):\n",
    "        figure = make_subplots(rows=1, cols=2) #make figure with 2 subplots\n",
    "        #assign simulation results to variable for plotting\n",
    "        X = C[:, 0]\n",
    "        Glu = C[:, 1]\n",
    "        Xly = C[:, 2]\n",
    "        EtOH = C[:, 3]\n",
    "        Fur = C[:, 4]\n",
    "        HAc = C[:, 5]\n",
    "        HMF = C[:, 6]\n",
    "        FA = C[:, 7]\n",
    "        V = C[:, 8]\n",
    "\n",
    "         #collect all variables to plot in 1st subplot in a dataframe\n",
    "        df = pd.DataFrame({'t': t, 'Glu': Glu, 'X': X, 'Xly':Xly, 'EtOH': EtOH, 'Fur':Fur, 'HAc': HAc, 'HMF':HMF, 'FA':FA})\n",
    "         #add the different traces to 1st subplot\n",
    "        figure.add_trace(go.Scatter(x=df['t'], y=df['Glu'], name='Glucose'), row=1, col=1)\n",
    "        figure.add_trace(go.Scatter(x=df['t'], y=df['X'], name='Biomass'), row=1, col=1)\n",
    "        figure.add_trace(go.Scatter(x=df['t'], y=df['Xly'], name='Xylose'), row=1, col=1)\n",
    "        figure.add_trace(go.Scatter(x=df['t'], y=df['EtOH'], name='Ethanol'), row=1, col=1)\n",
    "        figure.add_trace(go.Scatter(x=df['t'], y=df['Fur'], name='Furfural'), row=1, col=1)\n",
    "        figure.add_trace(go.Scatter(x=df['t'], y=df['HAc'], name='Acetic acid'), row=1, col=1)\n",
    "        figure.add_trace(go.Scatter(x=df['t'], y=df['HMF'], name='HMF'), row=1, col=1)\n",
    "        figure.add_trace(go.Scatter(x=df['t'], y=df['FA'], name='Furfuryl alcohol'), row=1, col=1)\n",
    "         #add the title and axes labels\n",
    "        figure.update_layout(title=('Simulation of the model for the Scerevisiae in fedbatch using lignocellulosic'),\n",
    "                             xaxis_title='time (h)',\n",
    "                             yaxis_title='Concentration (g/L)')\n",
    "      #dataframe with varible to plot in 2nd subplot\n",
    "        df2 = pd.DataFrame({'t': t, 'V':V})\n",
    "\n",
    "         #add trace to the 2nd subplot\n",
    "        figure.append_trace(go.Scatter(x=df2['t'], y=df2['V'], name='Volume'), row=1, col=2)\n",
    "\n",
    "        return figure"
   ]
  },
  {
   "cell_type": "markdown",
   "metadata": {
    "id": "s-xaA4WjMhEF"
   },
   "source": [
    "# Extract results and make plots\n",
    "\n",
    "This portion of the code extracts the results from the model class and creates the figures to display the simulation results."
   ]
  },
  {
   "cell_type": "code",
   "execution_count": 3,
   "metadata": {
    "colab": {
     "base_uri": "https://localhost:8080/",
     "height": 542
    },
    "executionInfo": {
     "elapsed": 2342,
     "status": "ok",
     "timestamp": 1730372173251,
     "user": {
      "displayName": "Rosa Hassfurther",
      "userId": "12726887383228090872"
     },
     "user_tz": -60
    },
    "id": "iMFOjLnSp7DY",
    "outputId": "da3ae59a-8c9a-4e47-ab23-80c895f814ec"
   },
   "outputs": [
    {
     "ename": "NameError",
     "evalue": "name 'np' is not defined",
     "output_type": "error",
     "traceback": [
      "\u001b[1;31m---------------------------------------------------------------------------\u001b[0m",
      "\u001b[1;31mNameError\u001b[0m                                 Traceback (most recent call last)",
      "Cell \u001b[1;32mIn[3], line 2\u001b[0m\n\u001b[0;32m      1\u001b[0m model \u001b[38;5;241m=\u001b[39m SCerevisiae_Ligno() \u001b[38;5;66;03m# Instantiate the SCerevisiae_Ligno class\u001b[39;00m\n\u001b[1;32m----> 2\u001b[0m t, C \u001b[38;5;241m=\u001b[39m \u001b[43mmodel\u001b[49m\u001b[38;5;241;43m.\u001b[39;49m\u001b[43msolve\u001b[49m\u001b[43m(\u001b[49m\u001b[43m)\u001b[49m \u001b[38;5;66;03m# Call the solve method to get the simulation results\u001b[39;00m\n\u001b[0;32m      3\u001b[0m fig \u001b[38;5;241m=\u001b[39m model\u001b[38;5;241m.\u001b[39mcreate_plot(t, C) \u001b[38;5;66;03m# Call create_plot with the simulation results\u001b[39;00m\n\u001b[0;32m      5\u001b[0m fig\u001b[38;5;241m.\u001b[39mshow()\n",
      "Cell \u001b[1;32mIn[2], line 166\u001b[0m, in \u001b[0;36mSCerevisiae_Ligno.solve\u001b[1;34m(self)\u001b[0m\n\u001b[0;32m    164\u001b[0m \u001b[38;5;28;01mdef\u001b[39;00m \u001b[38;5;21msolve\u001b[39m(\u001b[38;5;28mself\u001b[39m):\n\u001b[1;32m--> 166\u001b[0m     t \u001b[38;5;241m=\u001b[39m \u001b[43mnp\u001b[49m\u001b[38;5;241m.\u001b[39mlinspace(\u001b[38;5;241m0\u001b[39m, \u001b[38;5;241m30\u001b[39m) \u001b[38;5;66;03m#generation of the time-points\u001b[39;00m\n\u001b[0;32m    168\u001b[0m     u \u001b[38;5;241m=\u001b[39m \u001b[38;5;241m0\u001b[39m\n\u001b[0;32m    169\u001b[0m     fc \u001b[38;5;241m=\u001b[39m \u001b[38;5;241m1\u001b[39m\n",
      "\u001b[1;31mNameError\u001b[0m: name 'np' is not defined"
     ]
    }
   ],
   "source": [
    "model = SCerevisiae_Ligno() # Instantiate the SCerevisiae_Ligno class\n",
    "t, C = model.solve() # Call the solve method to get the simulation results\n",
    "fig = model.create_plot(t, C) # Call create_plot with the simulation results\n",
    "\n",
    "fig.show()\n"
   ]
  },
  {
   "cell_type": "code",
   "execution_count": null,
   "metadata": {},
   "outputs": [],
   "source": []
  },
  {
   "cell_type": "markdown",
   "metadata": {},
   "source": [
    "Created on Thu Sep  6 13:34:32 2018\n",
    "\n",
    "@author: simoca"
   ]
  },
  {
   "cell_type": "markdown",
   "metadata": {},
   "source": []
  }
 ],
 "metadata": {
  "colab": {
   "provenance": []
  },
  "kernelspec": {
   "display_name": "Python 3",
   "name": "python3"
  },
  "language_info": {
   "codemirror_mode": {
    "name": "ipython",
    "version": 3
   },
   "file_extension": ".py",
   "mimetype": "text/x-python",
   "name": "python",
   "nbconvert_exporter": "python",
   "pygments_lexer": "ipython3",
   "version": "3.11.9"
  }
 },
 "nbformat": 4,
 "nbformat_minor": 0
}