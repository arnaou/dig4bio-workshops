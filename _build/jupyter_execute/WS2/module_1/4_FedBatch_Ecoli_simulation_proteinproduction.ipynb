{
 "cells": [
  {
   "cell_type": "markdown",
   "metadata": {
    "id": "WnBgVg1q1_qc"
   },
   "source": [
    "# E. coli Fed-batch fermentation model, including recombinant protein production\n",
    "\n",
    "In this Python Script the ODE (Ordinary Differential Equation)\n",
    "of an Ecoli model is solved with the Python ODE Solver odeint.\n",
    "\n",
    "The equations for E. coli growth have been based on the work of Anane et al, which can be found in https://doi.org/10.1016/j.bej.2017.05.013. The protein production dynamics have been based in the work of Chae et al. which can be found in https://doi.org/10.1002/1097-0290(20000805)69:3%3C275::aid-bit5%3E3.0.co;2-y. The combine implementation can be found in the MSc Thesis https://scholar.tecnico.ulisboa.pt/records/uuoC1N4NzN890o9vFCM5lQm9zjqNvBsOY3pp in Section 3.1."
   ]
  },
  {
   "cell_type": "markdown",
   "metadata": {
    "id": "_91TwB3rAKXw"
   },
   "source": [
    "# Package import\n",
    "\n",
    "This portion of the code handles the import of all the relevant python packages."
   ]
  },
  {
   "cell_type": "code",
   "execution_count": 1,
   "metadata": {
    "executionInfo": {
     "elapsed": 328,
     "status": "ok",
     "timestamp": 1730373343107,
     "user": {
      "displayName": "Mariana Albino",
      "userId": "14583712435379609229"
     },
     "user_tz": -60
    },
    "id": "gfVEiaWGhUrx"
   },
   "outputs": [
    {
     "ename": "ModuleNotFoundError",
     "evalue": "No module named 'numpy'",
     "output_type": "error",
     "traceback": [
      "\u001b[1;31m---------------------------------------------------------------------------\u001b[0m",
      "\u001b[1;31mModuleNotFoundError\u001b[0m                       Traceback (most recent call last)",
      "Cell \u001b[1;32mIn[1], line 3\u001b[0m\n\u001b[0;32m      1\u001b[0m \u001b[38;5;66;03m# import packages\u001b[39;00m\n\u001b[0;32m      2\u001b[0m \u001b[38;5;28;01mfrom\u001b[39;00m \u001b[38;5;21;01m__future__\u001b[39;00m \u001b[38;5;28;01mimport\u001b[39;00m division\n\u001b[1;32m----> 3\u001b[0m \u001b[38;5;28;01mimport\u001b[39;00m \u001b[38;5;21;01mnumpy\u001b[39;00m \u001b[38;5;28;01mas\u001b[39;00m \u001b[38;5;21;01mnp\u001b[39;00m\n\u001b[0;32m      4\u001b[0m \u001b[38;5;28;01mimport\u001b[39;00m \u001b[38;5;21;01mmatplotlib\u001b[39;00m\u001b[38;5;21;01m.\u001b[39;00m\u001b[38;5;21;01mpyplot\u001b[39;00m \u001b[38;5;28;01mas\u001b[39;00m \u001b[38;5;21;01mplt\u001b[39;00m\n\u001b[0;32m      5\u001b[0m \u001b[38;5;28;01mfrom\u001b[39;00m \u001b[38;5;21;01mscipy\u001b[39;00m\u001b[38;5;21;01m.\u001b[39;00m\u001b[38;5;21;01mintegrate\u001b[39;00m \u001b[38;5;28;01mimport\u001b[39;00m odeint\n",
      "\u001b[1;31mModuleNotFoundError\u001b[0m: No module named 'numpy'"
     ]
    }
   ],
   "source": [
    "# import packages\n",
    "from __future__ import division\n",
    "import numpy as np\n",
    "import matplotlib.pyplot as plt\n",
    "from scipy.integrate import odeint\n",
    "import plotly.express as px\n",
    "import plotly.graph_objects as go\n",
    "from scipy.integrate import solve_ivp\n",
    "from plotly.subplots import make_subplots\n",
    "import pandas as pd\n",
    "%matplotlib inline\n",
    "#%matplotlib qt"
   ]
  },
  {
   "cell_type": "markdown",
   "metadata": {
    "id": "VuXrNR-kBtLz"
   },
   "source": [
    "# Define timesteps\n",
    "\n",
    "This cell defines the initial and end-time, and the timestops to perform the simulation"
   ]
  },
  {
   "cell_type": "code",
   "execution_count": 2,
   "metadata": {
    "executionInfo": {
     "elapsed": 8,
     "status": "ok",
     "timestamp": 1730373343415,
     "user": {
      "displayName": "Mariana Albino",
      "userId": "14583712435379609229"
     },
     "user_tz": -60
    },
    "id": "ctw6e8ZNhi8u"
   },
   "outputs": [
    {
     "ename": "NameError",
     "evalue": "name 'np' is not defined",
     "output_type": "error",
     "traceback": [
      "\u001b[1;31m---------------------------------------------------------------------------\u001b[0m",
      "\u001b[1;31mNameError\u001b[0m                                 Traceback (most recent call last)",
      "Cell \u001b[1;32mIn[2], line 11\u001b[0m\n\u001b[0;32m      8\u001b[0m T \u001b[38;5;241m=\u001b[39m \u001b[38;5;241m25\u001b[39m \u001b[38;5;66;03m#h\u001b[39;00m\n\u001b[0;32m     10\u001b[0m \u001b[38;5;66;03m# generation of the time-points\u001b[39;00m\n\u001b[1;32m---> 11\u001b[0m t \u001b[38;5;241m=\u001b[39m \u001b[43mnp\u001b[49m\u001b[38;5;241m.\u001b[39mlinspace(t0, T, \u001b[38;5;28mint\u001b[39m(T\u001b[38;5;241m/\u001b[39mdt)\u001b[38;5;241m+\u001b[39m\u001b[38;5;241m1\u001b[39m)\n",
      "\u001b[1;31mNameError\u001b[0m: name 'np' is not defined"
     ]
    }
   ],
   "source": [
    "# discretizing the time\n",
    "dt = 0.01\n",
    "\n",
    "# defining the initial time\n",
    "t0 = 0\n",
    "\n",
    "# defining the end-time\n",
    "T = 25 #h\n",
    "\n",
    "# generation of the time-points\n",
    "t = np.linspace(t0, T, int(T/dt)+1)"
   ]
  },
  {
   "cell_type": "markdown",
   "metadata": {
    "id": "y5wvNETzCA6a"
   },
   "source": [
    "# Define initial conditions and process parameters\n",
    "\n",
    "In this cell the initial conditions for the monitored variables as well as process parameters regarding the feed strategy. y0 is the vector which contains the initial conditions values."
   ]
  },
  {
   "cell_type": "code",
   "execution_count": 3,
   "metadata": {
    "executionInfo": {
     "elapsed": 8,
     "status": "ok",
     "timestamp": 1730373343415,
     "user": {
      "displayName": "Mariana Albino",
      "userId": "14583712435379609229"
     },
     "user_tz": -60
    },
    "id": "BA8F5hYfhsy3"
   },
   "outputs": [],
   "source": [
    "# initial values at time 0\n",
    "X0   = 0.025     # Biomass [g/L]\n",
    "S0   = 20         # Substrate [g/L]\n",
    "DOT0 = 90        # Dissolved oxygen [%]\n",
    "A0   = 0          # Acetate [g/L]\n",
    "V0   = 1400     # Volume [L]\n",
    "I0 = 0            #Inducer concentration [g/L]\n",
    "P0 =0             #Protein concentratuin [g/L]\n",
    "\n",
    "# process parameters\n",
    "\n",
    "Si        = 300\n",
    "If        = 50\n",
    "Fout      = 0\n",
    "KLa       = 600\n",
    "muset     = 0.3\n",
    "\n",
    "# define initial condition and save it in the y\n",
    "y0 = [X0, S0, DOT0, A0, V0, I0, P0]"
   ]
  },
  {
   "cell_type": "markdown",
   "metadata": {
    "id": "TFRrm6n0Ca7J"
   },
   "source": [
    "## First pass of the model\n",
    "\n",
    "The feeding strategy employed is trigered by a decrease in Glucose concentration below a certain value. In the approach implemented here the timepoint at which this happens is determined by running the model a first time, without considering feed, i.e., running the model as if we were studying a batch process. We also extract the Biomass concetration at the end of the batch phase, which is necessary for the feed rate calculations\n",
    "\n",
    "**Note:** If using e.g., the solve_ivp solver, a different approach to extract these values can be followed by the use of flags. This would be a more elegant implementation"
   ]
  },
  {
   "cell_type": "markdown",
   "metadata": {
    "id": "bdpTmvW_Dh34"
   },
   "source": [
    "# Define the model equations\n",
    "\n",
    "This cell defines the model equation in Batch mode.\n",
    "\n",
    "1. The first step is to assign the variable to simulate to the result vector y.\n",
    "\n",
    "2. The feed parameters are defined, in this case set to 0, since we consider a batch process\n",
    "\n",
    "3. The parameters characteristic for the strain are defined as well as physicochemical constants\n",
    "\n",
    "4. The algebraic expressions that describe the kinetics of the system are defined\n",
    "\n",
    "5. The ODE system is defined"
   ]
  },
  {
   "cell_type": "code",
   "execution_count": 4,
   "metadata": {
    "executionInfo": {
     "elapsed": 7,
     "status": "ok",
     "timestamp": 1730373343415,
     "user": {
      "displayName": "Mariana Albino",
      "userId": "14583712435379609229"
     },
     "user_tz": -60
    },
    "id": "bBmgw7GGhyyn"
   },
   "outputs": [],
   "source": [
    "# define the function; Run the model a first time, with no feeding to determibe tf\n",
    "def eColi_first_pass(y, t):\n",
    "    X   = y[0]\n",
    "    S   = y[1]\n",
    "    DOT = y[2]\n",
    "    A   = y[3]\n",
    "    V   = y[4]\n",
    "    I   = y[5]\n",
    "    P   = y[6]\n",
    "\n",
    "    # process parameters\n",
    "\n",
    "    F1=0\n",
    "    Fi=0\n",
    "\n",
    "    # parameters describing the characteristics of the strain\n",
    "    qAmax   = 1           # max Acetate consumption rate [g/g*h]\n",
    "    Kaq     = 0.01        # affinity constant Acetate consumption [g/L]\n",
    "    Ksq     = 0.1         # affinity constnat Substrate consumption [g/L]\n",
    "    Yam     = 0.2         # yield acetate maintenance [g/g]\n",
    "    Yaresp  = 0.2         # yield acetate respiratory [g/g]\n",
    "    Yem     = 0.56        # yield excluding maintance [g/g]\n",
    "    qSmax   = 1.4         # max glucose uptake rate [g/g*h]\n",
    "    Ks      = 0.05        # affinity constant glucose consumption[g/L]\n",
    "    qm      = 0.04        # specific maintenance coefficient[g/g*h]\n",
    "    Ko      = 1           # Affinity constant, oxygen consumption [g/L]\n",
    "    Yosresp = 1.217       # yield from S to X, respiratory [g/g]\n",
    "    pAmax   = 1           # max Acetate production rate [g/g*h]\n",
    "    Kap     = 10          # affinity constant intracellular acetate production[g/L]\n",
    "    Yaof    = 1           # aceate yield in overflow[g/g]\n",
    "    Yofm    = Yem         # [g/g]\n",
    "    k1=0.32\n",
    "    k2=0.00044\n",
    "    k3=0.6\n",
    "    Ki=0.55\n",
    "    muset = 0.3         #Growth rate set in feed phase\n",
    "\n",
    "    # physicochemical constants\n",
    "    Cs      = 0.391       # ratio of substrate per C in [gC/gS]\n",
    "    Cx      = 0.488       # ratio of biomass per C in [gC/gX]\n",
    "    H       = 14000       # conversion factor\n",
    "    DOTstar = 90\n",
    "\n",
    "    # algebraic variables\n",
    "    qS   = qSmax * S / (S + Ks) * DOT / (DOT + Ko)     # substrate uptake\n",
    "    qSof = pAmax * qS / ( qS + Kap ) / Yaof            # overflow substrate conversion\n",
    "    pA   = pAmax * qS / (qS + Kap)                     # production of acetate\n",
    "    qSox = qS - qSof                                   # substrate uptake excluding overflow\n",
    "    qSan =(qSox - qm) * Yem * Cx / Cs                  # anabolic substrate consumption\n",
    "    qsA  = qAmax * A / (A + Kaq) * (Ksq / (Ksq + qS))  # acetate consumption\n",
    "    qA   = pA - qsA                                    # total acetate equilibrium\n",
    "    qO   = Yosresp * (qSox - qSan) + qsA * Yaresp      # oxygen uptake\n",
    "\n",
    "    # growth rate equation\n",
    "    my =(qSox - qm) * Yem + qsA * Yam + qSof * Yofm\n",
    "\n",
    "    # differential equation system\n",
    "    dXdt   = -F1 / V * X + my * X                   # biomass growth\n",
    "    dSdt   = -F1 / V * S - qS * X + F1 / V * Si     # substrate evolution\n",
    "    dDOTdt = KLa * (DOTstar - DOT) - qO * X * H     # oxygen dynamics\n",
    "    dAdt   = qA * X - F1 / V * A                    # aetate evolution\n",
    "    dVdt   = (F1 - Fout)                            # volume change\n",
    "    dIdt = -F1/V*I + (Fi/V)*(If-I)                  #inducer dynamics\n",
    "    dPdt = -F1/V*P + ((k1*my*I)/(Ki+I)+k2)* X - k3 * P #protein dynamics\n",
    "\n",
    "    #the solution of odeint is formulated as a system of an ODE\n",
    "    dydt = [dXdt, dSdt, dDOTdt, dAdt, dVdt, dIdt, dPdt]\n",
    "\n",
    "    return dydt"
   ]
  },
  {
   "cell_type": "markdown",
   "metadata": {
    "id": "M8bue7nnFnUp"
   },
   "source": [
    "# Extract the relevant variables\n",
    "\n",
    "From the first pass on the model solving we extract the values that correspond to S < 0.5"
   ]
  },
  {
   "cell_type": "code",
   "execution_count": 5,
   "metadata": {
    "colab": {
     "base_uri": "https://localhost:8080/"
    },
    "executionInfo": {
     "elapsed": 7,
     "status": "ok",
     "timestamp": 1730373343415,
     "user": {
      "displayName": "Mariana Albino",
      "userId": "14583712435379609229"
     },
     "user_tz": -60
    },
    "id": "ZjjdOWo-sdNq",
    "outputId": "198c6c28-e32e-4bbd-83a4-c26012476acc"
   },
   "outputs": [
    {
     "ename": "NameError",
     "evalue": "name 'odeint' is not defined",
     "output_type": "error",
     "traceback": [
      "\u001b[1;31m---------------------------------------------------------------------------\u001b[0m",
      "\u001b[1;31mNameError\u001b[0m                                 Traceback (most recent call last)",
      "Cell \u001b[1;32mIn[5], line 1\u001b[0m\n\u001b[1;32m----> 1\u001b[0m solution_first_pass \u001b[38;5;241m=\u001b[39m \u001b[43modeint\u001b[49m(eColi_first_pass, y0, t)\n\u001b[0;32m      3\u001b[0m \u001b[38;5;66;03m# Extract S and find tf when S drops below 0.5\u001b[39;00m\n\u001b[0;32m      4\u001b[0m S \u001b[38;5;241m=\u001b[39m solution_first_pass[:, \u001b[38;5;241m1\u001b[39m]   \u001b[38;5;66;03m#Substrate concentraion S\u001b[39;00m\n",
      "\u001b[1;31mNameError\u001b[0m: name 'odeint' is not defined"
     ]
    }
   ],
   "source": [
    "solution_first_pass = odeint(eColi_first_pass, y0, t)\n",
    "\n",
    "# Extract S and find tf when S drops below 0.5\n",
    "S = solution_first_pass[:, 1]   #Substrate concentraion S\n",
    "X = solution_first_pass[:, 0]  # biomass concentration X\n",
    "V = solution_first_pass[:, 4]  # volume V\n",
    "\n",
    "tf, Xbf, Vbf = None, None, None\n",
    "for i in range(len(t)):\n",
    "    if S[i] < 0.5:\n",
    "        tf = t[i]     # Time when S drops below 0.5\n",
    "        Xbf = X[i]    # Biomass concentration X at that time\n",
    "        Vbf = V[i]    # Volume V at that time\n",
    "        break  # Exit the loop once we find tf\n",
    "\n",
    "print(f\"tf: {tf}, Xbf: {Xbf}, Vbf: {Vbf}\")"
   ]
  },
  {
   "cell_type": "markdown",
   "metadata": {
    "id": "Ri3cWI9sDp20"
   },
   "source": [
    "## Second pass of the model\n",
    "\n",
    "Here the model will be defined including the Fed-batch dynamics"
   ]
  },
  {
   "cell_type": "markdown",
   "metadata": {
    "id": "jHpeVfh9M2-b"
   },
   "source": [
    "# Define the model equations\n",
    "\n",
    "This cell defines the model equation in Fed-Batch mode.\n",
    "\n",
    "1. The first step is to assign the variable to simulate to the result vector y.\n",
    "\n",
    "\n",
    "2. The parameters characteristic for the strain are defined as well as physicochemical constants\n",
    "\n",
    "3. The algebraic expressions that describe the kinetics of the system are defined\n",
    "\n",
    "4. The feeding strategy is defined, both for the substrate and inductor. The expression used to calculate the substrate feed (F1) is dependednt on the substrate concentration. The expression used to calculate the inducer feed (Fi) is depedend on the biomass and inducer concentration.\n",
    "\n",
    "5. The ODE system is defined"
   ]
  },
  {
   "cell_type": "code",
   "execution_count": 6,
   "metadata": {
    "executionInfo": {
     "elapsed": 5,
     "status": "ok",
     "timestamp": 1730373343415,
     "user": {
      "displayName": "Mariana Albino",
      "userId": "14583712435379609229"
     },
     "user_tz": -60
    },
    "id": "VMtGl_Z_sfDE"
   },
   "outputs": [],
   "source": [
    "# define the function; Solve the model a second time, now including the feed eqs.\n",
    "def eColi_second_pass(y, t, tf, Xbf, Vbf):\n",
    "    X   = y[0]\n",
    "    S   = y[1]\n",
    "    DOT = y[2]\n",
    "    A   = y[3]\n",
    "    V   = y[4]\n",
    "    I   = y[5]\n",
    "    P   = y[6]\n",
    "\n",
    "\n",
    "    # parameters describing the characteristics of the strain\n",
    "\n",
    "    qAmax   = 1           # max Acetate consumption rate [g/g*h]\n",
    "    Kaq     = 0.01        # affinity constant Acetate consumption [g/L]\n",
    "    Ksq     = 0.1         # affinity constnat Substrate consumption [g/L]\n",
    "    Yam     = 0.2         # yield acetate maintenance [g/g]\n",
    "    Yaresp  = 0.2         # yield acetate respiratory [g/g]\n",
    "    Yem     = 0.56        # yield excluding maintance [g/g]\n",
    "    qSmax   = 1.4         # max glucose uptake rate [g/g*h]\n",
    "    Ks      = 0.05        # affinity constant glucose consumption[g/L]\n",
    "    qm      = 0.04        # specific maintenance coefficient[g/g*h]\n",
    "    Ko      = 1           # Affinity constant, oxygen consumption [g/L]\n",
    "    Yosresp = 1.217       # yield from S to X, respiratory [g/g]\n",
    "    pAmax   = 1           # max Acetate production rate [g/g*h]\n",
    "    Kap     = 10          # affinity constant intracellular acetate production[g/L]\n",
    "    Yaof    = 1           # aceate yield in overflow[g/g]\n",
    "    Yofm    = Yem         # [g/g]\n",
    "    k1=0.32\n",
    "    k2=0.00044\n",
    "    k3=0\n",
    "    Ki=0.55\n",
    "\n",
    "\n",
    "    # physicochemical constants\n",
    "    Cs      = 0.391       # ratio of substrate per C in [gC/gS]\n",
    "    Cx      = 0.488       # ratio of biomass per C in [gC/gX]\n",
    "    H       = 14000       # conversion factor\n",
    "    DOTstar = 90\n",
    "\n",
    "    # algebraic variables\n",
    "    qS   = qSmax * S / (S + Ks) * DOT / (DOT + Ko)     # substrate uptake\n",
    "    qSof = pAmax * qS / ( qS + Kap ) / Yaof            # overflow substrate conversion\n",
    "    pA   = pAmax * qS / (qS + Kap)                     # production of acetate\n",
    "    qSox = qS - qSof                                   # substrate uptake excluding overflow\n",
    "    qSan =(qSox - qm) * Yem * Cx / Cs                  # anabolic substrate consumption\n",
    "    qsA  = qAmax * A / (A + Kaq) * (Ksq / (Ksq + qS))  # acetate consumption\n",
    "    qA   = pA - qsA                                    # total acetate equilibrium\n",
    "    qO   = Yosresp * (qSox - qSan) + qsA * Yaresp      # oxygen uptake\n",
    "\n",
    "    # growht rate equation\n",
    "    my =(qSox - qm) * Yem + qsA * Yam + qSof * Yofm\n",
    "\n",
    "\n",
    "    #Define the feeding eqautions\n",
    "\n",
    "    #no feed if t<tf\n",
    "    if  t < tf:\n",
    "        F1 = 0\n",
    "\n",
    "    #We start with exponential feed\n",
    "    else:\n",
    "        if t <= (tf + 3):\n",
    "            F1 = (Xbf * Vbf * muset / (Yosresp * Si)) * np.exp(muset * (t - tf))\n",
    "        else:\n",
    "          #once S exceeds 0.03 we switch to a constant feeding strategy\n",
    "            if S >= 0.03:\n",
    "                F1 = 43.5\n",
    "                if F1 < 0:\n",
    "                    F1 = 0\n",
    "            else:\n",
    "                F1 = (Xbf * Vbf * muset / (Yosresp * Si)) * np.exp(muset * (t - tf))\n",
    "\n",
    "    # Handle Fi dynamically based on X > 20; Start induction for rhGH production\n",
    "    if X < 20:\n",
    "        Fi = 0\n",
    "    else:\n",
    "      #We start with a flow rate of 20 to quicly increase IPTG concentration and start protein production\n",
    "       if I < 0.238:\n",
    "        Fi = 20\n",
    "       # Once the desired concentration of 0.238 (1mM) is reached, the flow rate is calculated such that this concentration remains constant\n",
    "       else:\n",
    "          Fi = 0.238 * F1 / (If - 0.238)\n",
    "\n",
    "\n",
    "    # differential equation system\n",
    "    dXdt   = -F1 / V * X + my * X                   # biomass growth\n",
    "    dSdt   = -F1 / V * S - qS * X + F1 / V * Si     # substrate evolution\n",
    "    dDOTdt = KLa * (DOTstar - DOT) - qO * X * H     # oxygen dynamics\n",
    "    dAdt   = qA * X - F1 / V * A                    # aetate evolution\n",
    "    dVdt   = (F1 + Fi - Fout)                       # volume change\n",
    "    dIdt = -F1/V*I + (Fi/V)*(If-I)                  #inducer dynamics\n",
    "    dPdt = -F1/V*P + (((k1*my*I)/(Ki+I))+k2)* X -k3 *P  #protein dynamics\n",
    "\n",
    "    #the solution of odeint is formulated as a system of an ODE\n",
    "    dydt = [dXdt, dSdt, dDOTdt, dAdt, dVdt, dIdt, dPdt]\n",
    "\n",
    "    return dydt"
   ]
  },
  {
   "cell_type": "markdown",
   "metadata": {
    "id": "1GCSDD2nO5vg"
   },
   "source": [
    "# Extract the solution of the ODE system"
   ]
  },
  {
   "cell_type": "code",
   "execution_count": 7,
   "metadata": {
    "executionInfo": {
     "elapsed": 860,
     "status": "ok",
     "timestamp": 1730373344271,
     "user": {
      "displayName": "Mariana Albino",
      "userId": "14583712435379609229"
     },
     "user_tz": -60
    },
    "id": "lhJDkfOfh1fj"
   },
   "outputs": [
    {
     "ename": "NameError",
     "evalue": "name 'odeint' is not defined",
     "output_type": "error",
     "traceback": [
      "\u001b[1;31m---------------------------------------------------------------------------\u001b[0m",
      "\u001b[1;31mNameError\u001b[0m                                 Traceback (most recent call last)",
      "Cell \u001b[1;32mIn[7], line 2\u001b[0m\n\u001b[0;32m      1\u001b[0m \u001b[38;5;66;03m# calling the numerical solver to approximate the integral of the differential equation system\u001b[39;00m\n\u001b[1;32m----> 2\u001b[0m y \u001b[38;5;241m=\u001b[39m \u001b[43modeint\u001b[49m(eColi_second_pass, y0, t, args\u001b[38;5;241m=\u001b[39m(tf, Xbf, Vbf))\n",
      "\u001b[1;31mNameError\u001b[0m: name 'odeint' is not defined"
     ]
    }
   ],
   "source": [
    "# calling the numerical solver to approximate the integral of the differential equation system\n",
    "y = odeint(eColi_second_pass, y0, t, args=(tf, Xbf, Vbf))"
   ]
  },
  {
   "cell_type": "markdown",
   "metadata": {
    "id": "UTaPIza6Ph31"
   },
   "source": [
    "# Generate the plots\n",
    "\n",
    "This cell is used to collect all the simulated variables in a dataframe, and add them to 4 different subplots."
   ]
  },
  {
   "cell_type": "code",
   "execution_count": 8,
   "metadata": {
    "executionInfo": {
     "elapsed": 8,
     "status": "ok",
     "timestamp": 1730373344271,
     "user": {
      "displayName": "Mariana Albino",
      "userId": "14583712435379609229"
     },
     "user_tz": -60
    },
    "id": "TStGmjtUWcbE"
   },
   "outputs": [],
   "source": [
    "def create_plot(t, y):\n",
    "        figure = make_subplots(rows=2, cols=2,specs=[[{},{\"secondary_y\": True}], [{},{}]]) #make figure with 2 subplots\n",
    "        #assign simulation results to variable for plotting\n",
    "        X = y[:, 0]  # Extract data as 1D arrays\n",
    "        S = y[:, 1]\n",
    "        DOT = y[:, 2]\n",
    "        A = y[:, 3]\n",
    "        V = y[:, 4]\n",
    "        I = y[:, 5]\n",
    "        P = y[:, 6]\n",
    "\n",
    "\n",
    "         #collect all variables to plot in 1st subplot in a dataframe\n",
    "        df = pd.DataFrame({'t': t, 'X': X, 'S': S, 'DOT':DOT, 'Acet': A, 'V':V, 'Ind': I, 'P':P})\n",
    "         #add the different traces to 1st subplot\n",
    "\n",
    "        figure.add_trace(go.Scatter(x=df['t'], y=df['X'], name='Biomass'), row=1, col=1)\n",
    "        figure.add_trace(go.Scatter(x=df['t'], y=df['S'], name='Substrate'), row=1, col=1)\n",
    "\n",
    "        figure.add_trace(go.Scatter(x=df['t'], y=df['Acet'], name='Acetate'), row=1, col=2)\n",
    "        figure.add_trace(go.Scatter(x=df['t'], y=df['P'], name='protein'), row=1, col=2)\n",
    "        figure.add_trace(go.Scatter(x=df['t'], y=df['Ind'], name='inducer'), row=1, col=2, secondary_y=True)\n",
    "        figure.add_trace(go.Scatter(x=df['t'], y=df['DOT'], name='DOT'), row=2, col=1)\n",
    "\n",
    "        figure.update_yaxes(title_text=\"Concentration (g/L)\", row=1, col=1)  # Subplot (1, 1)\n",
    "\n",
    "        figure.update_yaxes(title_text=\"Protein and acetate (g/L)\", row=1, col=2)  # Subplot (1, 2)\n",
    "        figure.update_yaxes(title_text=\"Inducer (g/L)\", row=1, col=2, secondary_y=True) # Subplot (1, 2), secondary y-axis\n",
    "        figure.update_yaxes(title_text=\"Volume (L)\", row=2, col=2)  # Subplot (2, 2)\n",
    "        figure.update_yaxes(title_text=\"DOT (%)\", row=2, col=1)  # Subplot (2, 1)\n",
    "\n",
    "         #add the title and axes labels\n",
    "        figure.update_layout(title=('Simulaton results'),\n",
    "                             xaxis_title='time (h)')\n",
    "\n",
    "         #add trace to the 2nd subplot\n",
    "        figure.append_trace(go.Scatter(x=df['t'], y=df['V'], name='Volume'), row=2, col=2)\n",
    "\n",
    "\n",
    "        return figure"
   ]
  },
  {
   "cell_type": "markdown",
   "metadata": {
    "id": "wmJj9bfSQpI3"
   },
   "source": [
    "# Create the figure"
   ]
  },
  {
   "cell_type": "code",
   "execution_count": 9,
   "metadata": {
    "colab": {
     "base_uri": "https://localhost:8080/",
     "height": 542
    },
    "executionInfo": {
     "elapsed": 8,
     "status": "ok",
     "timestamp": 1730373344271,
     "user": {
      "displayName": "Mariana Albino",
      "userId": "14583712435379609229"
     },
     "user_tz": -60
    },
    "id": "Xk99AlbUXmlr",
    "outputId": "3ba2efa8-fbf0-43a1-b490-df1d68694765"
   },
   "outputs": [
    {
     "ename": "NameError",
     "evalue": "name 't' is not defined",
     "output_type": "error",
     "traceback": [
      "\u001b[1;31m---------------------------------------------------------------------------\u001b[0m",
      "\u001b[1;31mNameError\u001b[0m                                 Traceback (most recent call last)",
      "Cell \u001b[1;32mIn[9], line 1\u001b[0m\n\u001b[1;32m----> 1\u001b[0m fig \u001b[38;5;241m=\u001b[39m create_plot(\u001b[43mt\u001b[49m, y) \u001b[38;5;66;03m# Call create_plot with the simulation results\u001b[39;00m\n\u001b[0;32m      3\u001b[0m fig\u001b[38;5;241m.\u001b[39mshow()\n",
      "\u001b[1;31mNameError\u001b[0m: name 't' is not defined"
     ]
    }
   ],
   "source": [
    "fig = create_plot(t, y) # Call create_plot with the simulation results\n",
    "\n",
    "fig.show()"
   ]
  },
  {
   "cell_type": "markdown",
   "metadata": {},
   "source": [
    " E. coli fed-batch simulation\n",
    "Created on Thu Dec 10 12:14:22 2015\n",
    "\n",
    "@author: Terrance Wilms, Nicolas Cruz, Kevin Stegemann, Rosa Haßfurther Updated Sept 2024\n",
    "\n",
    "Protein production dynamics added by Mariana Albino (October 2024)"
   ]
  },
  {
   "cell_type": "markdown",
   "metadata": {},
   "source": []
  }
 ],
 "metadata": {
  "colab": {
   "provenance": [
    {
     "file_id": "13gvqZZlYNoQRetRFib1qp6sruwRdEi2Y",
     "timestamp": 1725437714892
    }
   ]
  },
  "kernelspec": {
   "display_name": "Python 3",
   "name": "python3"
  },
  "language_info": {
   "codemirror_mode": {
    "name": "ipython",
    "version": 3
   },
   "file_extension": ".py",
   "mimetype": "text/x-python",
   "name": "python",
   "nbconvert_exporter": "python",
   "pygments_lexer": "ipython3",
   "version": "3.11.9"
  }
 },
 "nbformat": 4,
 "nbformat_minor": 0
}