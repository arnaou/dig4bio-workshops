{
 "cells": [
  {
   "cell_type": "markdown",
   "id": "402dcf15-9b0f-4ad7-9a2c-389cfb30ee4b",
   "metadata": {},
   "source": [
    "# Chemical Reaction Engineering - Assignment 1"
   ]
  },
  {
   "cell_type": "markdown",
   "id": "1c5dec20-84bc-4e95-92d2-8f7215005806",
   "metadata": {},
   "source": [
    "## Instructions \n",
    "\n",
    "Please use Python to solve the exercises below. \n",
    "\n",
    "Your should hand in a jupyter notebook with your answers.\n",
    "When handing in, you are welcome to submit additional material you may have used, such as a scan of the paper to solve parts of the equations, Word and PDF documents and similar.\n",
    "\n",
    "The exercises sum up to a total of 12 points, but you only need **10 points** to get top marks.\n",
    "Please note that there are **two optional exercises** (for a total of 12 points). \n",
    "Consider solving the optional exercises if you are unsure about some of the others.\n",
    "\n",
    "You will also get partial points for trying to solve the different exercises."
   ]
  },
  {
   "cell_type": "markdown",
   "id": "2ce87203-6ab7-4d20-9f23-b9db25d79dd0",
   "metadata": {},
   "source": [
    "## Assignment 1"
   ]
  },
  {
   "cell_type": "markdown",
   "id": "c8acebd2-423e-4ec7-801a-6040394e2f9b",
   "metadata": {},
   "source": [
    "In your company, you need to evaluate the composition of the feed stream (containing only A and B) of an isothermal gas-phase reaction expressed as:\n",
    "\n",
    "$A+\\frac{1}{12}B→\\frac{1}{6}C+\\frac{1}{2}D$\n",
    "\n",
    "1. First, set up the stoichiometric table for the reaction for a flow reactor with constant pressure **(2 points)**. Afterwards, write the concentrations of A, B, C and D as function of the conversion X **(1 point)**.\n"
   ]
  },
  {
   "cell_type": "code",
   "execution_count": 1,
   "id": "d52dd8f0-acad-4669-a27f-501d13053a2a",
   "metadata": {},
   "outputs": [],
   "source": [
    "# Set up the stoichiometric table for the reaction for a flow reactor with constant pressure\n",
    "\n",
    "# Your code here"
   ]
  },
  {
   "cell_type": "markdown",
   "id": "efc7e37e-b9bf-462b-b7ad-b27c9e8a14af",
   "metadata": {},
   "source": [
    "<div>\n",
    "<img src=\"exercise1.png\" width=\"750\"/>\n",
    "</div>"
   ]
  },
  {
   "cell_type": "code",
   "execution_count": 2,
   "id": "ff0bfade-b70a-4a69-8dd2-8b56387f3047",
   "metadata": {},
   "outputs": [],
   "source": [
    "# Write the concentrations of A, B, C and D as function of the conversion X \n",
    "\n",
    "CA = f'C_A0'"
   ]
  },
  {
   "cell_type": "markdown",
   "id": "153a67c6-e0c3-4225-b844-65f6d4262290",
   "metadata": {},
   "source": [
    "During a laboratory experiment you measure in a batch reactor with constant volume:\n",
    "    \n",
    "| $$ Time (h) $$|  $$ Cc (mol \\cdot m^{-3}) $$ |\n",
    "| :------- | :------------------------- |\n",
    "| 0 | 0 |\n",
    "|2|2,5|\n",
    "|4|3,13|\n",
    "|6|3,41|\n",
    "|8|3,57|\n",
    "|10|3,68|\n",
    "|12|3,75|\n",
    "|14|3,81|\n",
    "|16|3,85|\n",
    "|18|3,88|\n",
    "|20|3,91|\n",
    "\n",
    "2. First of all, create a `pandas dataframe` of the data in the table below **(1 point)**."
   ]
  },
  {
   "cell_type": "code",
   "execution_count": 3,
   "id": "d161dc33-7ec2-4001-8292-25777c9b75f2",
   "metadata": {},
   "outputs": [
    {
     "ename": "ModuleNotFoundError",
     "evalue": "No module named 'pandas'",
     "output_type": "error",
     "traceback": [
      "\u001b[1;31m---------------------------------------------------------------------------\u001b[0m",
      "\u001b[1;31mModuleNotFoundError\u001b[0m                       Traceback (most recent call last)",
      "Cell \u001b[1;32mIn[3], line 2\u001b[0m\n\u001b[0;32m      1\u001b[0m \u001b[38;5;66;03m# Create pandas dataframe\u001b[39;00m\n\u001b[1;32m----> 2\u001b[0m \u001b[38;5;28;01mimport\u001b[39;00m \u001b[38;5;21;01mpandas\u001b[39;00m \u001b[38;5;28;01mas\u001b[39;00m \u001b[38;5;21;01mpd\u001b[39;00m\n\u001b[0;32m      4\u001b[0m df \u001b[38;5;241m=\u001b[39m pd\u001b[38;5;241m.\u001b[39mDataFrame()\n\u001b[0;32m      5\u001b[0m df[\u001b[38;5;124m'\u001b[39m\u001b[38;5;124mTime\u001b[39m\u001b[38;5;124m'\u001b[39m] \u001b[38;5;241m=\u001b[39m [\u001b[38;5;241m0\u001b[39m, \u001b[38;5;241m2\u001b[39m, \u001b[38;5;241m4\u001b[39m, \u001b[38;5;241m6\u001b[39m, \u001b[38;5;241m8\u001b[39m, \u001b[38;5;241m10\u001b[39m, \u001b[38;5;241m12\u001b[39m, \u001b[38;5;241m14\u001b[39m, \u001b[38;5;241m16\u001b[39m, \u001b[38;5;241m18\u001b[39m, \u001b[38;5;241m20\u001b[39m]\n",
      "\u001b[1;31mModuleNotFoundError\u001b[0m: No module named 'pandas'"
     ]
    }
   ],
   "source": [
    "# Create pandas dataframe\n",
    "import pandas as pd\n",
    "\n",
    "df = pd.DataFrame()\n",
    "df['Time'] = [0, 2, 4, 6, 8, 10, 12, 14, 16, 18, 20]\n",
    "df['Cc'] = [0, 2.5, 3.13, 3.41, 3.57, 3.68, 3.75, 3.81, 3.85, 3.88, 3.91]"
   ]
  },
  {
   "cell_type": "markdown",
   "id": "bf1653e6-337f-4232-ba31-c2a948cfd001",
   "metadata": {},
   "source": [
    "3. Calculate the rate of the reaction, which follows the expression:\n",
    "\n",
    "$-\\frac{dC_A}{dt} = k{C_{A}}^n$\n",
    "\n",
    "To do so, consider that this data is obtained with a constant volume reactor and the initial concentration of $C_A$ is 25 $mol \\cdot m^{-3}$. \n",
    "Choose between using the differential or the integral method **(2,5 points)**.\n",
    "\n",
    "**Optional**: Backup your answer with the other method **(1 point)**."
   ]
  },
  {
   "cell_type": "code",
   "execution_count": 4,
   "id": "d0e4ad3b-8058-4285-b0af-384d4eb75c4e",
   "metadata": {},
   "outputs": [
    {
     "ename": "ModuleNotFoundError",
     "evalue": "No module named 'numpy'",
     "output_type": "error",
     "traceback": [
      "\u001b[1;31m---------------------------------------------------------------------------\u001b[0m",
      "\u001b[1;31mModuleNotFoundError\u001b[0m                       Traceback (most recent call last)",
      "Cell \u001b[1;32mIn[4], line 2\u001b[0m\n\u001b[0;32m      1\u001b[0m \u001b[38;5;66;03m# Calculate the rate of the reaction\u001b[39;00m\n\u001b[1;32m----> 2\u001b[0m \u001b[38;5;28;01mimport\u001b[39;00m \u001b[38;5;21;01mnumpy\u001b[39;00m \u001b[38;5;28;01mas\u001b[39;00m \u001b[38;5;21;01mnp\u001b[39;00m\n\u001b[0;32m      4\u001b[0m \u001b[38;5;28;01mdef\u001b[39;00m \u001b[38;5;21mcalculate_CA\u001b[39m(C_A0, Cc):\n\u001b[0;32m      5\u001b[0m     C_A \u001b[38;5;241m=\u001b[39m C_A0\u001b[38;5;241m-\u001b[39m(\u001b[38;5;241m6\u001b[39m\u001b[38;5;241m*\u001b[39mCc)\n",
      "\u001b[1;31mModuleNotFoundError\u001b[0m: No module named 'numpy'"
     ]
    }
   ],
   "source": [
    "# Calculate the rate of the reaction\n",
    "import numpy as np\n",
    "\n",
    "def calculate_CA(C_A0, Cc):\n",
    "    C_A = C_A0-(6*Cc)\n",
    "    return C_A\n",
    "\n",
    "df['Ca'] = calculate_CA(25, df['Cc'])\n",
    "df['ln(Ca)'] = round(np.log(df['Ca']), 2)\n",
    "\n",
    "x = [a - b for a, b in zip(df['Ca'].iloc[1:], df['Ca'][:-1])]\n",
    "t = [a - b for a, b in zip(df['Time'].iloc[1:], df['Time'][:-1])]\n",
    "\n",
    "df['-delta Ca/delta t'] = [None] + [round(-(i/j), 2) for i, j in zip(x, t)]\n",
    "df['ln(-delta Ca/delta t)'] = round(np.log(df['-delta Ca/delta t']), 2)"
   ]
  },
  {
   "cell_type": "code",
   "execution_count": 5,
   "id": "2c62fcbb-11c2-4d03-8ec3-a985e9fb68e1",
   "metadata": {},
   "outputs": [
    {
     "ename": "NameError",
     "evalue": "name 'df' is not defined",
     "output_type": "error",
     "traceback": [
      "\u001b[1;31m---------------------------------------------------------------------------\u001b[0m",
      "\u001b[1;31mNameError\u001b[0m                                 Traceback (most recent call last)",
      "Cell \u001b[1;32mIn[5], line 1\u001b[0m\n\u001b[1;32m----> 1\u001b[0m \u001b[43mdf\u001b[49m\n",
      "\u001b[1;31mNameError\u001b[0m: name 'df' is not defined"
     ]
    }
   ],
   "source": [
    "df"
   ]
  },
  {
   "cell_type": "code",
   "execution_count": 6,
   "id": "98bbe4af-d7ee-4c4e-8e34-0af88eb9d152",
   "metadata": {},
   "outputs": [
    {
     "ename": "ModuleNotFoundError",
     "evalue": "No module named 'matplotlib'",
     "output_type": "error",
     "traceback": [
      "\u001b[1;31m---------------------------------------------------------------------------\u001b[0m",
      "\u001b[1;31mModuleNotFoundError\u001b[0m                       Traceback (most recent call last)",
      "Cell \u001b[1;32mIn[6], line 1\u001b[0m\n\u001b[1;32m----> 1\u001b[0m \u001b[38;5;28;01mimport\u001b[39;00m \u001b[38;5;21;01mmatplotlib\u001b[39;00m\u001b[38;5;21;01m.\u001b[39;00m\u001b[38;5;21;01mpyplot\u001b[39;00m \u001b[38;5;28;01mas\u001b[39;00m \u001b[38;5;21;01mplt\u001b[39;00m\n\u001b[0;32m      2\u001b[0m \u001b[38;5;28;01mimport\u001b[39;00m \u001b[38;5;21;01mscipy\u001b[39;00m\n\u001b[0;32m      3\u001b[0m \u001b[38;5;28;01mfrom\u001b[39;00m \u001b[38;5;21;01mscipy\u001b[39;00m \u001b[38;5;28;01mimport\u001b[39;00m stats\n",
      "\u001b[1;31mModuleNotFoundError\u001b[0m: No module named 'matplotlib'"
     ]
    }
   ],
   "source": [
    "import matplotlib.pyplot as plt\n",
    "import scipy\n",
    "from scipy import stats\n",
    "\n",
    "m, b, r_value, p_value, std_err = scipy.stats.linregress(df['ln(Ca)'].iloc[1:], df['ln(-delta Ca/delta t)'].iloc[1:])\n",
    "print(r_value)\n",
    "fig, ax = plt.subplots()\n",
    "ax.scatter(df['ln(Ca)'].iloc[1:], df['ln(-delta Ca/delta t)'].iloc[1:])\n",
    "ax.plot(df['ln(Ca)'].iloc[1:], m*df['ln(Ca)'].iloc[1:] + b)\n",
    "ax.annotate('r^2: ' + str(\"{:.2f}\".format(r_value**2)), xy=(0.5, 2))\n",
    "ax.annotate('formula: ' + str(\"{:.2f}\".format(m)) + 'x + ' + str(\"{:.2f}\".format(b)), xy=(0.5,1.7))\n",
    "plt.title('Differential method')\n",
    "plt.xlabel('ln(Ca)')\n",
    "plt.ylabel('ln(-delta Ca/delta t)')\n",
    "plt.legend()\n",
    "plt.grid()\n",
    "plt.ylim([-3, 3])\n",
    "fig.show()"
   ]
  },
  {
   "cell_type": "code",
   "execution_count": 7,
   "id": "85a3ff56-a711-4dba-bdb3-5fc17775bf21",
   "metadata": {},
   "outputs": [
    {
     "ename": "NameError",
     "evalue": "name 'df' is not defined",
     "output_type": "error",
     "traceback": [
      "\u001b[1;31m---------------------------------------------------------------------------\u001b[0m",
      "\u001b[1;31mNameError\u001b[0m                                 Traceback (most recent call last)",
      "Cell \u001b[1;32mIn[7], line 1\u001b[0m\n\u001b[1;32m----> 1\u001b[0m df[\u001b[38;5;124m'\u001b[39m\u001b[38;5;124m1/Ca\u001b[39m\u001b[38;5;124m'\u001b[39m] \u001b[38;5;241m=\u001b[39m \u001b[38;5;28mround\u001b[39m(\u001b[38;5;241m1\u001b[39m\u001b[38;5;241m/\u001b[39m\u001b[43mdf\u001b[49m[\u001b[38;5;124m'\u001b[39m\u001b[38;5;124mCa\u001b[39m\u001b[38;5;124m'\u001b[39m], \u001b[38;5;241m2\u001b[39m)\n\u001b[0;32m      3\u001b[0m m, b, r_value, p_value, std_err \u001b[38;5;241m=\u001b[39m scipy\u001b[38;5;241m.\u001b[39mstats\u001b[38;5;241m.\u001b[39mlinregress(df[\u001b[38;5;124m'\u001b[39m\u001b[38;5;124mTime\u001b[39m\u001b[38;5;124m'\u001b[39m]\u001b[38;5;241m.\u001b[39miloc[\u001b[38;5;241m1\u001b[39m:], df[\u001b[38;5;124m'\u001b[39m\u001b[38;5;124m1/Ca\u001b[39m\u001b[38;5;124m'\u001b[39m]\u001b[38;5;241m.\u001b[39miloc[\u001b[38;5;241m1\u001b[39m:])\n\u001b[0;32m      5\u001b[0m fig, ax \u001b[38;5;241m=\u001b[39m plt\u001b[38;5;241m.\u001b[39msubplots()\n",
      "\u001b[1;31mNameError\u001b[0m: name 'df' is not defined"
     ]
    }
   ],
   "source": [
    "df['1/Ca'] = round(1/df['Ca'], 2)\n",
    "\n",
    "m, b, r_value, p_value, std_err = scipy.stats.linregress(df['Time'].iloc[1:], df['1/Ca'].iloc[1:])\n",
    "\n",
    "fig, ax = plt.subplots()\n",
    "ax.scatter(df['Time'].iloc[1:], df['1/Ca'].iloc[1:])\n",
    "ax.plot(df['Time'].iloc[1:], m*df['Time'].iloc[1:] + b)\n",
    "ax.annotate('r^2: ' + str(\"{:.2f}\".format(r_value**2)), xy=(2.5, 0.6))\n",
    "ax.annotate('formula: ' + str(\"{:.2f}\".format(m)) + 'x + ' + str(\"{:.2f}\".format(b)), xy=(1950,18500))\n",
    "plt.title('Integral method')\n",
    "plt.xlabel('Time [h]')\n",
    "plt.ylabel('1/Ca')\n",
    "plt.legend()\n",
    "plt.grid()\n",
    "#plt.ylim([-3, 3])\n",
    "fig.show()"
   ]
  },
  {
   "cell_type": "code",
   "execution_count": null,
   "id": "7a489b38-8316-435f-a0ac-7763445fe190",
   "metadata": {},
   "outputs": [],
   "source": []
  },
  {
   "cell_type": "markdown",
   "id": "f5e21779-e4df-4dec-a90b-e337f7c96e08",
   "metadata": {},
   "source": [
    "4. Plot the concentrations of A, B, C and D versus time. Explain the assumption you have made **(1,5 point)**."
   ]
  },
  {
   "cell_type": "code",
   "execution_count": 8,
   "id": "a11ada77-13a0-49e9-9805-ee82f0f95083",
   "metadata": {},
   "outputs": [
    {
     "ename": "NameError",
     "evalue": "name 'df' is not defined",
     "output_type": "error",
     "traceback": [
      "\u001b[1;31m---------------------------------------------------------------------------\u001b[0m",
      "\u001b[1;31mNameError\u001b[0m                                 Traceback (most recent call last)",
      "Cell \u001b[1;32mIn[8], line 3\u001b[0m\n\u001b[0;32m      1\u001b[0m \u001b[38;5;66;03m# Plot the concentrations of A, B, C and D versus time\u001b[39;00m\n\u001b[1;32m----> 3\u001b[0m df[\u001b[38;5;124m'\u001b[39m\u001b[38;5;124mCb\u001b[39m\u001b[38;5;124m'\u001b[39m] \u001b[38;5;241m=\u001b[39m \u001b[38;5;28mround\u001b[39m(\u001b[43mdf\u001b[49m[\u001b[38;5;124m'\u001b[39m\u001b[38;5;124mCa\u001b[39m\u001b[38;5;124m'\u001b[39m]\u001b[38;5;241m*\u001b[39m\u001b[38;5;241m1\u001b[39m\u001b[38;5;241m/\u001b[39m\u001b[38;5;241m12\u001b[39m, \u001b[38;5;241m2\u001b[39m)\n\u001b[0;32m      4\u001b[0m df[\u001b[38;5;124m'\u001b[39m\u001b[38;5;124mCd\u001b[39m\u001b[38;5;124m'\u001b[39m] \u001b[38;5;241m=\u001b[39m \u001b[38;5;28mround\u001b[39m(df[\u001b[38;5;124m'\u001b[39m\u001b[38;5;124mCc\u001b[39m\u001b[38;5;124m'\u001b[39m]\u001b[38;5;241m/\u001b[39m(\u001b[38;5;241m1\u001b[39m\u001b[38;5;241m/\u001b[39m\u001b[38;5;241m6\u001b[39m)\u001b[38;5;241m*\u001b[39m(\u001b[38;5;241m1\u001b[39m\u001b[38;5;241m/\u001b[39m\u001b[38;5;241m2\u001b[39m), \u001b[38;5;241m2\u001b[39m)\n\u001b[0;32m      6\u001b[0m plt\u001b[38;5;241m.\u001b[39mfigure(figsize\u001b[38;5;241m=\u001b[39m(\u001b[38;5;241m10\u001b[39m,\u001b[38;5;241m7\u001b[39m))\n",
      "\u001b[1;31mNameError\u001b[0m: name 'df' is not defined"
     ]
    }
   ],
   "source": [
    "# Plot the concentrations of A, B, C and D versus time\n",
    "\n",
    "df['Cb'] = round(df['Ca']*1/12, 2)\n",
    "df['Cd'] = round(df['Cc']/(1/6)*(1/2), 2)\n",
    "\n",
    "plt.figure(figsize=(10,7))\n",
    "plt.plot(df['Time'], df['Ca'], color='red', label='Ca', marker='o')\n",
    "plt.plot(df['Time'], df['Cb'], color='orange', label='Cb', marker='o')\n",
    "plt.plot(df['Time'], df['Cc'], color='green', label='Cc', marker='o')\n",
    "plt.plot(df['Time'], df['Cd'], color='blue', label='Cd', marker='o')\n",
    "plt.title('Concentration vs time')\n",
    "plt.xlabel('Time [h]')\n",
    "plt.ylabel('Concentration [mol/mL]')\n",
    "plt.grid()\n",
    "plt.legend()"
   ]
  },
  {
   "cell_type": "markdown",
   "id": "c4d96ecc-6e1f-4f75-95e7-e04ac183865f",
   "metadata": {},
   "source": [
    "5. Finally, correlate the rate constant k with the temperature through the Arrhenius expression. Calculate the activation energy **(0,75 point)** and the Arrhenius constant **(0,75 point)** using the data below:\n",
    "\n",
    "| $$ Temperature (^\\circ C) $$ |  $$ {k (m^3 \\cdot mol^{-1} \\cdot h^{-1})} $$ |\n",
    "| :------- | :------------------------- |\n",
    "| 25 | 0,02764 |\n",
    "|30|0,03548|\n",
    "|35|0,04519|\n",
    "|45|0,07165|\n",
    "\n",
    "*Hint*: $ R = 8.314 J \\cdot mol^{-1}·K^{-1} $\n",
    "\n",
    "Plot the relation between the rate constant k and the temperature **(0,5 point)**."
   ]
  },
  {
   "cell_type": "code",
   "execution_count": 9,
   "id": "5611153d-f17b-46d2-a854-d0887476af4c",
   "metadata": {},
   "outputs": [
    {
     "ename": "NameError",
     "evalue": "name 'pd' is not defined",
     "output_type": "error",
     "traceback": [
      "\u001b[1;31m---------------------------------------------------------------------------\u001b[0m",
      "\u001b[1;31mNameError\u001b[0m                                 Traceback (most recent call last)",
      "Cell \u001b[1;32mIn[9], line 9\u001b[0m\n\u001b[0;32m      6\u001b[0m \u001b[38;5;28;01mdef\u001b[39;00m \u001b[38;5;21mcalculate_ln_k\u001b[39m(A, Ea, R, T):\n\u001b[0;32m      7\u001b[0m     \u001b[38;5;28;01mreturn\u001b[39;00m np\u001b[38;5;241m.\u001b[39mlog(A)\u001b[38;5;241m-\u001b[39m(Ea\u001b[38;5;241m/\u001b[39mR)\u001b[38;5;241m*\u001b[39m\u001b[38;5;241m1\u001b[39m\u001b[38;5;241m/\u001b[39mT\n\u001b[1;32m----> 9\u001b[0m df_arrhenius \u001b[38;5;241m=\u001b[39m \u001b[43mpd\u001b[49m\u001b[38;5;241m.\u001b[39mDataFrame()\n\u001b[0;32m     10\u001b[0m df_arrhenius[\u001b[38;5;124m'\u001b[39m\u001b[38;5;124mT_C\u001b[39m\u001b[38;5;124m'\u001b[39m] \u001b[38;5;241m=\u001b[39m [\u001b[38;5;241m25\u001b[39m, \u001b[38;5;241m30\u001b[39m, \u001b[38;5;241m35\u001b[39m, \u001b[38;5;241m45\u001b[39m]\n\u001b[0;32m     11\u001b[0m df_arrhenius[\u001b[38;5;124m'\u001b[39m\u001b[38;5;124mk\u001b[39m\u001b[38;5;124m'\u001b[39m] \u001b[38;5;241m=\u001b[39m [\u001b[38;5;241m0.02764\u001b[39m, \u001b[38;5;241m0.03548\u001b[39m, \u001b[38;5;241m0.04519\u001b[39m, \u001b[38;5;241m0.07165\u001b[39m]\n",
      "\u001b[1;31mNameError\u001b[0m: name 'pd' is not defined"
     ]
    }
   ],
   "source": [
    "# Calculate the activation energy\n",
    "\n",
    "def calculate_k(A, Ea, R, T):\n",
    "    return A* np.exp(-EA/(R*T))\n",
    "\n",
    "def calculate_ln_k(A, Ea, R, T):\n",
    "    return np.log(A)-(Ea/R)*1/T\n",
    "\n",
    "df_arrhenius = pd.DataFrame()\n",
    "df_arrhenius['T_C'] = [25, 30, 35, 45]\n",
    "df_arrhenius['k'] = [0.02764, 0.03548, 0.04519, 0.07165]\n",
    "df_arrhenius['T_K'] = round(273.15 + df_arrhenius['T_C'])\n",
    "df_arrhenius['1/T'] = 1/df_arrhenius['T_K']\n",
    "df_arrhenius['ln(k)'] = np.log(df_arrhenius['k'])\n",
    "\n",
    "df_arrhenius"
   ]
  },
  {
   "cell_type": "code",
   "execution_count": 10,
   "id": "540797e6-0f85-4eca-9957-e02f7e8358a9",
   "metadata": {},
   "outputs": [
    {
     "ename": "NameError",
     "evalue": "name 'plt' is not defined",
     "output_type": "error",
     "traceback": [
      "\u001b[1;31m---------------------------------------------------------------------------\u001b[0m",
      "\u001b[1;31mNameError\u001b[0m                                 Traceback (most recent call last)",
      "Cell \u001b[1;32mIn[10], line 1\u001b[0m\n\u001b[1;32m----> 1\u001b[0m \u001b[43mplt\u001b[49m\u001b[38;5;241m.\u001b[39mplot(df_arrhenius[\u001b[38;5;124m'\u001b[39m\u001b[38;5;124m1/T\u001b[39m\u001b[38;5;124m'\u001b[39m], df_arrhenius[\u001b[38;5;124m'\u001b[39m\u001b[38;5;124mln(k)\u001b[39m\u001b[38;5;124m'\u001b[39m], marker\u001b[38;5;241m=\u001b[39m\u001b[38;5;124m'\u001b[39m\u001b[38;5;124mo\u001b[39m\u001b[38;5;124m'\u001b[39m)\n\u001b[0;32m      2\u001b[0m z \u001b[38;5;241m=\u001b[39m np\u001b[38;5;241m.\u001b[39mpolyfit(df_arrhenius[\u001b[38;5;124m'\u001b[39m\u001b[38;5;124m1/T\u001b[39m\u001b[38;5;124m'\u001b[39m]\u001b[38;5;241m.\u001b[39mtolist(), df_arrhenius[\u001b[38;5;124m'\u001b[39m\u001b[38;5;124mln(k)\u001b[39m\u001b[38;5;124m'\u001b[39m]\u001b[38;5;241m.\u001b[39mtolist(), \u001b[38;5;241m1\u001b[39m)\n\u001b[0;32m      3\u001b[0m p \u001b[38;5;241m=\u001b[39m np\u001b[38;5;241m.\u001b[39mpoly1d(z)\n",
      "\u001b[1;31mNameError\u001b[0m: name 'plt' is not defined"
     ]
    }
   ],
   "source": [
    "plt.plot(df_arrhenius['1/T'], df_arrhenius['ln(k)'], marker='o')\n",
    "z = np.polyfit(df_arrhenius['1/T'].tolist(), df_arrhenius['ln(k)'].tolist(), 1)\n",
    "p = np.poly1d(z)\n",
    "ER = z[0]\n",
    "print(p)\n",
    "Ea = z[0]*R\n",
    "print(Ea)\n",
    "A = np.exp(z[1])\n",
    "print(A)\n",
    "plt.grid()\n",
    "plt.xlabel('1/T')\n",
    "plt.ylabel('ln(k)')\n",
    "plt.show()"
   ]
  },
  {
   "cell_type": "code",
   "execution_count": 11,
   "id": "11f7015c-e282-47ab-aa86-45975aa8f78e",
   "metadata": {},
   "outputs": [
    {
     "name": "stdout",
     "output_type": "stream",
     "text": [
      "37525.239\n"
     ]
    },
    {
     "ename": "NameError",
     "evalue": "name 'np' is not defined",
     "output_type": "error",
     "traceback": [
      "\u001b[1;31m---------------------------------------------------------------------------\u001b[0m",
      "\u001b[1;31mNameError\u001b[0m                                 Traceback (most recent call last)",
      "Cell \u001b[1;32mIn[11], line 8\u001b[0m\n\u001b[0;32m      5\u001b[0m \u001b[38;5;28mprint\u001b[39m(Ea)\n\u001b[0;32m      7\u001b[0m T \u001b[38;5;241m=\u001b[39m \u001b[38;5;241m25\u001b[39m\u001b[38;5;241m+\u001b[39m\u001b[38;5;241m273\u001b[39m\n\u001b[1;32m----> 8\u001b[0m A \u001b[38;5;241m=\u001b[39m k\u001b[38;5;241m/\u001b[39m(\u001b[43mnp\u001b[49m\u001b[38;5;241m.\u001b[39mexp(\u001b[38;5;241m-\u001b[39mEa\u001b[38;5;241m/\u001b[39m(R\u001b[38;5;241m*\u001b[39mT)))\n\u001b[0;32m      9\u001b[0m A\n",
      "\u001b[1;31mNameError\u001b[0m: name 'np' is not defined"
     ]
    }
   ],
   "source": [
    "# Calculate the Arrhenius constant\n",
    "k = 0.02764\n",
    "R = 8.314\n",
    "Ea = 4513.5*R \n",
    "print(Ea)\n",
    "\n",
    "T = 25+273\n",
    "A = k/(np.exp(-Ea/(R*T)))\n",
    "A"
   ]
  },
  {
   "cell_type": "code",
   "execution_count": 12,
   "id": "b22fb9fe-7945-46c5-a419-0170dda19531",
   "metadata": {},
   "outputs": [
    {
     "ename": "NameError",
     "evalue": "name 'np' is not defined",
     "output_type": "error",
     "traceback": [
      "\u001b[1;31m---------------------------------------------------------------------------\u001b[0m",
      "\u001b[1;31mNameError\u001b[0m                                 Traceback (most recent call last)",
      "Cell \u001b[1;32mIn[12], line 1\u001b[0m\n\u001b[1;32m----> 1\u001b[0m \u001b[43mnp\u001b[49m\u001b[38;5;241m.\u001b[39mexp(\u001b[38;5;241m-\u001b[39m\u001b[38;5;241m3.376\u001b[39m)\n",
      "\u001b[1;31mNameError\u001b[0m: name 'np' is not defined"
     ]
    }
   ],
   "source": [
    "np.exp(-3.376)"
   ]
  },
  {
   "cell_type": "code",
   "execution_count": 13,
   "id": "6e5867d2-1045-420f-a2e5-233fc17f161c",
   "metadata": {},
   "outputs": [],
   "source": [
    "# Plot the relation between the rate constant k and the temperature\n",
    "\n",
    "# Your code here"
   ]
  },
  {
   "cell_type": "markdown",
   "id": "3b102666-5ebd-45a0-9258-3d0c0bd12000",
   "metadata": {},
   "source": [
    "**Optional**: Write the complete kinetic expression written with the concentration of $C_A$ expressed with help of the initial concentration $C_{A0}$ and X **(1 point)**.\n"
   ]
  },
  {
   "cell_type": "code",
   "execution_count": 14,
   "id": "a0fe3a93-da94-42ba-bcbd-ec5566128a8b",
   "metadata": {},
   "outputs": [],
   "source": [
    "# Write the complete kinetic expression\n",
    "\n",
    "# Your code here"
   ]
  }
 ],
 "metadata": {
  "kernelspec": {
   "display_name": "Python 3 (ipykernel)",
   "language": "python",
   "name": "python3"
  },
  "language_info": {
   "codemirror_mode": {
    "name": "ipython",
    "version": 3
   },
   "file_extension": ".py",
   "mimetype": "text/x-python",
   "name": "python",
   "nbconvert_exporter": "python",
   "pygments_lexer": "ipython3",
   "version": "3.11.9"
  }
 },
 "nbformat": 4,
 "nbformat_minor": 5
}