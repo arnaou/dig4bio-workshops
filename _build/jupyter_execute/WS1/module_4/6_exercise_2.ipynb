{
 "cells": [
  {
   "cell_type": "markdown",
   "id": "402dcf15-9b0f-4ad7-9a2c-389cfb30ee4b",
   "metadata": {},
   "source": [
    "# Chemical Reaction Engineering - Assignment 1"
   ]
  },
  {
   "cell_type": "markdown",
   "id": "1c5dec20-84bc-4e95-92d2-8f7215005806",
   "metadata": {
    "jp-MarkdownHeadingCollapsed": true,
    "tags": []
   },
   "source": [
    "## Instructions \n",
    "\n",
    "Please use Python to solve the exercises below. \n",
    "\n",
    "You should hand in a Jupyter Notebook with your answers.\n",
    "When handing in, you are welcome to submit additional material you may have used, such as a scan of the paper to solve parts of the equations, Word and PDF documents and similar.\n",
    "\n",
    "The exercises sum up to a total of 12 points, but you only need **10 points** to get top marks.\n",
    "\n",
    "You will also get partial points for trying to solve the different exercises."
   ]
  },
  {
   "cell_type": "markdown",
   "id": "2ce87203-6ab7-4d20-9f23-b9db25d79dd0",
   "metadata": {},
   "source": [
    "## Assignment 1"
   ]
  },
  {
   "cell_type": "markdown",
   "id": "c8acebd2-423e-4ec7-801a-6040394e2f9b",
   "metadata": {},
   "source": [
    "In your company, you need to evaluate the composition of the feed stream (containing only A and B) of an isothermal gas-phase reaction expressed as:\n",
    "\n",
    "$A+\\frac{1}{12}B→\\frac{1}{6}C+\\frac{1}{2}D$\n",
    "\n",
    "1. First, set up the stoichiometric table for the reaction for a flow reactor with constant pressure **(2 points)**. Afterward, write the concentrations of A, B, C and D as function of the conversion X **(1 point)**.\n"
   ]
  },
  {
   "cell_type": "code",
   "execution_count": 1,
   "id": "d52dd8f0-acad-4669-a27f-501d13053a2a",
   "metadata": {},
   "outputs": [],
   "source": [
    "# Set up the stoichiometric table for the reaction for a flow reactor with constant pressure\n",
    "\n",
    "# Your code here"
   ]
  },
  {
   "cell_type": "code",
   "execution_count": 2,
   "id": "ff0bfade-b70a-4a69-8dd2-8b56387f3047",
   "metadata": {},
   "outputs": [],
   "source": [
    "# Write the concentrations of A, B, C and D as function of the conversion X \n",
    "\n",
    "# Your code here"
   ]
  },
  {
   "cell_type": "markdown",
   "id": "153a67c6-e0c3-4225-b844-65f6d4262290",
   "metadata": {},
   "source": [
    "During a laboratory experiment, you measure in a batch reactor with constant volume:\n",
    "    \n",
    "| $$ Time (h) $$|  $$ Cc (mol \\cdot m^{-3}) $$ |\n",
    "| :------- | :------------------------- |\n",
    "| 0 | 0 |\n",
    "|2|2,5|\n",
    "|4|3,13|\n",
    "|6|3,41|\n",
    "|8|3,57|\n",
    "|10|3,68|\n",
    "|12|3,75|\n",
    "|14|3,81|\n",
    "|16|3,85|\n",
    "|18|3,88|\n",
    "|20|3,91|\n",
    "\n",
    "2. First of all, create a `pandas dataframe` of the data in the table below **(0,2 points)**."
   ]
  },
  {
   "cell_type": "code",
   "execution_count": 3,
   "id": "d161dc33-7ec2-4001-8292-25777c9b75f2",
   "metadata": {},
   "outputs": [
    {
     "ename": "NameError",
     "evalue": "name 'pd' is not defined",
     "output_type": "error",
     "traceback": [
      "\u001b[1;31m---------------------------------------------------------------------------\u001b[0m",
      "\u001b[1;31mNameError\u001b[0m                                 Traceback (most recent call last)",
      "Cell \u001b[1;32mIn[3], line 4\u001b[0m\n\u001b[0;32m      1\u001b[0m \u001b[38;5;66;03m# Create pandas dataframe\u001b[39;00m\n\u001b[0;32m      2\u001b[0m \n\u001b[0;32m      3\u001b[0m \u001b[38;5;66;03m# Your code here\u001b[39;00m\n\u001b[1;32m----> 4\u001b[0m df \u001b[38;5;241m=\u001b[39m \u001b[43mpd\u001b[49m\u001b[38;5;241m.\u001b[39mDataFrame()\n\u001b[0;32m      5\u001b[0m df[\u001b[38;5;124m'\u001b[39m\u001b[38;5;124mTime\u001b[39m\u001b[38;5;124m'\u001b[39m] \u001b[38;5;241m=\u001b[39m [\u001b[38;5;241m0\u001b[39m, \u001b[38;5;241m2\u001b[39m, \u001b[38;5;241m4\u001b[39m, \u001b[38;5;241m6\u001b[39m, \u001b[38;5;241m8\u001b[39m, \u001b[38;5;241m10\u001b[39m, \u001b[38;5;241m12\u001b[39m, \u001b[38;5;241m14\u001b[39m, \u001b[38;5;241m16\u001b[39m, \u001b[38;5;241m18\u001b[39m, \u001b[38;5;241m20\u001b[39m]\n\u001b[0;32m      6\u001b[0m df[\u001b[38;5;124m'\u001b[39m\u001b[38;5;124mCc\u001b[39m\u001b[38;5;124m'\u001b[39m] \u001b[38;5;241m=\u001b[39m [\u001b[38;5;241m0\u001b[39m, \u001b[38;5;241m2.5\u001b[39m, \u001b[38;5;241m3.13\u001b[39m, \u001b[38;5;241m3.41\u001b[39m, \u001b[38;5;241m3.57\u001b[39m, \u001b[38;5;241m3.68\u001b[39m, \u001b[38;5;241m3.75\u001b[39m, \u001b[38;5;241m3.81\u001b[39m, \u001b[38;5;241m3.85\u001b[39m, \u001b[38;5;241m3.88\u001b[39m, \u001b[38;5;241m3.91\u001b[39m]\n",
      "\u001b[1;31mNameError\u001b[0m: name 'pd' is not defined"
     ]
    }
   ],
   "source": [
    "# Create pandas dataframe\n",
    "\n",
    "# Your code here\n",
    "df = pd.DataFrame()\n",
    "df['Time'] = [0, 2, 4, 6, 8, 10, 12, 14, 16, 18, 20]\n",
    "df['Cc'] = [0, 2.5, 3.13, 3.41, 3.57, 3.68, 3.75, 3.81, 3.85, 3.88, 3.91]\n",
    "df['Ca'] = [c*2 for c in df['Cc']]"
   ]
  },
  {
   "cell_type": "markdown",
   "id": "bf1653e6-337f-4232-ba31-c2a948cfd001",
   "metadata": {},
   "source": [
    "3. Calculate the rate of the reaction, which follows the expression:\n",
    "\n",
    "$-\\frac{dC_A}{dt} = k{C_{A}}^n$\n",
    "\n",
    "To do so, consider that this data is obtained with a constant volume reactor and the initial concentration of $C_A$ is 25 $mol \\cdot m^{-3}$. \n",
    "Choose between using the differential or the integral method **(2 points)**.\n",
    "\n",
    "Back up your answer with the other method **(0,8 points)**."
   ]
  },
  {
   "cell_type": "markdown",
   "id": "bb2a25f6-f4b7-4ed4-b43e-972364dc22e5",
   "metadata": {},
   "source": [
    "*Hint*: [linear regression](https://docs.scipy.org/doc/scipy/reference/generated/scipy.stats.linregress.html)"
   ]
  },
  {
   "cell_type": "code",
   "execution_count": null,
   "id": "d0e4ad3b-8058-4285-b0af-384d4eb75c4e",
   "metadata": {},
   "outputs": [],
   "source": [
    "# Calculate the rate of the reaction\n",
    "\n",
    "# Your code here"
   ]
  },
  {
   "cell_type": "markdown",
   "id": "f5e21779-e4df-4dec-a90b-e337f7c96e08",
   "metadata": {},
   "source": [
    "4. Plot the concentrations of A, B, C and D versus time. Explain the assumption you have made **(1 point)**."
   ]
  },
  {
   "cell_type": "code",
   "execution_count": null,
   "id": "a11ada77-13a0-49e9-9805-ee82f0f95083",
   "metadata": {},
   "outputs": [],
   "source": [
    "# Plot the concentrations of A, B, C and D versus time\n",
    "\n",
    "# Your code here"
   ]
  },
  {
   "cell_type": "markdown",
   "id": "c4d96ecc-6e1f-4f75-95e7-e04ac183865f",
   "metadata": {},
   "source": [
    "5. Finally, correlate the rate constant k with the temperature through the Arrhenius expression. Calculate the activation energy **(0,75 point)** and the Arrhenius constant **(0,75 point)** using the data below:\n",
    "\n",
    "| $$ Temperature (^\\circ C) $$ |  $$ {k (m^3 \\cdot mol^{-1} \\cdot h^{-1})} $$ |\n",
    "| :------- | :------------------------- |\n",
    "| 25 | 0,02764 |\n",
    "|30|0,03548|\n",
    "|35|0,04519|\n",
    "|45|0,07165|\n",
    "\n",
    "*Hint*: $ R = 8.314 J \\cdot mol^{-1}·K^{-1} $\n",
    "\n",
    "Plot the relation between the rate constant k and the temperature **(0,5 point)**."
   ]
  },
  {
   "cell_type": "code",
   "execution_count": null,
   "id": "5611153d-f17b-46d2-a854-d0887476af4c",
   "metadata": {},
   "outputs": [],
   "source": [
    "# Calculate the activation energy\n",
    "\n",
    "# Your code here"
   ]
  },
  {
   "cell_type": "code",
   "execution_count": null,
   "id": "11f7015c-e282-47ab-aa86-45975aa8f78e",
   "metadata": {},
   "outputs": [],
   "source": [
    "# Calculate the Arrhenius constant\n",
    "\n",
    "# Your code here"
   ]
  },
  {
   "cell_type": "code",
   "execution_count": null,
   "id": "6e5867d2-1045-420f-a2e5-233fc17f161c",
   "metadata": {},
   "outputs": [],
   "source": [
    "# Plot the relation between the rate constant k and the temperature\n",
    "\n",
    "# Your code here"
   ]
  },
  {
   "cell_type": "markdown",
   "id": "3b102666-5ebd-45a0-9258-3d0c0bd12000",
   "metadata": {},
   "source": [
    "6. Write the complete kinetic expression written with the concentration of $C_A$ expressed with help of the initial concentration $C_{A0}$ and X **(1 point)**.\n",
    "\n",
    "Note: You can also write the complete kinetic expression on paper and upload the file/image here.\n"
   ]
  },
  {
   "cell_type": "code",
   "execution_count": null,
   "id": "a0fe3a93-da94-42ba-bcbd-ec5566128a8b",
   "metadata": {},
   "outputs": [],
   "source": [
    "# Write the complete kinetic expression\n",
    "\n",
    "# Your code here"
   ]
  }
 ],
 "metadata": {
  "kernelspec": {
   "display_name": "Python 3 (ipykernel)",
   "language": "python",
   "name": "python3"
  },
  "language_info": {
   "codemirror_mode": {
    "name": "ipython",
    "version": 3
   },
   "file_extension": ".py",
   "mimetype": "text/x-python",
   "name": "python",
   "nbconvert_exporter": "python",
   "pygments_lexer": "ipython3",
   "version": "3.11.9"
  }
 },
 "nbformat": 4,
 "nbformat_minor": 5
}