{
 "cells": [
  {
   "cell_type": "markdown",
   "id": "de4c7922-8621-40b8-8acf-ec4e51c6e377",
   "metadata": {},
   "source": [
    "# Linear Regression\n",
    "\n",
    "In this notebook, we will explore some more operations, such as calculating the logarithm in numpy and doing a linear regression.\n",
    "\n",
    "You have the following isothermic reaction:\n",
    "$A+\\frac{1}{6}B→\\frac{1}{4}C+\\frac{1}{2}D$\n",
    "\n",
    "During a laboratory experiment you measure in a batch reactor with constant volume and the initial concentration of $C_A$ is 25 $mol \\cdot m^{-3}$."
   ]
  },
  {
   "cell_type": "code",
   "execution_count": 1,
   "id": "13048039-3f7d-49ad-bbde-06353d36dfb0",
   "metadata": {},
   "outputs": [
    {
     "ename": "ModuleNotFoundError",
     "evalue": "No module named 'pandas'",
     "output_type": "error",
     "traceback": [
      "\u001b[1;31m---------------------------------------------------------------------------\u001b[0m",
      "\u001b[1;31mModuleNotFoundError\u001b[0m                       Traceback (most recent call last)",
      "Cell \u001b[1;32mIn[1], line 1\u001b[0m\n\u001b[1;32m----> 1\u001b[0m \u001b[38;5;28;01mimport\u001b[39;00m \u001b[38;5;21;01mpandas\u001b[39;00m \u001b[38;5;28;01mas\u001b[39;00m \u001b[38;5;21;01mpd\u001b[39;00m\n\u001b[0;32m      2\u001b[0m \u001b[38;5;28;01mimport\u001b[39;00m \u001b[38;5;21;01mnumpy\u001b[39;00m \u001b[38;5;28;01mas\u001b[39;00m \u001b[38;5;21;01mnp\u001b[39;00m\n\u001b[0;32m      3\u001b[0m \u001b[38;5;28;01mimport\u001b[39;00m \u001b[38;5;21;01mscipy\u001b[39;00m\n",
      "\u001b[1;31mModuleNotFoundError\u001b[0m: No module named 'pandas'"
     ]
    }
   ],
   "source": [
    "import pandas as pd\n",
    "import numpy as np\n",
    "import scipy\n",
    "from scipy import stats\n",
    "import matplotlib.pyplot as plt\n",
    "\n",
    "# define a distribution of CC\n",
    "cc = np.linspace(0, 4, 11)\n",
    "time = [0, 2, 4, 6, 8, 10, 12, 14, 16, 18, 20]\n",
    "\n",
    "# create a pandas dataframe with the data we simulated \n",
    "df = pd.DataFrame()\n",
    "df['Time'] = time\n",
    "df['Cc'] = cc"
   ]
  },
  {
   "cell_type": "code",
   "execution_count": 2,
   "id": "c9883c57-fe68-4693-8250-dfbc0a86f8a8",
   "metadata": {},
   "outputs": [
    {
     "ename": "NameError",
     "evalue": "name 'df' is not defined",
     "output_type": "error",
     "traceback": [
      "\u001b[1;31m---------------------------------------------------------------------------\u001b[0m",
      "\u001b[1;31mNameError\u001b[0m                                 Traceback (most recent call last)",
      "Cell \u001b[1;32mIn[2], line 7\u001b[0m\n\u001b[0;32m      4\u001b[0m     \u001b[38;5;28;01mreturn\u001b[39;00m C_A\n\u001b[0;32m      6\u001b[0m \u001b[38;5;66;03m# Looking at the stochiometry, we know that CA can be calculated from CC and CA0\u001b[39;00m\n\u001b[1;32m----> 7\u001b[0m df[\u001b[38;5;124m'\u001b[39m\u001b[38;5;124mCa\u001b[39m\u001b[38;5;124m'\u001b[39m] \u001b[38;5;241m=\u001b[39m calculate_CA(\u001b[38;5;241m25\u001b[39m, \u001b[43mdf\u001b[49m[\u001b[38;5;124m'\u001b[39m\u001b[38;5;124mCc\u001b[39m\u001b[38;5;124m'\u001b[39m])\n",
      "\u001b[1;31mNameError\u001b[0m: name 'df' is not defined"
     ]
    }
   ],
   "source": [
    "# create a function to calculate CA given CC and CA0\n",
    "def calculate_CA(C_A0, Cc):\n",
    "    C_A = C_A0-(4*Cc)\n",
    "    return C_A\n",
    "\n",
    "# Looking at the stochiometry, we know that CA can be calculated from CC and CA0\n",
    "df['Ca'] = calculate_CA(25, df['Cc'])"
   ]
  },
  {
   "cell_type": "markdown",
   "id": "24a6a7bd-e3a8-472d-bb4e-a7d07e4002a6",
   "metadata": {},
   "source": [
    "## Finding the logarithm of a value in Python\n",
    "\n",
    "Here we will use the numpy library to calculate the logarithm of the values defined."
   ]
  },
  {
   "cell_type": "code",
   "execution_count": 3,
   "id": "0ce6a9cf-25ca-4670-b920-b99660123d06",
   "metadata": {},
   "outputs": [
    {
     "ename": "NameError",
     "evalue": "name 'np' is not defined",
     "output_type": "error",
     "traceback": [
      "\u001b[1;31m---------------------------------------------------------------------------\u001b[0m",
      "\u001b[1;31mNameError\u001b[0m                                 Traceback (most recent call last)",
      "Cell \u001b[1;32mIn[3], line 2\u001b[0m\n\u001b[0;32m      1\u001b[0m \u001b[38;5;66;03m# find the log of CA\u001b[39;00m\n\u001b[1;32m----> 2\u001b[0m df[\u001b[38;5;124m'\u001b[39m\u001b[38;5;124mln(Ca)\u001b[39m\u001b[38;5;124m'\u001b[39m] \u001b[38;5;241m=\u001b[39m \u001b[38;5;28mround\u001b[39m(\u001b[43mnp\u001b[49m\u001b[38;5;241m.\u001b[39mlog(df[\u001b[38;5;124m'\u001b[39m\u001b[38;5;124mCa\u001b[39m\u001b[38;5;124m'\u001b[39m]), \u001b[38;5;241m2\u001b[39m)\n",
      "\u001b[1;31mNameError\u001b[0m: name 'np' is not defined"
     ]
    }
   ],
   "source": [
    "# find the log of CA\n",
    "df['ln(Ca)'] = round(np.log(df['Ca']), 2)"
   ]
  },
  {
   "cell_type": "markdown",
   "id": "3d886559-d7cd-4521-a6d9-f86446051a98",
   "metadata": {},
   "source": [
    "## Simple linear regression in Python with SciPy library\n",
    "\n",
    "Here we calculate a linear least-squares regression for two sets of measurements.\n",
    "Check the documentation [here](https://docs.scipy.org/doc/scipy/reference/generated/scipy.stats.linregress.html).\n",
    "\n",
    "The unction returns:\n",
    "- Slope of the regression line\n",
    "- Intercept of the regression line\n",
    "- The Pearson correlation coefficient. The square of rvalue is equal to the coefficient of determination\n",
    "- The p-value for a hypothesis test whose null hypothesis is that the slope is zero, using Wald Test with t-distribution of the test statistic. See alternative above for alternative hypotheses\n",
    "- Standard error of the estimated slope (gradient), under the assumption of residual normality\n",
    "- Standard error of the estimated intercept, under the assumption of residual normality"
   ]
  },
  {
   "cell_type": "code",
   "execution_count": 4,
   "id": "ceb896e9-f581-4b1c-8507-a1ffb05d2cab",
   "metadata": {},
   "outputs": [
    {
     "ename": "NameError",
     "evalue": "name 'df' is not defined",
     "output_type": "error",
     "traceback": [
      "\u001b[1;31m---------------------------------------------------------------------------\u001b[0m",
      "\u001b[1;31mNameError\u001b[0m                                 Traceback (most recent call last)",
      "Cell \u001b[1;32mIn[4], line 1\u001b[0m\n\u001b[1;32m----> 1\u001b[0m \u001b[43mdf\u001b[49m\n",
      "\u001b[1;31mNameError\u001b[0m: name 'df' is not defined"
     ]
    }
   ],
   "source": [
    "df"
   ]
  },
  {
   "cell_type": "code",
   "execution_count": 5,
   "id": "fce433ff-7735-4752-bce7-8f4746d90c0a",
   "metadata": {},
   "outputs": [
    {
     "ename": "NameError",
     "evalue": "name 'df' is not defined",
     "output_type": "error",
     "traceback": [
      "\u001b[1;31m---------------------------------------------------------------------------\u001b[0m",
      "\u001b[1;31mNameError\u001b[0m                                 Traceback (most recent call last)",
      "Cell \u001b[1;32mIn[5], line 1\u001b[0m\n\u001b[1;32m----> 1\u001b[0m df[\u001b[38;5;124m'\u001b[39m\u001b[38;5;124m1/Ca\u001b[39m\u001b[38;5;124m'\u001b[39m] \u001b[38;5;241m=\u001b[39m \u001b[38;5;28mround\u001b[39m(\u001b[38;5;241m1\u001b[39m\u001b[38;5;241m/\u001b[39m\u001b[43mdf\u001b[49m[\u001b[38;5;124m'\u001b[39m\u001b[38;5;124mCa\u001b[39m\u001b[38;5;124m'\u001b[39m], \u001b[38;5;241m2\u001b[39m)\n\u001b[0;32m      3\u001b[0m \u001b[38;5;66;03m# linear least-squares regression\u001b[39;00m\n\u001b[0;32m      4\u001b[0m m, b, r_value, p_value, std_err \u001b[38;5;241m=\u001b[39m scipy\u001b[38;5;241m.\u001b[39mstats\u001b[38;5;241m.\u001b[39mlinregress(df[\u001b[38;5;124m'\u001b[39m\u001b[38;5;124mTime\u001b[39m\u001b[38;5;124m'\u001b[39m]\u001b[38;5;241m.\u001b[39miloc[\u001b[38;5;241m1\u001b[39m:], df[\u001b[38;5;124m'\u001b[39m\u001b[38;5;124m1/Ca\u001b[39m\u001b[38;5;124m'\u001b[39m]\u001b[38;5;241m.\u001b[39miloc[\u001b[38;5;241m1\u001b[39m:])\n",
      "\u001b[1;31mNameError\u001b[0m: name 'df' is not defined"
     ]
    }
   ],
   "source": [
    "df['1/Ca'] = round(1/df['Ca'], 2)\n",
    "\n",
    "# linear least-squares regression\n",
    "m, b, r_value, p_value, std_err = scipy.stats.linregress(df['Time'].iloc[1:], df['1/Ca'].iloc[1:])\n",
    "\n",
    "#plotting the results and annotating the plot\n",
    "fig, ax = plt.subplots()\n",
    "ax.scatter(df['Time'].iloc[1:], df['1/Ca'].iloc[1:])\n",
    "ax.plot(df['Time'].iloc[1:], m*df['Time'].iloc[1:] + b)\n",
    "ax.annotate('r^2: ' + str(\"{:.2f}\".format(r_value**2)), xy=(2.5, 0.105))\n",
    "ax.annotate('formula: ' + str(\"{:.2f}\".format(m)) + 'x + ' + str(\"{:.2f}\".format(b)), xy=(2.5, 0.10))\n",
    "plt.title('Linear least-squares regression for two sets of measurements.')\n",
    "plt.xlabel('Time [h]')\n",
    "plt.ylabel('1/Ca')\n",
    "plt.legend()\n",
    "plt.grid()\n",
    "fig.show()"
   ]
  }
 ],
 "metadata": {
  "kernelspec": {
   "display_name": "Python 3 (ipykernel)",
   "language": "python",
   "name": "python3"
  },
  "language_info": {
   "codemirror_mode": {
    "name": "ipython",
    "version": 3
   },
   "file_extension": ".py",
   "mimetype": "text/x-python",
   "name": "python",
   "nbconvert_exporter": "python",
   "pygments_lexer": "ipython3",
   "version": "3.11.9"
  }
 },
 "nbformat": 4,
 "nbformat_minor": 5
}