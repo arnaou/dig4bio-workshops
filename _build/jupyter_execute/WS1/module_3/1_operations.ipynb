{
 "cells": [
  {
   "cell_type": "markdown",
   "id": "db8b05b9-736b-485c-ba2d-aee765423a0e",
   "metadata": {},
   "source": [
    "# SciPy\n",
    "\n",
    "SciPy is the most used Scientific library in Python. It is well documented and easy to use, and it is fast.\n",
    "\n",
    "It is useful for different operations, for example:\n",
    "- Integration\n",
    "- Optimization\n",
    "- Special functions\n",
    "- Interpolation\n",
    "- Linear Algebra\n",
    "- Signal Processing\n",
    "- Statistics\n",
    "- Spatial data structures and algorithms.\n",
    "\n",
    "See all the possibilities [here](https://docs.scipy.org/doc/scipy/tutorial/index.html#user-guide)."
   ]
  },
  {
   "cell_type": "markdown",
   "id": "3c3a4b10-9408-4d3c-be79-c9384d55c357",
   "metadata": {},
   "source": [
    "In this lesson, we will look at some examples where you use Python to solve different mathematical operations, such as integrations, equations and linear algebra. \n",
    "\n",
    "We will mostly use the [SciPy library](https://docs.scipy.org/doc/scipy/index.html), so please take some time to get familiar with it."
   ]
  },
  {
   "cell_type": "markdown",
   "id": "714a53dd-21ab-4f45-9509-f3ec897d0185",
   "metadata": {},
   "source": [
    "## Statistics\n",
    "\n",
    "The `scipy.stats` [module](https://docs.scipy.org/doc/scipy/reference/stats.html) contains a large number of probability distributions, frequency statistics, correlation functions and statistical tests, and more.\n",
    "\n",
    "We will not go through examples of this module at this time, but it's a good idea to get familiar with the list of functions available."
   ]
  },
  {
   "cell_type": "markdown",
   "id": "79e6a4cc-958b-4553-a083-e4f69bdf0924",
   "metadata": {},
   "source": [
    "## Constants\n",
    "\n",
    "Instead of looking for a constant and manually assigning it to a value, you can use SciPy to find most of them!\n",
    "\n",
    "The module you will use is `scipy.constants`, check it out [here](https://docs.scipy.org/doc/scipy/reference/constants.html)."
   ]
  },
  {
   "cell_type": "code",
   "execution_count": 1,
   "id": "47437749-1956-4eaa-8d90-45012c046c2a",
   "metadata": {
    "scrolled": true,
    "tags": []
   },
   "outputs": [
    {
     "ename": "ModuleNotFoundError",
     "evalue": "No module named 'scipy'",
     "output_type": "error",
     "traceback": [
      "\u001b[1;31m---------------------------------------------------------------------------\u001b[0m",
      "\u001b[1;31mModuleNotFoundError\u001b[0m                       Traceback (most recent call last)",
      "Cell \u001b[1;32mIn[1], line 3\u001b[0m\n\u001b[0;32m      1\u001b[0m \u001b[38;5;66;03m# uncomment the following line\u001b[39;00m\n\u001b[0;32m      2\u001b[0m \u001b[38;5;66;03m# to print the list of available constants\u001b[39;00m\n\u001b[1;32m----> 3\u001b[0m \u001b[38;5;28;01mimport\u001b[39;00m \u001b[38;5;21;01mscipy\u001b[39;00m\u001b[38;5;21;01m.\u001b[39;00m\u001b[38;5;21;01mconstants\u001b[39;00m\n\u001b[0;32m      4\u001b[0m scipy\u001b[38;5;241m.\u001b[39mconstants\u001b[38;5;241m.\u001b[39mfind()\n",
      "\u001b[1;31mModuleNotFoundError\u001b[0m: No module named 'scipy'"
     ]
    }
   ],
   "source": [
    "# uncomment the following line\n",
    "# to print the list of available constants\n",
    "import scipy.constants\n",
    "scipy.constants.find()"
   ]
  },
  {
   "cell_type": "markdown",
   "id": "b2a96a83-d167-4b4d-95e6-cbf3fe9c8b86",
   "metadata": {},
   "source": [
    "Save the constant that you need for later use"
   ]
  },
  {
   "cell_type": "code",
   "execution_count": 2,
   "id": "0f4a2baa-16d9-4967-95ec-01fcf96a0eb4",
   "metadata": {},
   "outputs": [
    {
     "ename": "ModuleNotFoundError",
     "evalue": "No module named 'scipy'",
     "output_type": "error",
     "traceback": [
      "\u001b[1;31m---------------------------------------------------------------------------\u001b[0m",
      "\u001b[1;31mModuleNotFoundError\u001b[0m                       Traceback (most recent call last)",
      "Cell \u001b[1;32mIn[2], line 1\u001b[0m\n\u001b[1;32m----> 1\u001b[0m \u001b[38;5;28;01mimport\u001b[39;00m \u001b[38;5;21;01mscipy\u001b[39;00m\u001b[38;5;21;01m.\u001b[39;00m\u001b[38;5;21;01mconstants\u001b[39;00m\n\u001b[0;32m      2\u001b[0m res \u001b[38;5;241m=\u001b[39m scipy\u001b[38;5;241m.\u001b[39mconstants\u001b[38;5;241m.\u001b[39mphysical_constants[\u001b[38;5;124m\"\u001b[39m\u001b[38;5;124malpha particle mass\u001b[39m\u001b[38;5;124m\"\u001b[39m]\n\u001b[0;32m      3\u001b[0m res\n",
      "\u001b[1;31mModuleNotFoundError\u001b[0m: No module named 'scipy'"
     ]
    }
   ],
   "source": [
    "import scipy.constants\n",
    "res = scipy.constants.physical_constants[\"alpha particle mass\"]\n",
    "res"
   ]
  },
  {
   "cell_type": "markdown",
   "id": "c10b2446-e0bd-4779-b51a-e5cab766d7bb",
   "metadata": {},
   "source": [
    "## Integration\n",
    "\n",
    "SciPy can be used to solve integrals, which will be very useful to you in the future when solving chemical reactions engineering exercises, so remember these functions!\n",
    "\n",
    "Here, we will use the `quad` function, but you can check out the full guide on integration [here](https://docs.scipy.org/doc/scipy/tutorial/integrate.html)."
   ]
  },
  {
   "cell_type": "code",
   "execution_count": 3,
   "id": "173db3bb-2ea9-4149-8356-0e367c74b6d9",
   "metadata": {},
   "outputs": [
    {
     "ename": "ModuleNotFoundError",
     "evalue": "No module named 'scipy'",
     "output_type": "error",
     "traceback": [
      "\u001b[1;31m---------------------------------------------------------------------------\u001b[0m",
      "\u001b[1;31mModuleNotFoundError\u001b[0m                       Traceback (most recent call last)",
      "Cell \u001b[1;32mIn[3], line 1\u001b[0m\n\u001b[1;32m----> 1\u001b[0m \u001b[38;5;28;01mimport\u001b[39;00m \u001b[38;5;21;01mscipy\u001b[39;00m\u001b[38;5;21;01m.\u001b[39;00m\u001b[38;5;21;01mintegrate\u001b[39;00m\n\u001b[0;32m      3\u001b[0m \u001b[38;5;66;03m# you can use the ? to get info\u001b[39;00m\n\u001b[0;32m      4\u001b[0m get_ipython()\u001b[38;5;241m.\u001b[39mrun_line_magic(\u001b[38;5;124m'\u001b[39m\u001b[38;5;124mpinfo\u001b[39m\u001b[38;5;124m'\u001b[39m, \u001b[38;5;124m'\u001b[39m\u001b[38;5;124mscipy.integrate\u001b[39m\u001b[38;5;124m'\u001b[39m)\n",
      "\u001b[1;31mModuleNotFoundError\u001b[0m: No module named 'scipy'"
     ]
    }
   ],
   "source": [
    "import scipy.integrate\n",
    "\n",
    "# you can use the ? to get info\n",
    "scipy.integrate?"
   ]
  },
  {
   "cell_type": "markdown",
   "id": "2f7246fe-4d38-4b41-bdd3-b07f48cbf2f1",
   "metadata": {},
   "source": [
    "Let's define an example function that we will integrate"
   ]
  },
  {
   "cell_type": "code",
   "execution_count": 4,
   "id": "f2907e58-548c-4819-ac15-dddeabe3560d",
   "metadata": {},
   "outputs": [
    {
     "ename": "ModuleNotFoundError",
     "evalue": "No module named 'scipy'",
     "output_type": "error",
     "traceback": [
      "\u001b[1;31m---------------------------------------------------------------------------\u001b[0m",
      "\u001b[1;31mModuleNotFoundError\u001b[0m                       Traceback (most recent call last)",
      "Cell \u001b[1;32mIn[4], line 2\u001b[0m\n\u001b[0;32m      1\u001b[0m \u001b[38;5;28;01mfrom\u001b[39;00m \u001b[38;5;21;01mmath\u001b[39;00m \u001b[38;5;28;01mimport\u001b[39;00m cos, exp, pi, sin\n\u001b[1;32m----> 2\u001b[0m \u001b[38;5;28;01mfrom\u001b[39;00m \u001b[38;5;21;01mscipy\u001b[39;00m\u001b[38;5;21;01m.\u001b[39;00m\u001b[38;5;21;01mintegrate\u001b[39;00m \u001b[38;5;28;01mimport\u001b[39;00m quad\n\u001b[0;32m      4\u001b[0m \u001b[38;5;66;03m# define a function to integrate\u001b[39;00m\n\u001b[0;32m      5\u001b[0m \u001b[38;5;28;01mdef\u001b[39;00m \u001b[38;5;21mf\u001b[39m(x):\n",
      "\u001b[1;31mModuleNotFoundError\u001b[0m: No module named 'scipy'"
     ]
    }
   ],
   "source": [
    "from math import cos, exp, pi, sin\n",
    "from scipy.integrate import quad\n",
    "\n",
    "# define a function to integrate\n",
    "def f(x):\n",
    "    return (2 * x * pi) + 3.2\n",
    "\n",
    "# call quad to integrate f from -2 to 2\n",
    "res, err = quad(f, -2, 2)\n",
    "\n",
    "print(f\"The numerical result is {res} (+-{err})\")"
   ]
  },
  {
   "cell_type": "code",
   "execution_count": 5,
   "id": "3157d8e5-8d0a-40b0-b7ac-00b9664faa62",
   "metadata": {},
   "outputs": [
    {
     "name": "stdout",
     "output_type": "stream",
     "text": [
      "0.0\n"
     ]
    }
   ],
   "source": [
    "print(sin(0))"
   ]
  },
  {
   "cell_type": "markdown",
   "id": "7d72982d-195e-4734-bd46-0747c5a45fc1",
   "metadata": {},
   "source": [
    "As you can see, `quad` returns two values, the first number is the value of the integral and the second is the estimate of the absolute error in the value of the integral."
   ]
  },
  {
   "cell_type": "markdown",
   "id": "a914505f-a512-43bb-b2f2-63ccc78791a7",
   "metadata": {},
   "source": [
    "**Exercise**: Change the function above to return the sin of the function.\n",
    "\n",
    "Level: <span style=\"color:green\">Easy</span>."
   ]
  },
  {
   "cell_type": "code",
   "execution_count": 6,
   "id": "50e1b854-7c65-4aa3-9fe6-58b0286f151c",
   "metadata": {},
   "outputs": [
    {
     "ename": "NameError",
     "evalue": "name 'quad' is not defined",
     "output_type": "error",
     "traceback": [
      "\u001b[1;31m---------------------------------------------------------------------------\u001b[0m",
      "\u001b[1;31mNameError\u001b[0m                                 Traceback (most recent call last)",
      "Cell \u001b[1;32mIn[6], line 7\u001b[0m\n\u001b[0;32m      4\u001b[0m     \u001b[38;5;28;01mreturn\u001b[39;00m sin((\u001b[38;5;241m2\u001b[39m \u001b[38;5;241m*\u001b[39m x \u001b[38;5;241m*\u001b[39m pi) \u001b[38;5;241m+\u001b[39m \u001b[38;5;241m3.2\u001b[39m)\n\u001b[0;32m      6\u001b[0m \u001b[38;5;66;03m# call quad to integrate f from -2 to 2\u001b[39;00m\n\u001b[1;32m----> 7\u001b[0m res, err \u001b[38;5;241m=\u001b[39m \u001b[43mquad\u001b[49m(f, \u001b[38;5;241m-\u001b[39m\u001b[38;5;241m2\u001b[39m, \u001b[38;5;241m2\u001b[39m)\n\u001b[0;32m      9\u001b[0m \u001b[38;5;28mprint\u001b[39m(\u001b[38;5;124mf\u001b[39m\u001b[38;5;124m\"\u001b[39m\u001b[38;5;124mThe numerical result is \u001b[39m\u001b[38;5;132;01m{\u001b[39;00mres\u001b[38;5;132;01m}\u001b[39;00m\u001b[38;5;124m (+-\u001b[39m\u001b[38;5;132;01m{\u001b[39;00merr\u001b[38;5;132;01m}\u001b[39;00m\u001b[38;5;124m)\u001b[39m\u001b[38;5;124m\"\u001b[39m)\n",
      "\u001b[1;31mNameError\u001b[0m: name 'quad' is not defined"
     ]
    }
   ],
   "source": [
    "# Your code here\n",
    "# define a function to integrate\n",
    "def f(x):\n",
    "    return sin((2 * x * pi) + 3.2)\n",
    "\n",
    "# call quad to integrate f from -2 to 2\n",
    "res, err = quad(f, -2, 2)\n",
    "\n",
    "print(f\"The numerical result is {res} (+-{err})\")"
   ]
  },
  {
   "cell_type": "markdown",
   "id": "0ffe5d79-00ef-486c-9c9c-b2d647f84f9c",
   "metadata": {},
   "source": [
    "**Exercise**: Change the lower and upper limits of the integral. Try out a few different values (at least 5).\n",
    "\n",
    "Level: <span style=\"color:green\">Easy</span>."
   ]
  },
  {
   "cell_type": "code",
   "execution_count": 7,
   "id": "9d076762-07dd-41c7-8535-2ddaad58e3cf",
   "metadata": {},
   "outputs": [],
   "source": [
    "# Your code here"
   ]
  },
  {
   "cell_type": "markdown",
   "id": "df5293b4-c3c0-4fde-a7dd-8ccf81fbbd02",
   "metadata": {},
   "source": [
    "**Exercise**: Store the numerical values you calculated before into a data structure that you prefer. Plot the values using `matplotlib`.\n",
    "\n",
    "Level: <span style=\"color:orange\">Medium</span>."
   ]
  },
  {
   "cell_type": "code",
   "execution_count": 8,
   "id": "d98b0c50-4e60-46dd-8c77-a7372e973792",
   "metadata": {},
   "outputs": [],
   "source": [
    "# Your code here"
   ]
  },
  {
   "cell_type": "markdown",
   "id": "1b886bc9-f012-4436-bf5a-8edb0ae9ab2f",
   "metadata": {},
   "source": [
    "You can also pass the function f using a [lambda function](https://www.w3schools.com/python/python_lambda.asp)."
   ]
  },
  {
   "cell_type": "code",
   "execution_count": 9,
   "id": "d7511535-95ca-4aa8-97ea-def2b633c0b9",
   "metadata": {},
   "outputs": [
    {
     "ename": "NameError",
     "evalue": "name 'scipy' is not defined",
     "output_type": "error",
     "traceback": [
      "\u001b[1;31m---------------------------------------------------------------------------\u001b[0m",
      "\u001b[1;31mNameError\u001b[0m                                 Traceback (most recent call last)",
      "Cell \u001b[1;32mIn[9], line 2\u001b[0m\n\u001b[0;32m      1\u001b[0m f \u001b[38;5;241m=\u001b[39m \u001b[38;5;28;01mlambda\u001b[39;00m x: exp(\u001b[38;5;241m-\u001b[39mx\u001b[38;5;241m*\u001b[39m\u001b[38;5;241m*\u001b[39m\u001b[38;5;241m2\u001b[39m)\n\u001b[1;32m----> 2\u001b[0m integral \u001b[38;5;241m=\u001b[39m \u001b[43mscipy\u001b[49m\u001b[38;5;241m.\u001b[39mintegrate\u001b[38;5;241m.\u001b[39mquad(f, \u001b[38;5;241m0\u001b[39m, \u001b[38;5;241m1\u001b[39m)\n\u001b[0;32m      3\u001b[0m integral\n",
      "\u001b[1;31mNameError\u001b[0m: name 'scipy' is not defined"
     ]
    }
   ],
   "source": [
    "f = lambda x: exp(-x**2)\n",
    "integral = scipy.integrate.quad(f, 0, 1)\n",
    "integral"
   ]
  },
  {
   "cell_type": "markdown",
   "id": "7fdcc6c2-1c04-499d-ac7b-bd79432864ab",
   "metadata": {},
   "source": [
    "## Equations"
   ]
  },
  {
   "cell_type": "markdown",
   "id": "3fb0fd14-b6fc-4e75-bd3b-a65d0812e375",
   "metadata": {},
   "source": [
    "Another package, [SymPy](https://docs.sympy.org/latest/modules/solvers/solvers.html) can be used also to solve equations, let's see how that works in a practical example.\n",
    "\n",
    "In this example, we will calculate the experimental gas (air) hold-up and the theoretical gas hold-up for the conditions applicable in a bubble column experiment.\n",
    "\n",
    "The gas hold-up is calculated from the equation given below.\n",
    "\\begin{equation}\n",
    "  \\frac{ɛ}{(1-ɛ)^4}= 0.2 \\cdot Bo^{1/8}\\cdot Ga^{1/12}\\cdot Fr\n",
    "\\end{equation}\n",
    "In which $Bo = gD^2\\rho/\\sigma$, $Ga = gD^3\\rho^2/\\eta^2$, and $Fr = v_G / \\sqrt{gD}$."
   ]
  },
  {
   "cell_type": "code",
   "execution_count": 10,
   "id": "f26cde71-01c9-4bac-99ad-c1985c4b9fef",
   "metadata": {},
   "outputs": [
    {
     "ename": "ModuleNotFoundError",
     "evalue": "No module named 'numpy'",
     "output_type": "error",
     "traceback": [
      "\u001b[1;31m---------------------------------------------------------------------------\u001b[0m",
      "\u001b[1;31mModuleNotFoundError\u001b[0m                       Traceback (most recent call last)",
      "Cell \u001b[1;32mIn[10], line 1\u001b[0m\n\u001b[1;32m----> 1\u001b[0m \u001b[38;5;28;01mimport\u001b[39;00m \u001b[38;5;21;01mnumpy\u001b[39;00m \u001b[38;5;28;01mas\u001b[39;00m \u001b[38;5;21;01mnp\u001b[39;00m\n\u001b[0;32m      2\u001b[0m \u001b[38;5;28;01mfrom\u001b[39;00m \u001b[38;5;21;01msympy\u001b[39;00m \u001b[38;5;28;01mimport\u001b[39;00m symbols, solve\n\u001b[0;32m      4\u001b[0m g \u001b[38;5;241m=\u001b[39m \u001b[38;5;241m9.81\u001b[39m \u001b[38;5;66;03m# m/s^2 - gravitational constant\u001b[39;00m\n",
      "\u001b[1;31mModuleNotFoundError\u001b[0m: No module named 'numpy'"
     ]
    }
   ],
   "source": [
    "import numpy as np\n",
    "from sympy import symbols, solve\n",
    "\n",
    "g = 9.81 # m/s^2 - gravitational constant\n",
    "rho = 1000 # kg/m^3 - liquid density\n",
    "sigma = 0.072 # kg/s^2 - liquid surface tension\n",
    "eta = 0.00100160 # kg/s*m - dynamic viscosity of water at 20 degC\n",
    "D = 0.592 # m - Internal diameter of column tube\n",
    "S = np.pi * (D/2)**2 # m^2 - Cross-sectional area of column\n",
    "Q = np.array([300, 600]) * 0.001 * 1/60 # m^3/s - volume flowrate\n",
    "\n",
    "def superficialVelocity(Q, S):\n",
    "    return Q/S\n",
    "\n",
    "for air_flow in Q:\n",
    "    vG = superficialVelocity(air_flow, S) # m/s\n",
    "    print(\"vG (m/s)\", vG)\n",
    "\n",
    "    Bo = g*D**2*rho/sigma\n",
    "    print(\"Bo:\",Bo)\n",
    "\n",
    "    Ga = g*D**3*rho**2/eta**2\n",
    "    print(\"Ga\", Ga)\n",
    "\n",
    "    Fr = vG/np.sqrt(g*D)\n",
    "    print(\"Fr\", Fr)\n",
    "\n",
    "    epsilon = symbols('epsilon')\n",
    "    expr = 0.2*Bo**(1/8)*Ga**(1/12)*Fr-epsilon/((1-epsilon)**4)\n",
    "\n",
    "    sol = solve(expr) # this is how to use the sympy solve package\n",
    "    print(sol)\n",
    "    print('Simple correlation', 0.6*vG**0.7 )\n",
    "    print()"
   ]
  },
  {
   "cell_type": "markdown",
   "id": "39186478-3ea4-4ac9-9ea9-d42287e4fbca",
   "metadata": {},
   "source": [
    "## Solving Systems of Differential Equations\n",
    "\n",
    "We will use [scipy.integrate.solve_ivp](https://docs.scipy.org/doc/scipy/reference/generated/scipy.integrate.solve_ivp.html).\n",
    "\n",
    "Please take some time to read the documentation and get familiar with it.\n",
    "\n",
    "Note that SciPy has also another package for solving ODEs: [scipy.integrate.odeint](https://docs.scipy.org/doc/scipy/reference/generated/scipy.integrate.odeint.html).\n",
    "\n",
    "You can read more on the comparison of the two packages in this blog post [here](https://danielmuellerkomorowska.com/2021/02/16/differential-equations-with-scipy-odeint-or-solve_ivp/). In this course, it is recommended to use scipy. integrate.solve_ivp."
   ]
  },
  {
   "cell_type": "code",
   "execution_count": 11,
   "id": "66a57ee7-ef04-4017-af7d-ada14a1736b0",
   "metadata": {},
   "outputs": [
    {
     "ename": "ModuleNotFoundError",
     "evalue": "No module named 'scipy'",
     "output_type": "error",
     "traceback": [
      "\u001b[1;31m---------------------------------------------------------------------------\u001b[0m",
      "\u001b[1;31mModuleNotFoundError\u001b[0m                       Traceback (most recent call last)",
      "Cell \u001b[1;32mIn[11], line 1\u001b[0m\n\u001b[1;32m----> 1\u001b[0m \u001b[38;5;28;01mfrom\u001b[39;00m \u001b[38;5;21;01mscipy\u001b[39;00m\u001b[38;5;21;01m.\u001b[39;00m\u001b[38;5;21;01mintegrate\u001b[39;00m \u001b[38;5;28;01mimport\u001b[39;00m solve_ivp, odeint\n\u001b[0;32m      2\u001b[0m \u001b[38;5;28;01mdef\u001b[39;00m \u001b[38;5;21mexponential_decay\u001b[39m(t, y): \n\u001b[0;32m      3\u001b[0m     \u001b[38;5;28;01mreturn\u001b[39;00m \u001b[38;5;241m-\u001b[39m\u001b[38;5;241m0.5\u001b[39m \u001b[38;5;241m*\u001b[39m y\n",
      "\u001b[1;31mModuleNotFoundError\u001b[0m: No module named 'scipy'"
     ]
    }
   ],
   "source": [
    "from scipy.integrate import solve_ivp, odeint\n",
    "def exponential_decay(t, y): \n",
    "    return -0.5 * y\n",
    "\n",
    "sol = solve_ivp(exponential_decay, [0, 10], [2, 4, 8])\n",
    "print(sol.t)\n",
    "print()\n",
    "print(sol.y)"
   ]
  },
  {
   "cell_type": "code",
   "execution_count": 12,
   "id": "62fa9353-40c6-41ea-9989-b70c30a2508c",
   "metadata": {},
   "outputs": [
    {
     "ename": "ModuleNotFoundError",
     "evalue": "No module named 'numpy'",
     "output_type": "error",
     "traceback": [
      "\u001b[1;31m---------------------------------------------------------------------------\u001b[0m",
      "\u001b[1;31mModuleNotFoundError\u001b[0m                       Traceback (most recent call last)",
      "Cell \u001b[1;32mIn[12], line 1\u001b[0m\n\u001b[1;32m----> 1\u001b[0m \u001b[38;5;28;01mimport\u001b[39;00m \u001b[38;5;21;01mnumpy\u001b[39;00m \u001b[38;5;28;01mas\u001b[39;00m \u001b[38;5;21;01mnp\u001b[39;00m\n\u001b[0;32m      2\u001b[0m \u001b[38;5;28;01mimport\u001b[39;00m \u001b[38;5;21;01mmatplotlib\u001b[39;00m\u001b[38;5;21;01m.\u001b[39;00m\u001b[38;5;21;01mpyplot\u001b[39;00m \u001b[38;5;28;01mas\u001b[39;00m \u001b[38;5;21;01mplt\u001b[39;00m\n\u001b[0;32m      4\u001b[0m \u001b[38;5;28;01mdef\u001b[39;00m \u001b[38;5;21mlotkavolterra\u001b[39m(t, z, a, b, c, d):\n",
      "\u001b[1;31mModuleNotFoundError\u001b[0m: No module named 'numpy'"
     ]
    }
   ],
   "source": [
    "import numpy as np\n",
    "import matplotlib.pyplot as plt\n",
    "\n",
    "def lotkavolterra(t, z, a, b, c, d):\n",
    "    x, y = z\n",
    "    return [a*x - b*x*y, -c*y + d*x*y]\n",
    "\n",
    "sol = solve_ivp(lotkavolterra, [0, 15], [10, 5], \n",
    "                args=(1.5, 1, 3, 1),                                  # parameter values a=1.5, b=1, c=3 and d=1 are passed with the args argument\n",
    "                dense_output=True)                                           # dense_output=True computes a continuous solution\n",
    "\n",
    "#generating t and solving the system of ODEs\n",
    "t = np.linspace(0, 15, 300)\n",
    "z1 = sol.sol(t)\n",
    "# plotting the solution\n",
    "plt.plot(t, z1.T)\n",
    "plt.xlabel('t')\n",
    "plt.legend(['x', 'y'], shadow=True)\n",
    "plt.title('Lotka-Volterra System')\n",
    "plt.show()"
   ]
  },
  {
   "cell_type": "code",
   "execution_count": 13,
   "id": "14288a34-e899-464b-8579-7276916bd2df",
   "metadata": {},
   "outputs": [
    {
     "data": {
      "text/plain": [
       "467293847.68"
      ]
     },
     "execution_count": 13,
     "metadata": {},
     "output_type": "execute_result"
    }
   ],
   "source": [
    "round(467293847.67899, 2)"
   ]
  },
  {
   "cell_type": "markdown",
   "id": "f7a2b35c-be14-4825-b07f-3b781fd50ba9",
   "metadata": {},
   "source": [
    "**Exercise**: Write your own function and use the `solve_ivp` package. Plot the values using `matplotlib`.\n",
    "\n",
    "Level: <span style=\"color:orange\">Medium</span>."
   ]
  },
  {
   "cell_type": "code",
   "execution_count": 14,
   "id": "d9854bf9-1f16-4816-9939-37a63f9144f8",
   "metadata": {},
   "outputs": [],
   "source": [
    "# Your code here"
   ]
  },
  {
   "cell_type": "markdown",
   "id": "2bfa9a87-17ff-412c-9776-8e239f7fbc00",
   "metadata": {},
   "source": [
    "## Linear Algebra\n",
    "\n",
    "For more details, check the documentation page [here](https://docs.scipy.org/doc/scipy/tutorial/linalg.html).\n",
    "We will follow the example of the [least-squares solution to equation Ax = b](https://docs.scipy.org/doc/scipy/reference/generated/scipy.linalg.lstsq.html#scipy.linalg.lstsq).\n",
    "\n",
    "To get more information of [Least squares](https://en.wikipedia.org/wiki/Least_squares)."
   ]
  },
  {
   "cell_type": "code",
   "execution_count": 15,
   "id": "210ce2fe-b4bb-433c-a816-6bf8d9afb48c",
   "metadata": {},
   "outputs": [
    {
     "ename": "ModuleNotFoundError",
     "evalue": "No module named 'scipy'",
     "output_type": "error",
     "traceback": [
      "\u001b[1;31m---------------------------------------------------------------------------\u001b[0m",
      "\u001b[1;31mModuleNotFoundError\u001b[0m                       Traceback (most recent call last)",
      "Cell \u001b[1;32mIn[15], line 1\u001b[0m\n\u001b[1;32m----> 1\u001b[0m \u001b[38;5;28;01mfrom\u001b[39;00m \u001b[38;5;21;01mscipy\u001b[39;00m\u001b[38;5;21;01m.\u001b[39;00m\u001b[38;5;21;01mlinalg\u001b[39;00m \u001b[38;5;28;01mimport\u001b[39;00m lstsq\n\u001b[0;32m      2\u001b[0m \u001b[38;5;28;01mimport\u001b[39;00m \u001b[38;5;21;01mmatplotlib\u001b[39;00m\u001b[38;5;21;01m.\u001b[39;00m\u001b[38;5;21;01mpyplot\u001b[39;00m \u001b[38;5;28;01mas\u001b[39;00m \u001b[38;5;21;01mplt\u001b[39;00m\n\u001b[0;32m      4\u001b[0m x \u001b[38;5;241m=\u001b[39m np\u001b[38;5;241m.\u001b[39marray([\u001b[38;5;241m1\u001b[39m, \u001b[38;5;241m2.5\u001b[39m, \u001b[38;5;241m3.5\u001b[39m, \u001b[38;5;241m4\u001b[39m, \u001b[38;5;241m5\u001b[39m, \u001b[38;5;241m7\u001b[39m, \u001b[38;5;241m8.5\u001b[39m])\n",
      "\u001b[1;31mModuleNotFoundError\u001b[0m: No module named 'scipy'"
     ]
    }
   ],
   "source": [
    "from scipy.linalg import lstsq\n",
    "import matplotlib.pyplot as plt\n",
    "\n",
    "x = np.array([1, 2.5, 3.5, 4, 5, 7, 8.5])\n",
    "y = np.array([0.3, 1.1, 1.5, 2.0, 3.2, 6.6, 8.6])"
   ]
  },
  {
   "cell_type": "code",
   "execution_count": 16,
   "id": "6b326771-63a9-417a-94b4-fd292e5b96ee",
   "metadata": {},
   "outputs": [
    {
     "ename": "NameError",
     "evalue": "name 'x' is not defined",
     "output_type": "error",
     "traceback": [
      "\u001b[1;31m---------------------------------------------------------------------------\u001b[0m",
      "\u001b[1;31mNameError\u001b[0m                                 Traceback (most recent call last)",
      "Cell \u001b[1;32mIn[16], line 3\u001b[0m\n\u001b[0;32m      1\u001b[0m \u001b[38;5;66;03m# We want to fit a quadratic polynomial of the form y = a + b*x**2 to this data.\u001b[39;00m\n\u001b[0;32m      2\u001b[0m \u001b[38;5;66;03m# We first form the “design matrix” M, with a constant column of 1s and a column containing x**2\u001b[39;00m\n\u001b[1;32m----> 3\u001b[0m M \u001b[38;5;241m=\u001b[39m \u001b[43mx\u001b[49m[:, np\u001b[38;5;241m.\u001b[39mnewaxis]\u001b[38;5;241m*\u001b[39m\u001b[38;5;241m*\u001b[39m[\u001b[38;5;241m0\u001b[39m, \u001b[38;5;241m2\u001b[39m]\n\u001b[0;32m      4\u001b[0m M\n",
      "\u001b[1;31mNameError\u001b[0m: name 'x' is not defined"
     ]
    }
   ],
   "source": [
    "# We want to fit a quadratic polynomial of the form y = a + b*x**2 to this data.\n",
    "# We first form the “design matrix” M, with a constant column of 1s and a column containing x**2\n",
    "M = x[:, np.newaxis]**[0, 2]\n",
    "M"
   ]
  },
  {
   "cell_type": "markdown",
   "id": "20beab3b-6412-4467-8894-76d632823772",
   "metadata": {},
   "source": [
    "**Exercise**: What does `np.newaxis` do?\n",
    "\n",
    "Level: <span style=\"color:green\">Easy</span>."
   ]
  },
  {
   "cell_type": "code",
   "execution_count": 17,
   "id": "e41198f9-19df-4ff1-92a5-44823fdd5d46",
   "metadata": {},
   "outputs": [],
   "source": [
    "# Explanation"
   ]
  },
  {
   "cell_type": "markdown",
   "id": "c32dad38-694d-486b-8ac9-1bb5c980f0bd",
   "metadata": {},
   "source": [
    "We want to find the least-squares solution to M.dot(p) = y, where p is a vector with length 2 that holds the parameters a and b."
   ]
  },
  {
   "cell_type": "code",
   "execution_count": 18,
   "id": "fd6d5cbc-4984-4145-8c62-019322a20031",
   "metadata": {},
   "outputs": [
    {
     "ename": "NameError",
     "evalue": "name 'lstsq' is not defined",
     "output_type": "error",
     "traceback": [
      "\u001b[1;31m---------------------------------------------------------------------------\u001b[0m",
      "\u001b[1;31mNameError\u001b[0m                                 Traceback (most recent call last)",
      "Cell \u001b[1;32mIn[18], line 1\u001b[0m\n\u001b[1;32m----> 1\u001b[0m p, res, rnk, s \u001b[38;5;241m=\u001b[39m \u001b[43mlstsq\u001b[49m(M, y)\n\u001b[0;32m      2\u001b[0m \u001b[38;5;28mprint\u001b[39m(\u001b[38;5;124m'\u001b[39m\u001b[38;5;124mLeast-squares solution\u001b[39m\u001b[38;5;124m'\u001b[39m, p)\n\u001b[0;32m      3\u001b[0m \u001b[38;5;28mprint\u001b[39m(\u001b[38;5;124m'\u001b[39m\u001b[38;5;124mResidues\u001b[39m\u001b[38;5;124m'\u001b[39m, res)\n",
      "\u001b[1;31mNameError\u001b[0m: name 'lstsq' is not defined"
     ]
    }
   ],
   "source": [
    "p, res, rnk, s = lstsq(M, y)\n",
    "print('Least-squares solution', p)\n",
    "print('Residues', res)\n",
    "print('Effective rank of M', rnk)\n",
    "print('Singular values of M', s)"
   ]
  },
  {
   "cell_type": "code",
   "execution_count": 19,
   "id": "b887c4e7-f9af-47eb-a358-e7741e4dab60",
   "metadata": {},
   "outputs": [
    {
     "ename": "NameError",
     "evalue": "name 'plt' is not defined",
     "output_type": "error",
     "traceback": [
      "\u001b[1;31m---------------------------------------------------------------------------\u001b[0m",
      "\u001b[1;31mNameError\u001b[0m                                 Traceback (most recent call last)",
      "Cell \u001b[1;32mIn[19], line 1\u001b[0m\n\u001b[1;32m----> 1\u001b[0m \u001b[43mplt\u001b[49m\u001b[38;5;241m.\u001b[39mplot(x, y, \u001b[38;5;124m'\u001b[39m\u001b[38;5;124mo\u001b[39m\u001b[38;5;124m'\u001b[39m, label\u001b[38;5;241m=\u001b[39m\u001b[38;5;124m'\u001b[39m\u001b[38;5;124mdata\u001b[39m\u001b[38;5;124m'\u001b[39m)\n\u001b[0;32m      2\u001b[0m xx \u001b[38;5;241m=\u001b[39m np\u001b[38;5;241m.\u001b[39mlinspace(\u001b[38;5;241m0\u001b[39m, \u001b[38;5;241m9\u001b[39m, \u001b[38;5;241m101\u001b[39m)\n\u001b[0;32m      3\u001b[0m yy \u001b[38;5;241m=\u001b[39m p[\u001b[38;5;241m0\u001b[39m] \u001b[38;5;241m+\u001b[39m p[\u001b[38;5;241m1\u001b[39m]\u001b[38;5;241m*\u001b[39mxx\u001b[38;5;241m*\u001b[39m\u001b[38;5;241m*\u001b[39m\u001b[38;5;241m2\u001b[39m\n",
      "\u001b[1;31mNameError\u001b[0m: name 'plt' is not defined"
     ]
    }
   ],
   "source": [
    "plt.plot(x, y, 'o', label='data')\n",
    "xx = np.linspace(0, 9, 101)\n",
    "yy = p[0] + p[1]*xx**2\n",
    "plt.plot(xx, yy, label='least squares fit, $y = a + bx^2$')\n",
    "plt.xlabel('x')\n",
    "plt.ylabel('y')\n",
    "plt.legend(framealpha=1, shadow=True)\n",
    "plt.grid(alpha=0.25)\n",
    "plt.show()"
   ]
  }
 ],
 "metadata": {
  "kernelspec": {
   "display_name": "Python 3 (ipykernel)",
   "language": "python",
   "name": "python3"
  },
  "language_info": {
   "codemirror_mode": {
    "name": "ipython",
    "version": 3
   },
   "file_extension": ".py",
   "mimetype": "text/x-python",
   "name": "python",
   "nbconvert_exporter": "python",
   "pygments_lexer": "ipython3",
   "version": "3.11.9"
  }
 },
 "nbformat": 4,
 "nbformat_minor": 5
}