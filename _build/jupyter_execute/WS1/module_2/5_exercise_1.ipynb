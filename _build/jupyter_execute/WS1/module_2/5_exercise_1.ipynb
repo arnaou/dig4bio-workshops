{
 "cells": [
  {
   "cell_type": "markdown",
   "id": "1ab533bc-63d7-4c28-9482-176cb447ac54",
   "metadata": {},
   "source": [
    "# Exercises about dictionaries, sets, dataframes, arrays and visualizations"
   ]
  },
  {
   "cell_type": "markdown",
   "id": "39ef4c7d-6ddc-4119-b2b8-54088051d957",
   "metadata": {},
   "source": [
    "## Dictionaries and sets"
   ]
  },
  {
   "cell_type": "markdown",
   "id": "7149dfaa-0417-4c7d-95c3-8e7d3e12e5ff",
   "metadata": {},
   "source": [
    "**Exercise**: Take the list of reactors below and create a dictionary where the keys are the elements in the list (the reactors), and the values are the indexes of the elements in the list.\n",
    "You can do this by using both a for loop or a list comprehension.\n",
    "\n",
    "Your result should look like this:\n",
    "- dict_reactors = {'batch': 0, 'continuous stirred tank': 1, 'plug flow': 2}\n",
    "\n",
    "\n",
    "Level: <span style=\"color:green\">Easy</span>."
   ]
  },
  {
   "cell_type": "code",
   "execution_count": 1,
   "id": "ca455779-70dd-44da-a827-a85eeef8c594",
   "metadata": {},
   "outputs": [],
   "source": [
    "list_reactors = ['batch', 'continuous stirred tank', 'plug flow']\n",
    "\n",
    "# Your code here"
   ]
  },
  {
   "cell_type": "markdown",
   "id": "048c509f-df22-4781-9cf7-6638b2d036ee",
   "metadata": {},
   "source": [
    "Now do the same exercise as above, but instead of the index, the values should be properties of the various reactors!\n",
    "\n",
    "\n",
    "Level: <span style=\"color:green\">Easy</span>."
   ]
  },
  {
   "cell_type": "code",
   "execution_count": 2,
   "id": "6ebfcbc9-50c3-44c1-b972-19dc01e5c59d",
   "metadata": {},
   "outputs": [],
   "source": [
    "# Your code here"
   ]
  },
  {
   "cell_type": "markdown",
   "id": "ea036b2d-2573-4ea9-8350-f17de29f212a",
   "metadata": {},
   "source": [
    "**Exercise**: find the set of the list below.\n",
    "\n",
    "Level: <span style=\"color:green\">Easy</span>."
   ]
  },
  {
   "cell_type": "code",
   "execution_count": 3,
   "id": "3c7f1f9d-6f4a-481b-950e-b3bd91dd6f0a",
   "metadata": {},
   "outputs": [],
   "source": [
    "list_reactors = ['batch', 'continuous stirred tank', 'plug flow', 'batch']\n",
    "\n",
    "# Your code here"
   ]
  },
  {
   "cell_type": "markdown",
   "id": "609c2fa8-9c9c-4f8b-9cea-27570dba301e",
   "metadata": {},
   "source": [
    "**Exercise**: Find the (i) intersection and (ii) union of the lists given below.\n",
    "\n",
    "Level: <span style=\"color:green\">Easy</span>."
   ]
  },
  {
   "cell_type": "code",
   "execution_count": 4,
   "id": "961477f9-d4a8-4994-985e-a69b315635f7",
   "metadata": {},
   "outputs": [
    {
     "data": {
      "text/plain": [
       "['batch']"
      ]
     },
     "execution_count": 4,
     "metadata": {},
     "output_type": "execute_result"
    }
   ],
   "source": [
    "reactors1 = ['batch', 'continuous stirred tank']\n",
    "reactors2 = ['plug flow', 'batch']\n",
    "\n",
    "# Your code here\n",
    "\n",
    "list(set(reactors1).intersection(set(reactors2)))"
   ]
  },
  {
   "cell_type": "code",
   "execution_count": 5,
   "id": "703372f3-0f81-4403-be43-e730d5b17205",
   "metadata": {},
   "outputs": [
    {
     "data": {
      "text/plain": [
       "['batch']"
      ]
     },
     "execution_count": 5,
     "metadata": {},
     "output_type": "execute_result"
    }
   ],
   "source": [
    "list(set(reactors1) & set(reactors2))"
   ]
  },
  {
   "cell_type": "markdown",
   "id": "a41492a0-37a4-4227-922f-c05a5901571c",
   "metadata": {},
   "source": [
    "## DataFrames, arrays and plotting"
   ]
  },
  {
   "cell_type": "markdown",
   "id": "f926889e-b7f0-4d5f-af6c-a6261dc4b7dc",
   "metadata": {},
   "source": [
    "In the folder, you can load the .csv file 'packed_column_2.csv'.\n",
    "\n",
    "**Exercise**: load the data in `pandas`, visualize the top 7 rows of the DataFrame, calculate mean, sum, median of the columns and describe the DataFrame.\n",
    "\n",
    "Level: <span style=\"color:green\">Easy</span>."
   ]
  },
  {
   "cell_type": "code",
   "execution_count": 6,
   "id": "7fc4a022-6567-4ddb-83e0-05b70cbe3a0b",
   "metadata": {},
   "outputs": [
    {
     "ename": "ModuleNotFoundError",
     "evalue": "No module named 'pandas'",
     "output_type": "error",
     "traceback": [
      "\u001b[1;31m---------------------------------------------------------------------------\u001b[0m",
      "\u001b[1;31mModuleNotFoundError\u001b[0m                       Traceback (most recent call last)",
      "Cell \u001b[1;32mIn[6], line 1\u001b[0m\n\u001b[1;32m----> 1\u001b[0m \u001b[38;5;28;01mimport\u001b[39;00m \u001b[38;5;21;01mpandas\u001b[39;00m \u001b[38;5;28;01mas\u001b[39;00m \u001b[38;5;21;01mpd\u001b[39;00m\n\u001b[0;32m      3\u001b[0m \u001b[38;5;66;03m# Your code here\u001b[39;00m\n",
      "\u001b[1;31mModuleNotFoundError\u001b[0m: No module named 'pandas'"
     ]
    }
   ],
   "source": [
    "import pandas as pd\n",
    "\n",
    "# Your code here"
   ]
  },
  {
   "cell_type": "markdown",
   "id": "beed64aa-6e1f-431d-84ac-1f0271162cb6",
   "metadata": {},
   "source": [
    "**Exercise**: plot the data, remembering to add a title, axis labels and the legend. Try to make your plot as informative (and pretty) as possible.\n",
    "\n",
    "Level: <span style=\"color:green\">Easy</span>."
   ]
  },
  {
   "cell_type": "code",
   "execution_count": 7,
   "id": "3a9bf1c8-224b-4514-b272-ecc0705d2486",
   "metadata": {},
   "outputs": [
    {
     "ename": "ModuleNotFoundError",
     "evalue": "No module named 'matplotlib'",
     "output_type": "error",
     "traceback": [
      "\u001b[1;31m---------------------------------------------------------------------------\u001b[0m",
      "\u001b[1;31mModuleNotFoundError\u001b[0m                       Traceback (most recent call last)",
      "Cell \u001b[1;32mIn[7], line 1\u001b[0m\n\u001b[1;32m----> 1\u001b[0m \u001b[43mget_ipython\u001b[49m\u001b[43m(\u001b[49m\u001b[43m)\u001b[49m\u001b[38;5;241;43m.\u001b[39;49m\u001b[43mrun_line_magic\u001b[49m\u001b[43m(\u001b[49m\u001b[38;5;124;43m'\u001b[39;49m\u001b[38;5;124;43mmatplotlib\u001b[39;49m\u001b[38;5;124;43m'\u001b[39;49m\u001b[43m,\u001b[49m\u001b[43m \u001b[49m\u001b[38;5;124;43m'\u001b[39;49m\u001b[38;5;124;43minline\u001b[39;49m\u001b[38;5;124;43m'\u001b[39;49m\u001b[43m)\u001b[49m\n\u001b[0;32m      2\u001b[0m \u001b[38;5;28;01mimport\u001b[39;00m \u001b[38;5;21;01mmatplotlib\u001b[39;00m\u001b[38;5;21;01m.\u001b[39;00m\u001b[38;5;21;01mpyplot\u001b[39;00m \u001b[38;5;28;01mas\u001b[39;00m \u001b[38;5;21;01mplt\u001b[39;00m\n\u001b[0;32m      4\u001b[0m \u001b[38;5;66;03m# Your code here\u001b[39;00m\n",
      "File \u001b[1;32m~\\AppData\\Local\\miniconda3\\envs\\dig4bio\\Lib\\site-packages\\IPython\\core\\interactiveshell.py:2480\u001b[0m, in \u001b[0;36mInteractiveShell.run_line_magic\u001b[1;34m(self, magic_name, line, _stack_depth)\u001b[0m\n\u001b[0;32m   2478\u001b[0m     kwargs[\u001b[38;5;124m'\u001b[39m\u001b[38;5;124mlocal_ns\u001b[39m\u001b[38;5;124m'\u001b[39m] \u001b[38;5;241m=\u001b[39m \u001b[38;5;28mself\u001b[39m\u001b[38;5;241m.\u001b[39mget_local_scope(stack_depth)\n\u001b[0;32m   2479\u001b[0m \u001b[38;5;28;01mwith\u001b[39;00m \u001b[38;5;28mself\u001b[39m\u001b[38;5;241m.\u001b[39mbuiltin_trap:\n\u001b[1;32m-> 2480\u001b[0m     result \u001b[38;5;241m=\u001b[39m \u001b[43mfn\u001b[49m\u001b[43m(\u001b[49m\u001b[38;5;241;43m*\u001b[39;49m\u001b[43margs\u001b[49m\u001b[43m,\u001b[49m\u001b[43m \u001b[49m\u001b[38;5;241;43m*\u001b[39;49m\u001b[38;5;241;43m*\u001b[39;49m\u001b[43mkwargs\u001b[49m\u001b[43m)\u001b[49m\n\u001b[0;32m   2482\u001b[0m \u001b[38;5;66;03m# The code below prevents the output from being displayed\u001b[39;00m\n\u001b[0;32m   2483\u001b[0m \u001b[38;5;66;03m# when using magics with decorator @output_can_be_silenced\u001b[39;00m\n\u001b[0;32m   2484\u001b[0m \u001b[38;5;66;03m# when the last Python token in the expression is a ';'.\u001b[39;00m\n\u001b[0;32m   2485\u001b[0m \u001b[38;5;28;01mif\u001b[39;00m \u001b[38;5;28mgetattr\u001b[39m(fn, magic\u001b[38;5;241m.\u001b[39mMAGIC_OUTPUT_CAN_BE_SILENCED, \u001b[38;5;28;01mFalse\u001b[39;00m):\n",
      "File \u001b[1;32m~\\AppData\\Local\\miniconda3\\envs\\dig4bio\\Lib\\site-packages\\IPython\\core\\magics\\pylab.py:103\u001b[0m, in \u001b[0;36mPylabMagics.matplotlib\u001b[1;34m(self, line)\u001b[0m\n\u001b[0;32m     98\u001b[0m     \u001b[38;5;28mprint\u001b[39m(\n\u001b[0;32m     99\u001b[0m         \u001b[38;5;124m\"\u001b[39m\u001b[38;5;124mAvailable matplotlib backends: \u001b[39m\u001b[38;5;132;01m%s\u001b[39;00m\u001b[38;5;124m\"\u001b[39m\n\u001b[0;32m    100\u001b[0m         \u001b[38;5;241m%\u001b[39m _list_matplotlib_backends_and_gui_loops()\n\u001b[0;32m    101\u001b[0m     )\n\u001b[0;32m    102\u001b[0m \u001b[38;5;28;01melse\u001b[39;00m:\n\u001b[1;32m--> 103\u001b[0m     gui, backend \u001b[38;5;241m=\u001b[39m \u001b[38;5;28;43mself\u001b[39;49m\u001b[38;5;241;43m.\u001b[39;49m\u001b[43mshell\u001b[49m\u001b[38;5;241;43m.\u001b[39;49m\u001b[43menable_matplotlib\u001b[49m\u001b[43m(\u001b[49m\u001b[43margs\u001b[49m\u001b[38;5;241;43m.\u001b[39;49m\u001b[43mgui\u001b[49m\u001b[43m)\u001b[49m\n\u001b[0;32m    104\u001b[0m     \u001b[38;5;28mself\u001b[39m\u001b[38;5;241m.\u001b[39m_show_matplotlib_backend(args\u001b[38;5;241m.\u001b[39mgui, backend)\n",
      "File \u001b[1;32m~\\AppData\\Local\\miniconda3\\envs\\dig4bio\\Lib\\site-packages\\IPython\\core\\interactiveshell.py:3665\u001b[0m, in \u001b[0;36mInteractiveShell.enable_matplotlib\u001b[1;34m(self, gui)\u001b[0m\n\u001b[0;32m   3662\u001b[0m     \u001b[38;5;28;01mimport\u001b[39;00m \u001b[38;5;21;01mmatplotlib_inline\u001b[39;00m\u001b[38;5;21;01m.\u001b[39;00m\u001b[38;5;21;01mbackend_inline\u001b[39;00m\n\u001b[0;32m   3664\u001b[0m \u001b[38;5;28;01mfrom\u001b[39;00m \u001b[38;5;21;01mIPython\u001b[39;00m\u001b[38;5;21;01m.\u001b[39;00m\u001b[38;5;21;01mcore\u001b[39;00m \u001b[38;5;28;01mimport\u001b[39;00m pylabtools \u001b[38;5;28;01mas\u001b[39;00m pt\n\u001b[1;32m-> 3665\u001b[0m gui, backend \u001b[38;5;241m=\u001b[39m \u001b[43mpt\u001b[49m\u001b[38;5;241;43m.\u001b[39;49m\u001b[43mfind_gui_and_backend\u001b[49m\u001b[43m(\u001b[49m\u001b[43mgui\u001b[49m\u001b[43m,\u001b[49m\u001b[43m \u001b[49m\u001b[38;5;28;43mself\u001b[39;49m\u001b[38;5;241;43m.\u001b[39;49m\u001b[43mpylab_gui_select\u001b[49m\u001b[43m)\u001b[49m\n\u001b[0;32m   3667\u001b[0m \u001b[38;5;28;01mif\u001b[39;00m gui \u001b[38;5;241m!=\u001b[39m \u001b[38;5;28;01mNone\u001b[39;00m:\n\u001b[0;32m   3668\u001b[0m     \u001b[38;5;66;03m# If we have our first gui selection, store it\u001b[39;00m\n\u001b[0;32m   3669\u001b[0m     \u001b[38;5;28;01mif\u001b[39;00m \u001b[38;5;28mself\u001b[39m\u001b[38;5;241m.\u001b[39mpylab_gui_select \u001b[38;5;129;01mis\u001b[39;00m \u001b[38;5;28;01mNone\u001b[39;00m:\n",
      "File \u001b[1;32m~\\AppData\\Local\\miniconda3\\envs\\dig4bio\\Lib\\site-packages\\IPython\\core\\pylabtools.py:338\u001b[0m, in \u001b[0;36mfind_gui_and_backend\u001b[1;34m(gui, gui_select)\u001b[0m\n\u001b[0;32m    321\u001b[0m \u001b[38;5;28;01mdef\u001b[39;00m \u001b[38;5;21mfind_gui_and_backend\u001b[39m(gui\u001b[38;5;241m=\u001b[39m\u001b[38;5;28;01mNone\u001b[39;00m, gui_select\u001b[38;5;241m=\u001b[39m\u001b[38;5;28;01mNone\u001b[39;00m):\n\u001b[0;32m    322\u001b[0m \u001b[38;5;250m    \u001b[39m\u001b[38;5;124;03m\"\"\"Given a gui string return the gui and mpl backend.\u001b[39;00m\n\u001b[0;32m    323\u001b[0m \n\u001b[0;32m    324\u001b[0m \u001b[38;5;124;03m    Parameters\u001b[39;00m\n\u001b[1;32m   (...)\u001b[0m\n\u001b[0;32m    335\u001b[0m \u001b[38;5;124;03m    'WXAgg','Qt4Agg','module://matplotlib_inline.backend_inline','agg').\u001b[39;00m\n\u001b[0;32m    336\u001b[0m \u001b[38;5;124;03m    \"\"\"\u001b[39;00m\n\u001b[1;32m--> 338\u001b[0m     \u001b[38;5;28;01mimport\u001b[39;00m \u001b[38;5;21;01mmatplotlib\u001b[39;00m\n\u001b[0;32m    340\u001b[0m     \u001b[38;5;28;01mif\u001b[39;00m _matplotlib_manages_backends():\n\u001b[0;32m    341\u001b[0m         backend_registry \u001b[38;5;241m=\u001b[39m matplotlib\u001b[38;5;241m.\u001b[39mbackends\u001b[38;5;241m.\u001b[39mregistry\u001b[38;5;241m.\u001b[39mbackend_registry\n",
      "\u001b[1;31mModuleNotFoundError\u001b[0m: No module named 'matplotlib'"
     ]
    }
   ],
   "source": [
    "%matplotlib inline\n",
    "import matplotlib.pyplot as plt\n",
    "\n",
    "# Your code here"
   ]
  },
  {
   "cell_type": "markdown",
   "id": "56197752-e6da-4ba8-b8fa-fdf80c11872a",
   "metadata": {},
   "source": [
    "**Exercise**: import the data we worked with in the theory ('week02/htory/packed_column.csv') and compare the two DataFrames using `pandas` functions. Create a plot (plot can be done with matplotlib) for each water flow in the two dataframes (e.g., one plot with 0 kg/h water flow in column 1 and in column 2).\n",
    "\n",
    "Level: <span style=\"color:orange\">Medium</span>."
   ]
  },
  {
   "cell_type": "code",
   "execution_count": 8,
   "id": "f58b607e-c50f-4335-acfd-482360c8691e",
   "metadata": {},
   "outputs": [],
   "source": [
    "# Your code here"
   ]
  },
  {
   "cell_type": "markdown",
   "id": "8bf0f902-c4cd-4538-bfb9-eabff06fc482",
   "metadata": {},
   "source": [
    "**Exercise**: convert the two DataFrames to numpy arrays and compare them (e.g., calculate the mean, sum, etc).\n",
    "\n",
    "Level: <span style=\"color:green\">Easy</span>."
   ]
  },
  {
   "cell_type": "code",
   "execution_count": 9,
   "id": "af3d38a5-fd34-487a-9ac5-3ba714bd14a1",
   "metadata": {},
   "outputs": [],
   "source": [
    "# Your code here"
   ]
  },
  {
   "cell_type": "markdown",
   "id": "1769e5b4-d43a-4c10-b2cc-29402006e5cc",
   "metadata": {},
   "source": [
    "**Exercise**: what can you conclude from comparing the flow in the two packed columns? Write some text in markdown."
   ]
  },
  {
   "cell_type": "code",
   "execution_count": 10,
   "id": "ab7a6a1c-949b-422d-8e0d-4057269f6360",
   "metadata": {},
   "outputs": [],
   "source": [
    "# write here\n",
    "# remember to make this a markdown cell"
   ]
  },
  {
   "cell_type": "markdown",
   "id": "18a4fd51-3734-4e54-bd40-0052ed1d001a",
   "metadata": {},
   "source": [
    "**Exercise**: explore the data as you want, plot it, investigate it, have fun with it!"
   ]
  },
  {
   "cell_type": "code",
   "execution_count": 11,
   "id": "c4d4eba8-896a-4120-a8ef-a4276981a8c2",
   "metadata": {},
   "outputs": [],
   "source": [
    "# Your code here"
   ]
  }
 ],
 "metadata": {
  "kernelspec": {
   "display_name": "Python 3 (ipykernel)",
   "language": "python",
   "name": "python3"
  },
  "language_info": {
   "codemirror_mode": {
    "name": "ipython",
    "version": 3
   },
   "file_extension": ".py",
   "mimetype": "text/x-python",
   "name": "python",
   "nbconvert_exporter": "python",
   "pygments_lexer": "ipython3",
   "version": "3.11.9"
  }
 },
 "nbformat": 4,
 "nbformat_minor": 5
}