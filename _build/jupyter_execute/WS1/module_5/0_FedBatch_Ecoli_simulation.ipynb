{
 "cells": [
  {
   "cell_type": "markdown",
   "metadata": {},
   "source": [
    "# Module 5"
   ]
  },
  {
   "cell_type": "markdown",
   "metadata": {},
   "source": [
    "## Fed batch simulation"
   ]
  },
  {
   "cell_type": "markdown",
   "metadata": {
    "id": "pThlVjcQsT0I"
   },
   "source": [
    " E. coli fed-batch simulation\n",
    "Created on Thu Dec 10 12:14:22 2015\n",
    "\n",
    "@author: Terrance Wilms, Nicolas Cruz, Kevin Stegemann, Rosa Haßfurther Updated Sept 2024\n",
    "\n",
    "In this Python Script the ODE (Ordinary Differential Equation)\n",
    "of an Ecoli model is solved with the Python ODE Solver odeint."
   ]
  },
  {
   "cell_type": "code",
   "execution_count": 1,
   "metadata": {
    "id": "gfVEiaWGhUrx"
   },
   "outputs": [
    {
     "ename": "ModuleNotFoundError",
     "evalue": "No module named 'numpy'",
     "output_type": "error",
     "traceback": [
      "\u001b[1;31m---------------------------------------------------------------------------\u001b[0m",
      "\u001b[1;31mModuleNotFoundError\u001b[0m                       Traceback (most recent call last)",
      "Cell \u001b[1;32mIn[1], line 3\u001b[0m\n\u001b[0;32m      1\u001b[0m \u001b[38;5;66;03m# import packages\u001b[39;00m\n\u001b[0;32m      2\u001b[0m \u001b[38;5;28;01mfrom\u001b[39;00m \u001b[38;5;21;01m__future__\u001b[39;00m \u001b[38;5;28;01mimport\u001b[39;00m division\n\u001b[1;32m----> 3\u001b[0m \u001b[38;5;28;01mimport\u001b[39;00m \u001b[38;5;21;01mnumpy\u001b[39;00m \u001b[38;5;28;01mas\u001b[39;00m \u001b[38;5;21;01mnp\u001b[39;00m\n\u001b[0;32m      4\u001b[0m \u001b[38;5;28;01mimport\u001b[39;00m \u001b[38;5;21;01mmatplotlib\u001b[39;00m\u001b[38;5;21;01m.\u001b[39;00m\u001b[38;5;21;01mpyplot\u001b[39;00m \u001b[38;5;28;01mas\u001b[39;00m \u001b[38;5;21;01mplt\u001b[39;00m\n\u001b[0;32m      5\u001b[0m \u001b[38;5;28;01mfrom\u001b[39;00m \u001b[38;5;21;01mscipy\u001b[39;00m\u001b[38;5;21;01m.\u001b[39;00m\u001b[38;5;21;01mintegrate\u001b[39;00m \u001b[38;5;28;01mimport\u001b[39;00m odeint\n",
      "\u001b[1;31mModuleNotFoundError\u001b[0m: No module named 'numpy'"
     ]
    }
   ],
   "source": [
    "# import packages\n",
    "from __future__ import division\n",
    "import numpy as np\n",
    "import matplotlib.pyplot as plt\n",
    "from scipy.integrate import odeint\n",
    "%matplotlib inline\n",
    "#%matplotlib qt"
   ]
  },
  {
   "cell_type": "code",
   "execution_count": 2,
   "metadata": {
    "id": "ctw6e8ZNhi8u"
   },
   "outputs": [
    {
     "ename": "NameError",
     "evalue": "name 'np' is not defined",
     "output_type": "error",
     "traceback": [
      "\u001b[1;31m---------------------------------------------------------------------------\u001b[0m",
      "\u001b[1;31mNameError\u001b[0m                                 Traceback (most recent call last)",
      "Cell \u001b[1;32mIn[2], line 11\u001b[0m\n\u001b[0;32m      8\u001b[0m T \u001b[38;5;241m=\u001b[39m \u001b[38;5;241m8\u001b[39m \u001b[38;5;66;03m#h\u001b[39;00m\n\u001b[0;32m     10\u001b[0m \u001b[38;5;66;03m# generation of the time-points\u001b[39;00m\n\u001b[1;32m---> 11\u001b[0m t \u001b[38;5;241m=\u001b[39m \u001b[43mnp\u001b[49m\u001b[38;5;241m.\u001b[39mlinspace(t0, T, \u001b[38;5;28mint\u001b[39m(T\u001b[38;5;241m/\u001b[39mdt)\u001b[38;5;241m+\u001b[39m\u001b[38;5;241m1\u001b[39m)\n",
      "\u001b[1;31mNameError\u001b[0m: name 'np' is not defined"
     ]
    }
   ],
   "source": [
    "# discretizing the time\n",
    "dt = 0.01\n",
    "\n",
    "# defining the initial time\n",
    "t0 = 0\n",
    "\n",
    "# defining the end-time\n",
    "T = 8 #h\n",
    "\n",
    "# generation of the time-points\n",
    "t = np.linspace(t0, T, int(T/dt)+1)"
   ]
  },
  {
   "cell_type": "code",
   "execution_count": 3,
   "metadata": {
    "id": "BA8F5hYfhsy3"
   },
   "outputs": [],
   "source": [
    "# initial values at time 0\n",
    "X0   = 0.0358     # Biomass [g/L]\n",
    "S0   = 5          # Substrate [g/L]\n",
    "DOT0 = 90         # Dissolved oxygen [%]\n",
    "A0   = 0          # Acetate [g/L]\n",
    "V0   = 0.0013     # Volume [L]\n",
    "\n",
    "# process parameters\n",
    "Feedstart = 6\n",
    "Feedrate  = 0.00001\n",
    "Si        = 200\n",
    "Fout      = 0\n",
    "KLa       = 600\n",
    "\n",
    "# define initial condition and save it in the y\n",
    "y0 = [X0, S0, DOT0, A0, V0]"
   ]
  },
  {
   "cell_type": "code",
   "execution_count": 4,
   "metadata": {
    "id": "bBmgw7GGhyyn"
   },
   "outputs": [],
   "source": [
    "# define the function\n",
    "def eColi(y, t):\n",
    "    X   = y[0]\n",
    "    S   = y[1]\n",
    "    DOT = y[2]\n",
    "    A   = y[3]\n",
    "    V   = y[4]\n",
    "\n",
    "    # process parameters\n",
    "    if t < Feedstart:\n",
    "        F1 = 0\n",
    "    else:\n",
    "        F1 = Feedrate\n",
    "\n",
    "    # parameters describing the characteristics of the strain\n",
    "    qAmax   = 1           # max Acetate consumption rate [g/g*h]\n",
    "    Kaq     = 0.01        # affinity constant Acetate consumption [g/L]\n",
    "    Ksq     = 0.1         # affinity constnat Substrate consumption [g/L]\n",
    "    Yam     = 0.2         # yield acetate maintenance [g/g]\n",
    "    Yaresp  = 0.2         # yield acetate respiratory [g/g]\n",
    "    Yem     = 0.56        # yield excluding maintance [g/g]\n",
    "    qSmax   = 1.4         # max glucose uptake rate [g/g*h]\n",
    "    Ks      = 0.05        # affinity constant glucose consumption[g/L]\n",
    "    qm      = 0.04        # specific maintenance coefficient[g/g*h]\n",
    "    Ko      = 1           # Affinity constant, oxygen consumption [g/L]\n",
    "    Yosresp = 1.217       # yield from S to X, respiratory [g/g]\n",
    "    pAmax   = 1           # max Acetate production rate [g/g*h]\n",
    "    Kap     = 10          # affinity constant intracellular acetate production[g/L]\n",
    "    Yaof    = 1           # aceate yield in overflow[g/g]\n",
    "    Yofm    = Yem         # [g/g]\n",
    "\n",
    "    # physicochemical constants\n",
    "    Cs      = 0.391       # ratio of substrate per C in [gC/gS]\n",
    "    Cx      = 0.488       # ratio of biomass per C in [gC/gX]\n",
    "    H       = 14000       # conversion factor\n",
    "    DOTstar = 90\n",
    "\n",
    "    # algebraic variables\n",
    "    qS   = qSmax * S / (S + Ks) * DOT / (DOT + Ko)     # substrate uptake\n",
    "    qSof = pAmax * qS / ( qS + Kap ) / Yaof            # overflow substrate conversion\n",
    "    pA   = pAmax * qS / (qS + Kap)                     # production of acetate\n",
    "    qSox = qS - qSof                                   # substrate uptake excluding overflow\n",
    "    qSan =(qSox - qm) * Yem * Cx / Cs                  # anabolic substrate consumption\n",
    "    qsA  = qAmax * A / (A + Kaq) * (Ksq / (Ksq + qS))  # acetate consumption\n",
    "    qA   = pA - qsA                                    # total acetate equilibrium\n",
    "    qO   = Yosresp * (qSox - qSan) + qsA * Yaresp      # oxygen uptake\n",
    "\n",
    "    # growht rate equation\n",
    "    my =(qSox - qm) * Yem + qsA * Yam + qSof * Yofm\n",
    "\n",
    "    # differential equation system\n",
    "    dXdt   = -F1 / V * X + my * X                   # biomass growth\n",
    "    dSdt   = -F1 / V * S - qS * X + F1 / V * Si     # substrate evolution\n",
    "    dDOTdt = KLa * (DOTstar - DOT) - qO * X * H     # oxygen dynamics\n",
    "    dAdt   = qA * X - F1 / V * A                    # aetate evolution\n",
    "    dVdt   = (F1 - Fout)                            # volume change\n",
    "\n",
    "    #the solution of odeint is formulated as a system of an ODE\n",
    "    dydt = [dXdt, dSdt, dDOTdt, dAdt, dVdt]\n",
    "\n",
    "    return dydt"
   ]
  },
  {
   "cell_type": "code",
   "execution_count": 5,
   "metadata": {
    "colab": {
     "base_uri": "https://localhost:8080/"
    },
    "id": "lhJDkfOfh1fj",
    "outputId": "2b938074-6188-4b01-d3d0-576ade9d63af"
   },
   "outputs": [
    {
     "ename": "NameError",
     "evalue": "name 'odeint' is not defined",
     "output_type": "error",
     "traceback": [
      "\u001b[1;31m---------------------------------------------------------------------------\u001b[0m",
      "\u001b[1;31mNameError\u001b[0m                                 Traceback (most recent call last)",
      "Cell \u001b[1;32mIn[5], line 2\u001b[0m\n\u001b[0;32m      1\u001b[0m \u001b[38;5;66;03m# calling the numerical solver to approximate the integral of the differential equation system\u001b[39;00m\n\u001b[1;32m----> 2\u001b[0m y \u001b[38;5;241m=\u001b[39m \u001b[43modeint\u001b[49m(eColi, y0, t)\n\u001b[0;32m      4\u001b[0m \u001b[38;5;66;03m# checking critical variables\u001b[39;00m\n\u001b[0;32m      5\u001b[0m \u001b[38;5;28mprint\u001b[39m(\u001b[38;5;124m'\u001b[39m\u001b[38;5;124mmax biomass =\u001b[39m\u001b[38;5;124m'\u001b[39m, \u001b[38;5;28mmax\u001b[39m(y[:,[\u001b[38;5;241m0\u001b[39m]]))\n",
      "\u001b[1;31mNameError\u001b[0m: name 'odeint' is not defined"
     ]
    }
   ],
   "source": [
    "# calling the numerical solver to approximate the integral of the differential equation system\n",
    "y = odeint(eColi, y0, t)\n",
    "\n",
    "# checking critical variables\n",
    "print('max biomass =', max(y[:,[0]]))\n",
    "print('min DOT =', min(y[:,[2]]))"
   ]
  },
  {
   "cell_type": "markdown",
   "metadata": {
    "id": "ho2DejeXh5tg"
   },
   "source": [
    "## Plotting"
   ]
  },
  {
   "cell_type": "code",
   "execution_count": 6,
   "metadata": {
    "colab": {
     "base_uri": "https://localhost:8080/",
     "height": 1000
    },
    "id": "BavujwCEh2LS",
    "outputId": "5cd6f818-c967-4d05-da49-fb35c642cfc8"
   },
   "outputs": [
    {
     "ename": "NameError",
     "evalue": "name 'plt' is not defined",
     "output_type": "error",
     "traceback": [
      "\u001b[1;31m---------------------------------------------------------------------------\u001b[0m",
      "\u001b[1;31mNameError\u001b[0m                                 Traceback (most recent call last)",
      "Cell \u001b[1;32mIn[6], line 1\u001b[0m\n\u001b[1;32m----> 1\u001b[0m \u001b[43mplt\u001b[49m\u001b[38;5;241m.\u001b[39mfigure(figsize\u001b[38;5;241m=\u001b[39m(\u001b[38;5;241m15\u001b[39m,\u001b[38;5;241m20\u001b[39m))\n\u001b[0;32m      2\u001b[0m plt\u001b[38;5;241m.\u001b[39mtitle(\u001b[38;5;124m'\u001b[39m\u001b[38;5;124meColi Model\u001b[39m\u001b[38;5;124m'\u001b[39m)\n\u001b[0;32m      3\u001b[0m \u001b[38;5;66;03m#biomass and glucose\u001b[39;00m\n",
      "\u001b[1;31mNameError\u001b[0m: name 'plt' is not defined"
     ]
    }
   ],
   "source": [
    "plt.figure(figsize=(15,20))\n",
    "plt.title('eColi Model')\n",
    "#biomass and glucose\n",
    "plt.subplot(4, 1, 1)\n",
    "plt.plot(t,y[:,[0]], label = 'Biomass [g/L]')\n",
    "plt.plot(t,y[:,[1]], label = 'Substrate [g/L]')\n",
    "plt.yticks(np.arange(0, 10, 1))\n",
    "plt.xticks(np.arange(0, T + 1, 1))\n",
    "legend = plt.legend(loc='upper left', shadow=True, prop={'size':12})\n",
    "\n",
    "# acetate\n",
    "plt.subplot(4, 1, 2)\n",
    "plt.plot(t,y[:,[3]], label = 'acetic acid [g/L]')\n",
    "plt.yticks(np.arange(0, 1, 0.1))\n",
    "plt.xticks(np.arange(0, T + 1, 1))\n",
    "legend = plt.legend(loc='upper left', shadow=True, prop={'size':12})\n",
    "\n",
    "# Dissolved Oxygen Tension\n",
    "plt.subplot(4, 1, 3)\n",
    "plt.plot(t,y[:,[2]], label = 'DOT [%]')\n",
    "plt.plot([t[0], t[-1]],[20, 20], label = 'critical DOT [%]')\n",
    "plt.yticks(np.arange(0, 100, 10))\n",
    "plt.xticks(np.arange(0, T + 1, 1))\n",
    "legend = plt.legend(loc='upper left', shadow=True, prop={'size':12})\n",
    "\n",
    "# Volume\n",
    "plt.subplot(4, 1, 4)\n",
    "plt.plot(t,y[:,[4]], label = 'V [L]')\n",
    "plt.xticks(np.arange(0, T + 1, 1))\n",
    "legend = plt.legend(loc='upper left', shadow=True, prop={'size':12})\n",
    "plt.xlabel('time')\n",
    "plt.show()\n",
    "\n",
    "#plt.savefig('05_ODE_simpleEcoliModel_X_S_DOT_A_V_E.pdf')\n",
    "#plt.savefig('05_ODE_simpleEcoliModel_X_S_DOT_A_V_E.jpg')"
   ]
  },
  {
   "cell_type": "markdown",
   "metadata": {
    "id": "1DMfSLHfiQWO"
   },
   "source": [
    "## Tasks"
   ]
  },
  {
   "cell_type": "markdown",
   "metadata": {
    "id": "8AR4F2JLiVSu"
   },
   "source": [
    "answer the following questions with simulations\n",
    "\n",
    "\n",
    "*   \"optimize\" initial value of glucose, starting time of the feedrate, and feedrate to maximize the biomass concentration after 8 hours without DOT dropping below 20%\n",
    "*   can you propose a solution that automatically starts the feed when glucose is depleted based on the DOT signal?\n",
    "\n",
    "*   which other process parameter could we change to get an even higher biomass?\n",
    "*   which of the parameters describing the characteristics of the strain has the highest influence on the final biomass obtained at fixed cultivation time?\n"
   ]
  }
 ],
 "metadata": {
  "colab": {
   "provenance": []
  },
  "kernelspec": {
   "display_name": "Python 3",
   "name": "python3"
  },
  "language_info": {
   "codemirror_mode": {
    "name": "ipython",
    "version": 3
   },
   "file_extension": ".py",
   "mimetype": "text/x-python",
   "name": "python",
   "nbconvert_exporter": "python",
   "pygments_lexer": "ipython3",
   "version": "3.11.9"
  }
 },
 "nbformat": 4,
 "nbformat_minor": 0
}