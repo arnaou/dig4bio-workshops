{
 "cells": [
  {
   "cell_type": "markdown",
   "metadata": {
    "id": "0jgnagFXMKKa"
   },
   "source": [
    "Code implemented by Rosa Mimi Haßfurther, r.hassfurther@tu-berlin.de\n"
   ]
  },
  {
   "cell_type": "code",
   "execution_count": 1,
   "metadata": {
    "id": "QTnz-E23lDTK"
   },
   "outputs": [
    {
     "ename": "ModuleNotFoundError",
     "evalue": "No module named 'numpy'",
     "output_type": "error",
     "traceback": [
      "\u001b[1;31m---------------------------------------------------------------------------\u001b[0m",
      "\u001b[1;31mModuleNotFoundError\u001b[0m                       Traceback (most recent call last)",
      "Cell \u001b[1;32mIn[1], line 2\u001b[0m\n\u001b[0;32m      1\u001b[0m \u001b[38;5;66;03m# import packages\u001b[39;00m\n\u001b[1;32m----> 2\u001b[0m \u001b[38;5;28;01mimport\u001b[39;00m \u001b[38;5;21;01mnumpy\u001b[39;00m \u001b[38;5;28;01mas\u001b[39;00m \u001b[38;5;21;01mnp\u001b[39;00m\n\u001b[0;32m      3\u001b[0m \u001b[38;5;28;01mimport\u001b[39;00m \u001b[38;5;21;01mplotly\u001b[39;00m\u001b[38;5;21;01m.\u001b[39;00m\u001b[38;5;21;01mexpress\u001b[39;00m \u001b[38;5;28;01mas\u001b[39;00m \u001b[38;5;21;01mpx\u001b[39;00m\n\u001b[0;32m      4\u001b[0m \u001b[38;5;28;01mimport\u001b[39;00m \u001b[38;5;21;01mplotly\u001b[39;00m\u001b[38;5;21;01m.\u001b[39;00m\u001b[38;5;21;01mgraph_objects\u001b[39;00m \u001b[38;5;28;01mas\u001b[39;00m \u001b[38;5;21;01mgo\u001b[39;00m\n",
      "\u001b[1;31mModuleNotFoundError\u001b[0m: No module named 'numpy'"
     ]
    }
   ],
   "source": [
    "# import packages\n",
    "import numpy as np\n",
    "import plotly.express as px\n",
    "import plotly.graph_objects as go\n",
    "from scipy.integrate import solve_ivp"
   ]
  },
  {
   "cell_type": "markdown",
   "metadata": {
    "id": "QGbfA7rilY7F"
   },
   "source": [
    "# Diafiltration"
   ]
  },
  {
   "cell_type": "code",
   "execution_count": 2,
   "metadata": {
    "id": "7Q4zow4OlSE9"
   },
   "outputs": [],
   "source": [
    "# defining Differential equation for diafiltration\n",
    "def ode_fcn(t, y, Qp, V0, sigma_a):\n",
    "    # define parameters\n",
    "    Cc = y[0]\n",
    "\n",
    "    # ODE\n",
    "    dCc_dt = -Qp/V0*(1-sigma_a)*Cc\n",
    "\n",
    "    return [dCc_dt]\n",
    "\n",
    "# Solver function\n",
    "def solver(Cc_0, Qp, V0, sigma_a, nD_end):\n",
    "\n",
    "    #define the function to solve\n",
    "    fun = lambda t, y: ode_fcn(t, y, Qp, V0, sigma_a)\n",
    "\n",
    "    #set initial value for parameters\n",
    "    y0 = [Cc_0]\n",
    "\n",
    "    nD_span = np.linspace(0, nD_end, 1000)  # Fine resolution over permeation volume\n",
    "\n",
    "    #solve the differential equation\n",
    "    sol = solve_ivp(fun, [nD_span[0], nD_span[-1]], y0, method='LSODA', t_eval=nD_span, rtol=1e-8, atol=1e-8)\n",
    "\n",
    "    #extract the solution\n",
    "    nD = sol.t\n",
    "    Cc = sol.y[0]\n",
    "    Y = Cc/Cc_0*100\n",
    "    R = 100*(1-V0*Cc/(V0*Cc_0))\n",
    "\n",
    "    return nD, Cc, Y, R\n"
   ]
  },
  {
   "cell_type": "code",
   "execution_count": 3,
   "metadata": {
    "id": "bVJgz4B4lqQz"
   },
   "outputs": [],
   "source": [
    "# Set Process Parameters\n",
    "Cc_0 = 1.0   # Initial concentration Cc at time 0\n",
    "Qp = 1.0     # permeate flow rate\n",
    "V0 = 1.0     # initial volume\n",
    "sigma_a_values = [0.5, 0.7, 0.9, 1.0]  # Different values of sigma_a\n",
    "nD_end = 10  #  end number permeattion volumes"
   ]
  },
  {
   "cell_type": "code",
   "execution_count": 4,
   "metadata": {
    "colab": {
     "base_uri": "https://localhost:8080/",
     "height": 1000
    },
    "id": "tFcT_0cSl1Uk",
    "outputId": "887ca8e4-0b3e-4128-ff59-dc99460e8316"
   },
   "outputs": [
    {
     "ename": "NameError",
     "evalue": "name 'go' is not defined",
     "output_type": "error",
     "traceback": [
      "\u001b[1;31m---------------------------------------------------------------------------\u001b[0m",
      "\u001b[1;31mNameError\u001b[0m                                 Traceback (most recent call last)",
      "Cell \u001b[1;32mIn[4], line 2\u001b[0m\n\u001b[0;32m      1\u001b[0m \u001b[38;5;66;03m# Create figure for Yield (Y)\u001b[39;00m\n\u001b[1;32m----> 2\u001b[0m fig1 \u001b[38;5;241m=\u001b[39m \u001b[43mgo\u001b[49m\u001b[38;5;241m.\u001b[39mFigure()\n\u001b[0;32m      4\u001b[0m \u001b[38;5;66;03m# Loop over different sigma_a values and plot results\u001b[39;00m\n\u001b[0;32m      5\u001b[0m \u001b[38;5;28;01mfor\u001b[39;00m sigma_a \u001b[38;5;129;01min\u001b[39;00m sigma_a_values:\n",
      "\u001b[1;31mNameError\u001b[0m: name 'go' is not defined"
     ]
    }
   ],
   "source": [
    "# Create figure for Yield (Y)\n",
    "fig1 = go.Figure()\n",
    "\n",
    "# Loop over different sigma_a values and plot results\n",
    "for sigma_a in sigma_a_values:\n",
    "    nD, Cc, Y, R = solver(Cc_0, Qp, V0, sigma_a, nD_end)\n",
    "\n",
    "    # Add traces for each sigma_a value\n",
    "    fig1.add_trace(go.Scatter(x=nD, y=Y, mode='lines', name=f'sigma_a = {sigma_a}'))\n",
    "\n",
    "# Update layout for Yield plot\n",
    "fig1.update_layout(title=\"Evolution of Yield (Y) for Different sigma_a\",\n",
    "                   xaxis_title=\"nD number of diafiltration volumes\",\n",
    "                   yaxis_title=\"Yield (%)\",\n",
    "                   width=800)\n",
    "\n",
    "# Create figure for Solute Removal (R)\n",
    "fig2 = go.Figure()\n",
    "\n",
    "# Loop over different sigma_a values and plot results\n",
    "for sigma_a in sigma_a_values:\n",
    "    nD, Cc, Y, R = solver(Cc_0, Qp, V0, sigma_a, nD_end)\n",
    "\n",
    "    # Add traces for each sigma_a value\n",
    "    fig2.add_trace(go.Scatter(x=nD, y=R, mode='lines', name=f'sigma_a = {sigma_a}'))\n",
    "\n",
    "# Update layout for Solute Removal plot\n",
    "fig2.update_layout(title=\"Evolution of Solute Removal (R) for Different sigma_a\",\n",
    "                   xaxis_title=\"nD number of diafiltration volumes\",\n",
    "                   yaxis_title=\"Removal (%)\",\n",
    "                   width=800)\n",
    "\n",
    "fig1.show()\n",
    "fig2.show()"
   ]
  }
 ],
 "metadata": {
  "colab": {
   "provenance": []
  },
  "kernelspec": {
   "display_name": "Python 3",
   "name": "python3"
  },
  "language_info": {
   "codemirror_mode": {
    "name": "ipython",
    "version": 3
   },
   "file_extension": ".py",
   "mimetype": "text/x-python",
   "name": "python",
   "nbconvert_exporter": "python",
   "pygments_lexer": "ipython3",
   "version": "3.11.9"
  }
 },
 "nbformat": 4,
 "nbformat_minor": 0
}