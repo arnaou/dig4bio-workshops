{
 "cells": [
  {
   "cell_type": "markdown",
   "metadata": {
    "id": "_u-kutGESgQe"
   },
   "source": [
    "# Tutorial about Mass transfer in membrane processes"
   ]
  },
  {
   "cell_type": "markdown",
   "metadata": {
    "id": "WiOH5wtqVoJM"
   },
   "source": [
    "Assuming total retention, what is the polarization module inside a tubular membrane (1[m] long), and a flat sheet membrane at the following two conditions:\n",
    "\n",
    "\n",
    "*   $d_h$ = 10 [cm], $\\mu$ = 0.001 [Pa s], $\\rho$ = 1000 [kg/m$^3$], $U$ = 0.5 [m/s], $D$ = 1.5E-9 [m$^2$/s]\n",
    "*   $d_h$ = 10 [cm], $\\mu$ = 10 [Pa s], $\\rho$ = 1400 [kg/m$^3$], $U$ = 0.5 [m/s], $D$ = 1.5E-9 [m$^2$/s]\n",
    "\n",
    "\n",
    " transmembrane flux of 0.01 [mm/s]\n",
    "\n",
    " Extra question: how sensitive is the polarzation to the retention ?\n",
    " Hint: include $C_p$ in the model equations and assume a retention of 70%, meaning $\\frac{C_p}{C_b} = 0.3$"
   ]
  },
  {
   "cell_type": "code",
   "execution_count": 1,
   "metadata": {
    "id": "QRD71MM8dknB"
   },
   "outputs": [
    {
     "ename": "ModuleNotFoundError",
     "evalue": "No module named 'numpy'",
     "output_type": "error",
     "traceback": [
      "\u001b[1;31m---------------------------------------------------------------------------\u001b[0m",
      "\u001b[1;31mModuleNotFoundError\u001b[0m                       Traceback (most recent call last)",
      "Cell \u001b[1;32mIn[1], line 1\u001b[0m\n\u001b[1;32m----> 1\u001b[0m \u001b[38;5;28;01mimport\u001b[39;00m \u001b[38;5;21;01mnumpy\u001b[39;00m \u001b[38;5;28;01mas\u001b[39;00m \u001b[38;5;21;01mnp\u001b[39;00m\n",
      "\u001b[1;31mModuleNotFoundError\u001b[0m: No module named 'numpy'"
     ]
    }
   ],
   "source": [
    "import numpy as np"
   ]
  },
  {
   "cell_type": "code",
   "execution_count": 2,
   "metadata": {
    "colab": {
     "base_uri": "https://localhost:8080/"
    },
    "executionInfo": {
     "elapsed": 375,
     "status": "ok",
     "timestamp": 1725981014054,
     "user": {
      "displayName": "johan le nepvou",
      "userId": "11470784048218167428"
     },
     "user_tz": -120
    },
    "id": "01wvaaZvVXan",
    "outputId": "2ad1f87d-7e4d-4aa3-a1aa-ad5dea17a310"
   },
   "outputs": [
    {
     "name": "stdout",
     "output_type": "stream",
     "text": [
      "Reynolds Number: 10000.0\n",
      "Schmidt Number: 667\n"
     ]
    }
   ],
   "source": [
    "# Start by defining the parameters\n",
    "d_h = 0.1   # m\n",
    "mu = 0.001  # Pa s\n",
    "# mu = 10     # Pa s\n",
    "rho = 1000  # kg/m^3\n",
    "# rho = 1400  # kg/m^3\n",
    "U = 0.1     # m/s\n",
    "D = 1.5*(10**-9)   # m^2/s\n",
    "L = 1       # m\n",
    "J_v = 1e-5   # m/s\n",
    "\n",
    "# Determine the Reynolds Number and the Schmidt Number\n",
    "Re = U*d_h*rho/mu\n",
    "Sc = mu/(rho*D)\n",
    "print(f'Reynolds Number: {Re:.1f}')\n",
    "print(f'Schmidt Number: {Sc:.0f}')"
   ]
  },
  {
   "cell_type": "code",
   "execution_count": 3,
   "metadata": {
    "colab": {
     "base_uri": "https://localhost:8080/"
    },
    "executionInfo": {
     "elapsed": 414,
     "status": "ok",
     "timestamp": 1725981035617,
     "user": {
      "displayName": "johan le nepvou",
      "userId": "11470784048218167428"
     },
     "user_tz": -120
    },
    "id": "BM3c5bN2ZgkT",
    "outputId": "68cd9bfd-6943-487f-9bca-b600229110b4"
   },
   "outputs": [
    {
     "name": "stdout",
     "output_type": "stream",
     "text": [
      "Sherwood Number: 568\n"
     ]
    }
   ],
   "source": [
    "# Based on the above result, use the appropriate correlation for the Sherwood Number\n",
    "\n",
    "## Laminar flow, Tubular membrane:\n",
    "# Sh = 1.62*(Re*Sc*(d_h/L))**0.33\n",
    "## Laminar flow, Flat sheet membrane:\n",
    "Sh = 0.664*(Re**0.5)*(Sc**0.33)\n",
    "## Turbulent flow, Tubular membrane:\n",
    "# Sh = 0.023*(Re**0.88)*(Sc**0.33)\n",
    "## Turbulent flow, Flat sheet membrane:\n",
    "# Sh = 0.036*(Re**0.8)*(Sc**0.33)\n",
    "print(f'Sherwood Number: {Sh:.0f}')"
   ]
  },
  {
   "cell_type": "code",
   "execution_count": 4,
   "metadata": {
    "colab": {
     "base_uri": "https://localhost:8080/"
    },
    "executionInfo": {
     "elapsed": 1,
     "status": "ok",
     "timestamp": 1725981036145,
     "user": {
      "displayName": "johan le nepvou",
      "userId": "11470784048218167428"
     },
     "user_tz": -120
    },
    "id": "8HRDYRNHcl9B",
    "outputId": "efd1e657-66d1-42b1-d184-293c637c8701"
   },
   "outputs": [
    {
     "name": "stdout",
     "output_type": "stream",
     "text": [
      "Mass transfer coefficient: 8.514305382094568e-06 [m/s]\n"
     ]
    }
   ],
   "source": [
    "# Now we can calculate the mass transfer coefficient using the definition of the Sherwood number\n",
    "K_m = Sh*D/d_h\n",
    "print(f'Mass transfer coefficient: {K_m} [m/s]')"
   ]
  },
  {
   "cell_type": "code",
   "execution_count": 5,
   "metadata": {
    "colab": {
     "base_uri": "https://localhost:8080/"
    },
    "executionInfo": {
     "elapsed": 421,
     "status": "ok",
     "timestamp": 1725981038270,
     "user": {
      "displayName": "johan le nepvou",
      "userId": "11470784048218167428"
     },
     "user_tz": -120
    },
    "id": "VpSlOIBLdUOk",
    "outputId": "35c4d1d3-4fcc-49ca-a9db-a0de47fbccf1"
   },
   "outputs": [
    {
     "name": "stdout",
     "output_type": "stream",
     "text": [
      "1.1744939312406883\n"
     ]
    },
    {
     "ename": "NameError",
     "evalue": "name 'np' is not defined",
     "output_type": "error",
     "traceback": [
      "\u001b[1;31m---------------------------------------------------------------------------\u001b[0m",
      "\u001b[1;31mNameError\u001b[0m                                 Traceback (most recent call last)",
      "Cell \u001b[1;32mIn[5], line 3\u001b[0m\n\u001b[0;32m      1\u001b[0m \u001b[38;5;66;03m# Finally, the polarization module can calculated\u001b[39;00m\n\u001b[0;32m      2\u001b[0m \u001b[38;5;28mprint\u001b[39m(J_v\u001b[38;5;241m/\u001b[39mK_m)\n\u001b[1;32m----> 3\u001b[0m PM \u001b[38;5;241m=\u001b[39m \u001b[43mnp\u001b[49m\u001b[38;5;241m.\u001b[39mexp(J_v\u001b[38;5;241m/\u001b[39mK_m)\n\u001b[0;32m      4\u001b[0m \u001b[38;5;28mprint\u001b[39m(\u001b[38;5;124mf\u001b[39m\u001b[38;5;124m'\u001b[39m\u001b[38;5;124mPolarization module: \u001b[39m\u001b[38;5;132;01m{\u001b[39;00mPM\u001b[38;5;132;01m}\u001b[39;00m\u001b[38;5;124m'\u001b[39m)\n",
      "\u001b[1;31mNameError\u001b[0m: name 'np' is not defined"
     ]
    }
   ],
   "source": [
    "# Finally, the polarization module can calculated\n",
    "print(J_v/K_m)\n",
    "PM = np.exp(J_v/K_m)\n",
    "print(f'Polarization module: {PM}')"
   ]
  },
  {
   "cell_type": "markdown",
   "metadata": {
    "id": "51MKh-5KST11"
   },
   "source": [
    "#Extra tutorial about mass transfer in bioreactors"
   ]
  },
  {
   "cell_type": "markdown",
   "metadata": {
    "id": "pbqN5_WQfnr_"
   },
   "source": [
    "This is a simple monod type kinetic model describing the growth of a microorganism, the substrate consumption and product formation, coupled with an interfacial mass transfer model describing the oxygen mass transfer rate, in a batch reactor.\n"
   ]
  },
  {
   "cell_type": "code",
   "execution_count": 6,
   "metadata": {
    "executionInfo": {
     "elapsed": 1260,
     "status": "ok",
     "timestamp": 1726047440505,
     "user": {
      "displayName": "johan le nepvou",
      "userId": "11470784048218167428"
     },
     "user_tz": -120
    },
    "id": "dRBooNaHQhH8"
   },
   "outputs": [
    {
     "ename": "ModuleNotFoundError",
     "evalue": "No module named 'scipy'",
     "output_type": "error",
     "traceback": [
      "\u001b[1;31m---------------------------------------------------------------------------\u001b[0m",
      "\u001b[1;31mModuleNotFoundError\u001b[0m                       Traceback (most recent call last)",
      "Cell \u001b[1;32mIn[6], line 1\u001b[0m\n\u001b[1;32m----> 1\u001b[0m \u001b[38;5;28;01mfrom\u001b[39;00m \u001b[38;5;21;01mscipy\u001b[39;00m\u001b[38;5;21;01m.\u001b[39;00m\u001b[38;5;21;01mintegrate\u001b[39;00m \u001b[38;5;28;01mimport\u001b[39;00m solve_ivp\n\u001b[0;32m      2\u001b[0m \u001b[38;5;28;01mimport\u001b[39;00m \u001b[38;5;21;01mmatplotlib\u001b[39;00m\u001b[38;5;21;01m.\u001b[39;00m\u001b[38;5;21;01mpyplot\u001b[39;00m \u001b[38;5;28;01mas\u001b[39;00m \u001b[38;5;21;01mplt\u001b[39;00m\n\u001b[0;32m      3\u001b[0m \u001b[38;5;28;01mimport\u001b[39;00m \u001b[38;5;21;01mnumpy\u001b[39;00m \u001b[38;5;28;01mas\u001b[39;00m \u001b[38;5;21;01mnp\u001b[39;00m\n",
      "\u001b[1;31mModuleNotFoundError\u001b[0m: No module named 'scipy'"
     ]
    }
   ],
   "source": [
    "from scipy.integrate import solve_ivp\n",
    "import matplotlib.pyplot as plt\n",
    "import numpy as np"
   ]
  },
  {
   "cell_type": "code",
   "execution_count": 7,
   "metadata": {
    "id": "iRV57kWdUYW9"
   },
   "outputs": [],
   "source": [
    "# Define initial conditions of the simulation\n",
    "x0 = 0.025 # g/L   Biomass concentration\n",
    "s0 = 70    # g/L   Substrate concentration\n",
    "p0 = 0     # g/L   Product concentration\n",
    "o0 = 0     # g/L   Dissolved oxygen concentration\n",
    "ini = [x0, s0, p0, o0]"
   ]
  },
  {
   "cell_type": "code",
   "execution_count": 8,
   "metadata": {
    "id": "1NFc_ThPVUPR"
   },
   "outputs": [],
   "source": [
    "# Define model parameters\n",
    "Ks = 0.79     # g/L Substrate limitation constant\n",
    "Yxs = 0.0857  # g/g Substrate to biomass yield\n",
    "alpha = 5.59  # g/g Biomass to product yield\n",
    "Osat = 0.007  # g/L Oxygen saturation at 25C, 1atm (from Henrys law)\n",
    "kla = 300     # h^-1 Gas-Liquid mass transfer coefficient\n",
    "Yso = 0.2266  # gO2/gGlucose Oxygen to substrate yield\n",
    "mu_max = 2.16 # h^-1 Maximum growth rate of the microorganism\n",
    "Ko = 0.001    # g/L Oxygen limitation constant\n",
    "par = (Ks, Yxs, alpha, Osat, kla, Yso, mu_max, Ko)"
   ]
  },
  {
   "cell_type": "markdown",
   "metadata": {
    "id": "qP2wr9JBakv3"
   },
   "source": [
    "Batch operation equations:"
   ]
  },
  {
   "cell_type": "code",
   "execution_count": 9,
   "metadata": {
    "id": "E5bQM64oXwdU"
   },
   "outputs": [],
   "source": [
    "# Define the model equations\n",
    "def batch(t, y, par):\n",
    "  # Call parameters\n",
    "  x, s, p, o = y\n",
    "  Ks, Yxs, alpha, Osat, kla, Yso, mu_max, Ko = par\n",
    "  # Emperical Monod equation\n",
    "  mu = mu_max * (s/(Ks+s)) * (o/(Ko+o))\n",
    "  # system of ODE to be solved\n",
    "  dxdt = mu * x\n",
    "  dsdt = -dxdt / Yxs\n",
    "  dpdt = alpha * dxdt\n",
    "  dodt = (kla * (Osat - o)) - (Yso * (-dsdt))\n",
    "  return [dxdt, dsdt, dpdt, dodt]"
   ]
  },
  {
   "cell_type": "code",
   "execution_count": 10,
   "metadata": {
    "id": "N-g-JdZ2ZHYC"
   },
   "outputs": [
    {
     "ename": "NameError",
     "evalue": "name 'solve_ivp' is not defined",
     "output_type": "error",
     "traceback": [
      "\u001b[1;31m---------------------------------------------------------------------------\u001b[0m",
      "\u001b[1;31mNameError\u001b[0m                                 Traceback (most recent call last)",
      "Cell \u001b[1;32mIn[10], line 3\u001b[0m\n\u001b[0;32m      1\u001b[0m \u001b[38;5;66;03m# Run the simulation\u001b[39;00m\n\u001b[0;32m      2\u001b[0m tspan \u001b[38;5;241m=\u001b[39m (\u001b[38;5;241m0\u001b[39m, \u001b[38;5;241m10\u001b[39m) \u001b[38;5;66;03m# hours\u001b[39;00m\n\u001b[1;32m----> 3\u001b[0m sol \u001b[38;5;241m=\u001b[39m \u001b[43msolve_ivp\u001b[49m(batch, tspan, ini, method\u001b[38;5;241m=\u001b[39m\u001b[38;5;124m'\u001b[39m\u001b[38;5;124mRadau\u001b[39m\u001b[38;5;124m'\u001b[39m, args\u001b[38;5;241m=\u001b[39m(par,))\n",
      "\u001b[1;31mNameError\u001b[0m: name 'solve_ivp' is not defined"
     ]
    }
   ],
   "source": [
    "# Run the simulation\n",
    "tspan = (0, 10) # hours\n",
    "sol = solve_ivp(batch, tspan, ini, method='Radau', args=(par,))"
   ]
  },
  {
   "cell_type": "code",
   "execution_count": 11,
   "metadata": {
    "colab": {
     "base_uri": "https://localhost:8080/",
     "height": 466
    },
    "executionInfo": {
     "elapsed": 876,
     "status": "ok",
     "timestamp": 1725610913980,
     "user": {
      "displayName": "johan le nepvou",
      "userId": "11470784048218167428"
     },
     "user_tz": -120
    },
    "id": "mGLyDgb-ZrVE",
    "outputId": "28d6bfd0-88de-42bc-f9f6-dc3595bbecff"
   },
   "outputs": [
    {
     "ename": "NameError",
     "evalue": "name 'plt' is not defined",
     "output_type": "error",
     "traceback": [
      "\u001b[1;31m---------------------------------------------------------------------------\u001b[0m",
      "\u001b[1;31mNameError\u001b[0m                                 Traceback (most recent call last)",
      "Cell \u001b[1;32mIn[11], line 2\u001b[0m\n\u001b[0;32m      1\u001b[0m \u001b[38;5;66;03m# Plotting the results using matplotlib\u001b[39;00m\n\u001b[1;32m----> 2\u001b[0m \u001b[43mplt\u001b[49m\u001b[38;5;241m.\u001b[39mfigure()\n\u001b[0;32m      3\u001b[0m plt\u001b[38;5;241m.\u001b[39mplot(sol\u001b[38;5;241m.\u001b[39mt, sol\u001b[38;5;241m.\u001b[39my[\u001b[38;5;241m0\u001b[39m], \u001b[38;5;124m'\u001b[39m\u001b[38;5;124mk-\u001b[39m\u001b[38;5;124m'\u001b[39m, label\u001b[38;5;241m=\u001b[39m\u001b[38;5;124m'\u001b[39m\u001b[38;5;124m[X]\u001b[39m\u001b[38;5;124m'\u001b[39m)\n\u001b[0;32m      4\u001b[0m plt\u001b[38;5;241m.\u001b[39mplot(sol\u001b[38;5;241m.\u001b[39mt, sol\u001b[38;5;241m.\u001b[39my[\u001b[38;5;241m1\u001b[39m], \u001b[38;5;124m'\u001b[39m\u001b[38;5;124mr-\u001b[39m\u001b[38;5;124m'\u001b[39m, label\u001b[38;5;241m=\u001b[39m\u001b[38;5;124m'\u001b[39m\u001b[38;5;124m[S]\u001b[39m\u001b[38;5;124m'\u001b[39m)\n",
      "\u001b[1;31mNameError\u001b[0m: name 'plt' is not defined"
     ]
    }
   ],
   "source": [
    "# Plotting the results using matplotlib\n",
    "plt.figure()\n",
    "plt.plot(sol.t, sol.y[0], 'k-', label='[X]')\n",
    "plt.plot(sol.t, sol.y[1], 'r-', label='[S]')\n",
    "plt.plot(sol.t, sol.y[2], 'g-', label='[P]')\n",
    "plt.xlabel('Time [h]')\n",
    "plt.ylabel('Concentration [g/L]')\n",
    "plt.xlim(tspan)\n",
    "plt.ylim (0,)\n",
    "plt.legend()"
   ]
  },
  {
   "cell_type": "code",
   "execution_count": 12,
   "metadata": {
    "colab": {
     "base_uri": "https://localhost:8080/",
     "height": 466
    },
    "executionInfo": {
     "elapsed": 940,
     "status": "ok",
     "timestamp": 1725610914916,
     "user": {
      "displayName": "johan le nepvou",
      "userId": "11470784048218167428"
     },
     "user_tz": -120
    },
    "id": "EItH-8x1azUC",
    "outputId": "e948c812-d83a-4eb3-eb95-62fee1774ef4"
   },
   "outputs": [
    {
     "ename": "NameError",
     "evalue": "name 'plt' is not defined",
     "output_type": "error",
     "traceback": [
      "\u001b[1;31m---------------------------------------------------------------------------\u001b[0m",
      "\u001b[1;31mNameError\u001b[0m                                 Traceback (most recent call last)",
      "Cell \u001b[1;32mIn[12], line 2\u001b[0m\n\u001b[0;32m      1\u001b[0m \u001b[38;5;66;03m# Plotting the dissolved oxygen concentration\u001b[39;00m\n\u001b[1;32m----> 2\u001b[0m \u001b[43mplt\u001b[49m\u001b[38;5;241m.\u001b[39mfigure()\n\u001b[0;32m      3\u001b[0m plt\u001b[38;5;241m.\u001b[39mplot(sol\u001b[38;5;241m.\u001b[39mt, (sol\u001b[38;5;241m.\u001b[39my[\u001b[38;5;241m3\u001b[39m]\u001b[38;5;241m*\u001b[39m\u001b[38;5;241m100\u001b[39m\u001b[38;5;241m/\u001b[39mOsat),\u001b[38;5;124m'\u001b[39m\u001b[38;5;124mk-\u001b[39m\u001b[38;5;124m'\u001b[39m,label\u001b[38;5;241m=\u001b[39m\u001b[38;5;124m'\u001b[39m\u001b[38;5;124mO2 saturation\u001b[39m\u001b[38;5;124m'\u001b[39m)\n\u001b[0;32m      4\u001b[0m plt\u001b[38;5;241m.\u001b[39mxlabel(\u001b[38;5;124m'\u001b[39m\u001b[38;5;124mtime [hours]\u001b[39m\u001b[38;5;124m'\u001b[39m)\n",
      "\u001b[1;31mNameError\u001b[0m: name 'plt' is not defined"
     ]
    }
   ],
   "source": [
    "# Plotting the dissolved oxygen concentration\n",
    "plt.figure()\n",
    "plt.plot(sol.t, (sol.y[3]*100/Osat),'k-',label='O2 saturation')\n",
    "plt.xlabel('time [hours]')\n",
    "plt.ylabel('O2 saturation [sat%]')\n",
    "plt.xlim(tspan)\n",
    "plt.ylim(-10,110)\n",
    "plt.legend()"
   ]
  },
  {
   "cell_type": "markdown",
   "metadata": {
    "id": "RkMV4prAh7Uo"
   },
   "source": [
    "\n",
    "Exercise: modify the model equations to simulate a fedbatch fermentation and a continuous fermentation.\n",
    "Parameters for the fedbatch reactor:\n",
    "\n",
    "\n",
    "*   V$_{initial}$ = 200 [L]\n",
    "*   F = 0.1 [m$^3$/h]\n",
    "*   Sf = 70 [g/L]\n",
    "*   S0 = 10 [g/L]\n",
    "*   Max working volume = 500 [L]\n",
    "\n",
    "Parameters for the continuous reactor\n",
    "\n",
    "\n",
    "*   D = 0.1 [h$^{-1}$]\n",
    "*   Sf = 70 [g/L]\n",
    "*   S0 = 70 [g/L]\n",
    "\n",
    "SPOILER!! the solution to the fedbatch reactors is shown bellow!\n",
    "\n",
    "Extra exercise: use an optimizer to optimize the final product concentration by changing the feeding rate (max feeding rate is 200 [L/h]). <br>\n",
    "<u>HINT:</u> use the Scipy.optimise.minimize package and define constraints."
   ]
  },
  {
   "cell_type": "markdown",
   "metadata": {
    "id": "5c14TjmHjLja"
   },
   "source": [
    "##FEDBATCH MODEL"
   ]
  },
  {
   "cell_type": "code",
   "execution_count": 13,
   "metadata": {
    "executionInfo": {
     "elapsed": 303,
     "status": "ok",
     "timestamp": 1726047531983,
     "user": {
      "displayName": "johan le nepvou",
      "userId": "11470784048218167428"
     },
     "user_tz": -120
    },
    "id": "aatqgBwkjKBS"
   },
   "outputs": [],
   "source": [
    "# Define initial conditions of the simulation\n",
    "x0 = 0.025*10 # g/L   Biomass concentration\n",
    "s0 = 10    # g/L   Substrate concentration\n",
    "p0 = 0     # g/L   Product concentration\n",
    "o0 = 0     # g/L   Dissolved oxygen concentration\n",
    "V0 = 200   # L\n",
    "ini = [x0, s0, p0, o0, V0]"
   ]
  },
  {
   "cell_type": "code",
   "execution_count": 14,
   "metadata": {
    "executionInfo": {
     "elapsed": 319,
     "status": "ok",
     "timestamp": 1726047553141,
     "user": {
      "displayName": "johan le nepvou",
      "userId": "11470784048218167428"
     },
     "user_tz": -120
    },
    "id": "avygVOfQiLCA"
   },
   "outputs": [],
   "source": [
    "# Define model parameters, including the fedbatch parameters\n",
    "Ks = 0.79     # g/L Substrate limitation constant\n",
    "Yxs = 0.0857  # g/g Substrate to biomass yield\n",
    "alpha = 5.59  # g/g Biomass to product yield\n",
    "Osat = 0.007  # g/L Oxygen saturation at 25C, 1atm (from Henrys law)\n",
    "kla = 300     # h^-1 Gas-Liquid mass transfer coefficient\n",
    "Yso = 0.2266  # gO2/gGlucose Oxygen to substrate yield\n",
    "mu_max = 2.16 # h^-1 Maximum growth rate of the microorganism\n",
    "Ko = 0.001    # g/L Oxygen limitation constant\n",
    "F = 50        # L/h Feeding rate\n",
    "Sf = 70       # g/L Substrate concentration in the feed\n",
    "par = (Ks, Yxs, alpha, Osat, kla, Yso, mu_max, Ko, F, Sf)"
   ]
  },
  {
   "cell_type": "code",
   "execution_count": 15,
   "metadata": {
    "executionInfo": {
     "elapsed": 280,
     "status": "ok",
     "timestamp": 1726048098859,
     "user": {
      "displayName": "johan le nepvou",
      "userId": "11470784048218167428"
     },
     "user_tz": -120
    },
    "id": "2iU_h_RhbOuZ"
   },
   "outputs": [],
   "source": [
    "def fedbatch(t, y, par):\n",
    "  # Call parameters\n",
    "  x, s, p, o, V = y\n",
    "  Ks, Yxs, alpha, Osat, kla, Yso, mu_max, Ko, F, Sf = par\n",
    "  # Limiting the feeding to the max volume with an \"if\" statement\n",
    "  if V > 700:\n",
    "    F=0\n",
    "  # Emperical Monod equation\n",
    "  mu = mu_max * (s/(Ks+s)) * (o/(Ko+o))\n",
    "  # system of ODE to be solved\n",
    "  dxdt = (mu * x) - x*(F/V)\n",
    "  dsdt = -((mu * x) / Yxs) + ((Sf-s)*(F/V))\n",
    "  dpdt = alpha * dxdt - p*(F/V)\n",
    "  dodt = (kla * (Osat - o)) - (Yso * ((mu * x) / Yxs)) - o*(F/V)\n",
    "  dVdt = F\n",
    "  return [dxdt, dsdt, dpdt, dodt, dVdt]"
   ]
  },
  {
   "cell_type": "code",
   "execution_count": 16,
   "metadata": {
    "executionInfo": {
     "elapsed": 2563,
     "status": "ok",
     "timestamp": 1726048101727,
     "user": {
      "displayName": "johan le nepvou",
      "userId": "11470784048218167428"
     },
     "user_tz": -120
    },
    "id": "LK5EcxRLkY16"
   },
   "outputs": [
    {
     "ename": "NameError",
     "evalue": "name 'solve_ivp' is not defined",
     "output_type": "error",
     "traceback": [
      "\u001b[1;31m---------------------------------------------------------------------------\u001b[0m",
      "\u001b[1;31mNameError\u001b[0m                                 Traceback (most recent call last)",
      "Cell \u001b[1;32mIn[16], line 3\u001b[0m\n\u001b[0;32m      1\u001b[0m \u001b[38;5;66;03m# Run the simulation\u001b[39;00m\n\u001b[0;32m      2\u001b[0m tspan \u001b[38;5;241m=\u001b[39m (\u001b[38;5;241m0\u001b[39m, \u001b[38;5;241m10\u001b[39m) \u001b[38;5;66;03m# hours\u001b[39;00m\n\u001b[1;32m----> 3\u001b[0m sol \u001b[38;5;241m=\u001b[39m \u001b[43msolve_ivp\u001b[49m(fedbatch, tspan, ini, method\u001b[38;5;241m=\u001b[39m\u001b[38;5;124m'\u001b[39m\u001b[38;5;124mRK45\u001b[39m\u001b[38;5;124m'\u001b[39m, args\u001b[38;5;241m=\u001b[39m(par,))\n",
      "\u001b[1;31mNameError\u001b[0m: name 'solve_ivp' is not defined"
     ]
    }
   ],
   "source": [
    "# Run the simulation\n",
    "tspan = (0, 10) # hours\n",
    "sol = solve_ivp(fedbatch, tspan, ini, method='RK45', args=(par,))"
   ]
  },
  {
   "cell_type": "code",
   "execution_count": 17,
   "metadata": {
    "colab": {
     "base_uri": "https://localhost:8080/",
     "height": 466
    },
    "executionInfo": {
     "elapsed": 479,
     "status": "ok",
     "timestamp": 1726048102205,
     "user": {
      "displayName": "johan le nepvou",
      "userId": "11470784048218167428"
     },
     "user_tz": -120
    },
    "id": "adhChKRckbcq",
    "outputId": "733e9569-9fc3-4cce-a8ce-c823500499c7"
   },
   "outputs": [
    {
     "ename": "NameError",
     "evalue": "name 'plt' is not defined",
     "output_type": "error",
     "traceback": [
      "\u001b[1;31m---------------------------------------------------------------------------\u001b[0m",
      "\u001b[1;31mNameError\u001b[0m                                 Traceback (most recent call last)",
      "Cell \u001b[1;32mIn[17], line 2\u001b[0m\n\u001b[0;32m      1\u001b[0m \u001b[38;5;66;03m# Plotting the results using matplotlib\u001b[39;00m\n\u001b[1;32m----> 2\u001b[0m \u001b[43mplt\u001b[49m\u001b[38;5;241m.\u001b[39mfigure()\n\u001b[0;32m      3\u001b[0m plt\u001b[38;5;241m.\u001b[39mplot(sol\u001b[38;5;241m.\u001b[39mt, sol\u001b[38;5;241m.\u001b[39my[\u001b[38;5;241m0\u001b[39m], \u001b[38;5;124m'\u001b[39m\u001b[38;5;124mk-\u001b[39m\u001b[38;5;124m'\u001b[39m, label\u001b[38;5;241m=\u001b[39m\u001b[38;5;124m'\u001b[39m\u001b[38;5;124m[X]\u001b[39m\u001b[38;5;124m'\u001b[39m)\n\u001b[0;32m      4\u001b[0m plt\u001b[38;5;241m.\u001b[39mplot(sol\u001b[38;5;241m.\u001b[39mt, sol\u001b[38;5;241m.\u001b[39my[\u001b[38;5;241m1\u001b[39m], \u001b[38;5;124m'\u001b[39m\u001b[38;5;124mr-\u001b[39m\u001b[38;5;124m'\u001b[39m, label\u001b[38;5;241m=\u001b[39m\u001b[38;5;124m'\u001b[39m\u001b[38;5;124m[S]\u001b[39m\u001b[38;5;124m'\u001b[39m)\n",
      "\u001b[1;31mNameError\u001b[0m: name 'plt' is not defined"
     ]
    }
   ],
   "source": [
    "# Plotting the results using matplotlib\n",
    "plt.figure()\n",
    "plt.plot(sol.t, sol.y[0], 'k-', label='[X]')\n",
    "plt.plot(sol.t, sol.y[1], 'r-', label='[S]')\n",
    "plt.plot(sol.t, sol.y[2], 'g-', label='[P]')\n",
    "plt.xlabel('Time [h]')\n",
    "plt.ylabel('Concentration [g/L]')\n",
    "plt.xlim(tspan)\n",
    "plt.ylim (0,)\n",
    "plt.legend()"
   ]
  },
  {
   "cell_type": "code",
   "execution_count": 18,
   "metadata": {
    "colab": {
     "base_uri": "https://localhost:8080/",
     "height": 466
    },
    "executionInfo": {
     "elapsed": 367,
     "status": "ok",
     "timestamp": 1726048102570,
     "user": {
      "displayName": "johan le nepvou",
      "userId": "11470784048218167428"
     },
     "user_tz": -120
    },
    "id": "a61Tamwykdm-",
    "outputId": "e4000ea1-bcb3-4200-e6b7-3e7f6b3ff241"
   },
   "outputs": [
    {
     "ename": "NameError",
     "evalue": "name 'plt' is not defined",
     "output_type": "error",
     "traceback": [
      "\u001b[1;31m---------------------------------------------------------------------------\u001b[0m",
      "\u001b[1;31mNameError\u001b[0m                                 Traceback (most recent call last)",
      "Cell \u001b[1;32mIn[18], line 2\u001b[0m\n\u001b[0;32m      1\u001b[0m \u001b[38;5;66;03m# Plotting the dissolved oxygen concentration\u001b[39;00m\n\u001b[1;32m----> 2\u001b[0m \u001b[43mplt\u001b[49m\u001b[38;5;241m.\u001b[39mfigure()\n\u001b[0;32m      3\u001b[0m plt\u001b[38;5;241m.\u001b[39mplot(sol\u001b[38;5;241m.\u001b[39mt, (sol\u001b[38;5;241m.\u001b[39my[\u001b[38;5;241m3\u001b[39m]\u001b[38;5;241m*\u001b[39m\u001b[38;5;241m100\u001b[39m\u001b[38;5;241m/\u001b[39mOsat),\u001b[38;5;124m'\u001b[39m\u001b[38;5;124mk-\u001b[39m\u001b[38;5;124m'\u001b[39m,label\u001b[38;5;241m=\u001b[39m\u001b[38;5;124m'\u001b[39m\u001b[38;5;124mO2 saturation\u001b[39m\u001b[38;5;124m'\u001b[39m)\n\u001b[0;32m      4\u001b[0m plt\u001b[38;5;241m.\u001b[39mxlabel(\u001b[38;5;124m'\u001b[39m\u001b[38;5;124mtime [hours]\u001b[39m\u001b[38;5;124m'\u001b[39m)\n",
      "\u001b[1;31mNameError\u001b[0m: name 'plt' is not defined"
     ]
    }
   ],
   "source": [
    "# Plotting the dissolved oxygen concentration\n",
    "plt.figure()\n",
    "plt.plot(sol.t, (sol.y[3]*100/Osat),'k-',label='O2 saturation')\n",
    "plt.xlabel('time [hours]')\n",
    "plt.ylabel('O2 saturation [sat%]')\n",
    "plt.xlim(tspan)\n",
    "plt.ylim(-10,110)\n",
    "plt.legend()"
   ]
  },
  {
   "cell_type": "code",
   "execution_count": 19,
   "metadata": {
    "colab": {
     "base_uri": "https://localhost:8080/",
     "height": 466
    },
    "executionInfo": {
     "elapsed": 342,
     "status": "ok",
     "timestamp": 1726048102910,
     "user": {
      "displayName": "johan le nepvou",
      "userId": "11470784048218167428"
     },
     "user_tz": -120
    },
    "id": "stdjb3yskx0l",
    "outputId": "5fde9fc1-479f-40cd-ca1f-67357c56a0aa"
   },
   "outputs": [
    {
     "ename": "NameError",
     "evalue": "name 'plt' is not defined",
     "output_type": "error",
     "traceback": [
      "\u001b[1;31m---------------------------------------------------------------------------\u001b[0m",
      "\u001b[1;31mNameError\u001b[0m                                 Traceback (most recent call last)",
      "Cell \u001b[1;32mIn[19], line 2\u001b[0m\n\u001b[0;32m      1\u001b[0m \u001b[38;5;66;03m# Plotting the dissolved oxygen concentration\u001b[39;00m\n\u001b[1;32m----> 2\u001b[0m \u001b[43mplt\u001b[49m\u001b[38;5;241m.\u001b[39mfigure()\n\u001b[0;32m      3\u001b[0m plt\u001b[38;5;241m.\u001b[39mplot(sol\u001b[38;5;241m.\u001b[39mt, (sol\u001b[38;5;241m.\u001b[39my[\u001b[38;5;241m4\u001b[39m]),\u001b[38;5;124m'\u001b[39m\u001b[38;5;124mk-\u001b[39m\u001b[38;5;124m'\u001b[39m,label\u001b[38;5;241m=\u001b[39m\u001b[38;5;124m'\u001b[39m\u001b[38;5;124mliquid volume\u001b[39m\u001b[38;5;124m'\u001b[39m)\n\u001b[0;32m      4\u001b[0m plt\u001b[38;5;241m.\u001b[39mxlabel(\u001b[38;5;124m'\u001b[39m\u001b[38;5;124mtime [hours]\u001b[39m\u001b[38;5;124m'\u001b[39m)\n",
      "\u001b[1;31mNameError\u001b[0m: name 'plt' is not defined"
     ]
    }
   ],
   "source": [
    "# Plotting the dissolved oxygen concentration\n",
    "plt.figure()\n",
    "plt.plot(sol.t, (sol.y[4]),'k-',label='liquid volume')\n",
    "plt.xlabel('time [hours]')\n",
    "plt.ylabel('Liquid volume [L]')"
   ]
  },
  {
   "cell_type": "markdown",
   "metadata": {
    "id": "EieG2c61lt4i"
   },
   "source": [
    "## Continuous reactor model"
   ]
  },
  {
   "cell_type": "code",
   "execution_count": 20,
   "metadata": {
    "id": "wpsTMhiOlFLq"
   },
   "outputs": [],
   "source": [
    "## Now your turn to implement the continuous reactor with the given parameters"
   ]
  }
 ],
 "metadata": {
  "colab": {
   "provenance": []
  },
  "kernelspec": {
   "display_name": "Python 3",
   "name": "python3"
  },
  "language_info": {
   "codemirror_mode": {
    "name": "ipython",
    "version": 3
   },
   "file_extension": ".py",
   "mimetype": "text/x-python",
   "name": "python",
   "nbconvert_exporter": "python",
   "pygments_lexer": "ipython3",
   "version": "3.11.9"
  }
 },
 "nbformat": 4,
 "nbformat_minor": 0
}