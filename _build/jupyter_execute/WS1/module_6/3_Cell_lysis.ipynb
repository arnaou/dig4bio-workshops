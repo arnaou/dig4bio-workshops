{
 "cells": [
  {
   "cell_type": "markdown",
   "metadata": {
    "id": "2bXhwsreMfAn"
   },
   "source": [
    "# Cell Lysis modelling"
   ]
  },
  {
   "cell_type": "markdown",
   "metadata": {},
   "source": [
    "Code implemented by Mariana Albino, marial@kt.dtu.dk"
   ]
  },
  {
   "cell_type": "code",
   "execution_count": 1,
   "metadata": {
    "id": "_U_AbENA8F7L"
   },
   "outputs": [
    {
     "ename": "ModuleNotFoundError",
     "evalue": "No module named 'numpy'",
     "output_type": "error",
     "traceback": [
      "\u001b[1;31m---------------------------------------------------------------------------\u001b[0m",
      "\u001b[1;31mModuleNotFoundError\u001b[0m                       Traceback (most recent call last)",
      "Cell \u001b[1;32mIn[1], line 2\u001b[0m\n\u001b[0;32m      1\u001b[0m \u001b[38;5;66;03m# import libraries\u001b[39;00m\n\u001b[1;32m----> 2\u001b[0m \u001b[38;5;28;01mimport\u001b[39;00m \u001b[38;5;21;01mnumpy\u001b[39;00m \u001b[38;5;28;01mas\u001b[39;00m \u001b[38;5;21;01mnp\u001b[39;00m\n\u001b[0;32m      3\u001b[0m \u001b[38;5;28;01mimport\u001b[39;00m \u001b[38;5;21;01mscipy\u001b[39;00m\n\u001b[0;32m      4\u001b[0m \u001b[38;5;28;01mimport\u001b[39;00m \u001b[38;5;21;01mplotly\u001b[39;00m\u001b[38;5;21;01m.\u001b[39;00m\u001b[38;5;21;01mexpress\u001b[39;00m \u001b[38;5;28;01mas\u001b[39;00m \u001b[38;5;21;01mpx\u001b[39;00m\n",
      "\u001b[1;31mModuleNotFoundError\u001b[0m: No module named 'numpy'"
     ]
    }
   ],
   "source": [
    "# import libraries\n",
    "import numpy as np\n",
    "import scipy\n",
    "import plotly.express as px\n",
    "import plotly.graph_objects as go\n",
    "from scipy.integrate import solve_ivp\n",
    "from plotly.subplots import make_subplots"
   ]
  },
  {
   "cell_type": "markdown",
   "metadata": {
    "id": "0N_uSEPwwc_R"
   },
   "source": [
    "## Bead mill"
   ]
  },
  {
   "cell_type": "code",
   "execution_count": 2,
   "metadata": {
    "id": "I_4IjOk9wV9v"
   },
   "outputs": [],
   "source": [
    "def ode_fcn(t, y, k, Rm):\n",
    "    # define parameters\n",
    "    R = y[0]\n",
    "\n",
    "    # ODE\n",
    "    dR_dt = k*(Rm-R)\n",
    "    dy = [dR_dt]\n",
    "\n",
    "    return dy\n",
    "\n",
    "def solver(R_0, k ,Rm ,t_end):\n",
    "    #define the function to solve\n",
    "    fun = lambda t, y: ode_fcn(t,y,k,Rm)\n",
    "\n",
    "    #set initial value for parameters\n",
    "    y0 = [R_0]\n",
    "\n",
    "    #set time span\n",
    "    t_span = np.arange(0, t_end, 0.1)  #(t_start, t_end, t_step)\n",
    "\n",
    "    #solve the differential equation\n",
    "    sol = solve_ivp(fun, [t_span[0], t_span[-1]], y0, method='LSODA', t_eval=t_span, rtol=1e-6, atol=1e-6)\n",
    "\n",
    "    #extract the solution\n",
    "    t = sol.t.tolist()\n",
    "    y = sol.y.T\n",
    "\n",
    "    #asign the solution to variables\n",
    "    R = y[:, 0]\n",
    "    Y = y[:,0]/Rm*100\n",
    "\n",
    "    return t, R, Y"
   ]
  },
  {
   "cell_type": "code",
   "execution_count": 3,
   "metadata": {
    "id": "KtOgJ4hp7B-b"
   },
   "outputs": [
    {
     "ename": "NameError",
     "evalue": "name 'np' is not defined",
     "output_type": "error",
     "traceback": [
      "\u001b[1;31m---------------------------------------------------------------------------\u001b[0m",
      "\u001b[1;31mNameError\u001b[0m                                 Traceback (most recent call last)",
      "Cell \u001b[1;32mIn[3], line 8\u001b[0m\n\u001b[0;32m      4\u001b[0m K \u001b[38;5;241m=\u001b[39m \u001b[38;5;241m0.5\u001b[39m\n\u001b[0;32m      6\u001b[0m TIME_END \u001b[38;5;241m=\u001b[39m \u001b[38;5;241m5\u001b[39m \u001b[38;5;66;03m#how much time should be simulated\u001b[39;00m\n\u001b[1;32m----> 8\u001b[0m t, R , Y \u001b[38;5;241m=\u001b[39m \u001b[43msolver\u001b[49m\u001b[43m(\u001b[49m\u001b[43mR_0\u001b[49m\u001b[43m,\u001b[49m\u001b[43m \u001b[49m\u001b[43mK\u001b[49m\u001b[43m,\u001b[49m\u001b[43m \u001b[49m\u001b[43mR_m\u001b[49m\u001b[43m,\u001b[49m\u001b[43m \u001b[49m\u001b[43mTIME_END\u001b[49m\u001b[43m)\u001b[49m \u001b[38;5;66;03m#run the solver function\u001b[39;00m\n",
      "Cell \u001b[1;32mIn[2], line 19\u001b[0m, in \u001b[0;36msolver\u001b[1;34m(R_0, k, Rm, t_end)\u001b[0m\n\u001b[0;32m     16\u001b[0m y0 \u001b[38;5;241m=\u001b[39m [R_0]\n\u001b[0;32m     18\u001b[0m \u001b[38;5;66;03m#set time span\u001b[39;00m\n\u001b[1;32m---> 19\u001b[0m t_span \u001b[38;5;241m=\u001b[39m \u001b[43mnp\u001b[49m\u001b[38;5;241m.\u001b[39marange(\u001b[38;5;241m0\u001b[39m, t_end, \u001b[38;5;241m0.1\u001b[39m)  \u001b[38;5;66;03m#(t_start, t_end, t_step)\u001b[39;00m\n\u001b[0;32m     21\u001b[0m \u001b[38;5;66;03m#solve the differential equation\u001b[39;00m\n\u001b[0;32m     22\u001b[0m sol \u001b[38;5;241m=\u001b[39m solve_ivp(fun, [t_span[\u001b[38;5;241m0\u001b[39m], t_span[\u001b[38;5;241m-\u001b[39m\u001b[38;5;241m1\u001b[39m]], y0, method\u001b[38;5;241m=\u001b[39m\u001b[38;5;124m'\u001b[39m\u001b[38;5;124mLSODA\u001b[39m\u001b[38;5;124m'\u001b[39m, t_eval\u001b[38;5;241m=\u001b[39mt_span, rtol\u001b[38;5;241m=\u001b[39m\u001b[38;5;241m1e-6\u001b[39m, atol\u001b[38;5;241m=\u001b[39m\u001b[38;5;241m1e-6\u001b[39m)\n",
      "\u001b[1;31mNameError\u001b[0m: name 'np' is not defined"
     ]
    }
   ],
   "source": [
    "\"\"\" Set Process Parameters for run generation \"\"\"\n",
    "R_0 = 0 #R at time 0\n",
    "R_m = 10 #Rm\n",
    "K = 0.5\n",
    "\n",
    "TIME_END = 5 #how much time should be simulated\n",
    "\n",
    "t, R , Y = solver(R_0, K, R_m, TIME_END) #run the solver function"
   ]
  },
  {
   "cell_type": "code",
   "execution_count": 4,
   "metadata": {
    "colab": {
     "base_uri": "https://localhost:8080/",
     "height": 1000
    },
    "id": "YryhIgGB7-d3",
    "outputId": "905efe0d-49be-4b9e-c475-295f4051b600"
   },
   "outputs": [
    {
     "ename": "NameError",
     "evalue": "name 'px' is not defined",
     "output_type": "error",
     "traceback": [
      "\u001b[1;31m---------------------------------------------------------------------------\u001b[0m",
      "\u001b[1;31mNameError\u001b[0m                                 Traceback (most recent call last)",
      "Cell \u001b[1;32mIn[4], line 2\u001b[0m\n\u001b[0;32m      1\u001b[0m \u001b[38;5;66;03m#create the result plots\u001b[39;00m\n\u001b[1;32m----> 2\u001b[0m fig \u001b[38;5;241m=\u001b[39m \u001b[43mpx\u001b[49m\u001b[38;5;241m.\u001b[39mline(x\u001b[38;5;241m=\u001b[39mt, y\u001b[38;5;241m=\u001b[39mR) \u001b[38;5;66;03m#plot time vs. R\u001b[39;00m\n\u001b[0;32m      3\u001b[0m fig2\u001b[38;5;241m=\u001b[39mpx\u001b[38;5;241m.\u001b[39mline(x\u001b[38;5;241m=\u001b[39mt, y\u001b[38;5;241m=\u001b[39mY) \u001b[38;5;66;03m#plot time vs. Y\u001b[39;00m\n\u001b[0;32m      5\u001b[0m \u001b[38;5;66;03m#Define the settings for the figures\u001b[39;00m\n",
      "\u001b[1;31mNameError\u001b[0m: name 'px' is not defined"
     ]
    }
   ],
   "source": [
    "#create the result plots\n",
    "fig = px.line(x=t, y=R) #plot time vs. R\n",
    "fig2=px.line(x=t, y=Y) #plot time vs. Y\n",
    "\n",
    "#Define the settings for the figures\n",
    "fig.update_layout(title=\"Evolution of R\",xaxis_title=\"t\",yaxis_title=\"R\",width=1000)\n",
    "fig2.update_layout(title=\"Evolution of Yield\",xaxis_title=\"t\",yaxis_title=\"Y (%)\", width=1000)\n",
    "\n",
    "#Display the figures\n",
    "fig.show()\n",
    "fig2.show()"
   ]
  },
  {
   "cell_type": "markdown",
   "metadata": {
    "id": "V7lbKvna_JZ6"
   },
   "source": [
    "## **High pressure homogeniser**"
   ]
  },
  {
   "cell_type": "code",
   "execution_count": 5,
   "metadata": {
    "id": "B-GL13YXEu9g"
   },
   "outputs": [],
   "source": [
    "def ode_fcn_hph(n, y, k, Rm, P, a):\n",
    "    # define parameters\n",
    "    R = y[0]\n",
    "\n",
    "    # mass balances\n",
    "    dR_dt = k*(P**a)*(Rm-R)\n",
    "    dy = [dR_dt]\n",
    "    return dy\n",
    "\n",
    "def solver_hph(R_0, k ,Rm , P, a ,N):\n",
    "    fun = lambda n, y: ode_fcn_hph(n,y,k,Rm, P, a)\n",
    "    y0 = [R_0]\n",
    "    N_span = np.arange(0, N+1, 1)\n",
    "    sol = solve_ivp(fun, [N_span[0], N_span[-1]], y0, method='LSODA', t_eval=N_span, rtol=1e-6, atol=1e-6)\n",
    "    n = sol.t.tolist()\n",
    "    y = sol.y.T\n",
    "    R = y[:, 0]\n",
    "    Y = y[:,0]/Rm*100\n",
    "\n",
    "    return n, R, Y\n"
   ]
  },
  {
   "cell_type": "code",
   "execution_count": 6,
   "metadata": {
    "colab": {
     "base_uri": "https://localhost:8080/",
     "height": 1000
    },
    "id": "OlXbmCHAF1CH",
    "outputId": "97bdcf02-30aa-4da2-c3c6-6501cc1688fa"
   },
   "outputs": [
    {
     "ename": "NameError",
     "evalue": "name 'make_subplots' is not defined",
     "output_type": "error",
     "traceback": [
      "\u001b[1;31m---------------------------------------------------------------------------\u001b[0m",
      "\u001b[1;31mNameError\u001b[0m                                 Traceback (most recent call last)",
      "Cell \u001b[1;32mIn[6], line 15\u001b[0m\n\u001b[0;32m     13\u001b[0m all_results \u001b[38;5;241m=\u001b[39m []\n\u001b[0;32m     14\u001b[0m \u001b[38;5;66;03m#open two figures\u001b[39;00m\n\u001b[1;32m---> 15\u001b[0m fig_hph \u001b[38;5;241m=\u001b[39m \u001b[43mmake_subplots\u001b[49m()\n\u001b[0;32m     16\u001b[0m fig2_hph \u001b[38;5;241m=\u001b[39m make_subplots()\n\u001b[0;32m     18\u001b[0m \u001b[38;5;66;03m#iterate the solver function for all p values\u001b[39;00m\n",
      "\u001b[1;31mNameError\u001b[0m: name 'make_subplots' is not defined"
     ]
    }
   ],
   "source": [
    "\"\"\" Set Process Parameters for run generation \"\"\"\n",
    "R_0_hph = 0\n",
    "R_m_hph = 100\n",
    "K_hph = 5.9e-4\n",
    "a = 1.77   #alpha=0.9-2.9 (2.2 E. coli; 2.9 S. cerevisiae)\n",
    "N=10\n",
    "\n",
    "#range of P to test\n",
    "P = [50, 75, 100, 125]\n",
    "\n",
    "\n",
    "#list to store the results of the iteration\n",
    "all_results = []\n",
    "#open two figures\n",
    "fig_hph = make_subplots()\n",
    "fig2_hph = make_subplots()\n",
    "\n",
    "#iterate the solver function for all p values\n",
    "for p in P:\n",
    "    n, R_hph, Y_hph = solver_hph(R_0_hph, K_hph, R_m_hph, p, a, N)\n",
    "    all_results.append((n, R_hph, Y_hph))\n",
    "\n",
    "    #add result for current P to the figures\n",
    "    fig_hph.add_trace(go.Scatter(x=n,y=R_hph, mode='markers+lines',name=p))\n",
    "    fig2_hph.add_trace(go.Scatter(x=n,y=Y_hph, mode='markers+lines',name=p))\n",
    "\n",
    "#Define the settings for the figures\n",
    "fig_hph.update_layout(showlegend=True,legend_title='Pressure', title=\"Evolution of R\",xaxis_title=\"N\",yaxis_title=\"R\",width=1000)\n",
    "fig2_hph.update_layout(showlegend=True,legend_title='Pressure', title=\"Evolution of Yield\",xaxis_title=\"N\",yaxis_title=\"Y (%)\",width=1000)\n",
    "\n",
    "#Display the figures\n",
    "fig_hph.show()\n",
    "fig2_hph.show()\n",
    "\n"
   ]
  },
  {
   "cell_type": "code",
   "execution_count": null,
   "metadata": {
    "id": "3JAfgHhOH9Vp"
   },
   "outputs": [],
   "source": []
  }
 ],
 "metadata": {
  "colab": {
   "provenance": []
  },
  "kernelspec": {
   "display_name": "Python 3",
   "name": "python3"
  },
  "language_info": {
   "codemirror_mode": {
    "name": "ipython",
    "version": 3
   },
   "file_extension": ".py",
   "mimetype": "text/x-python",
   "name": "python",
   "nbconvert_exporter": "python",
   "pygments_lexer": "ipython3",
   "version": "3.11.9"
  }
 },
 "nbformat": 4,
 "nbformat_minor": 0
}